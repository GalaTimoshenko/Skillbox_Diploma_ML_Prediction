{
 "cells": [
  {
   "cell_type": "markdown",
   "metadata": {
    "id": "R3nCfEEi9HHg"
   },
   "source": [
    "# **ВТОРАЯ ЧАСТЬ  - МОДЕЛИРОВАНИЕ'**\n",
    "\n",
    "---\n",
    "\n",
    "*   2) Data modelling Предсказание совершение целевого действия(ориентировочное значение ROC-AUC ~ 0.65) — факт совершения пользователей целевого действия.Разработать модель предсказания совершения одного из целевых действий (\"Заказать звонок\", \"Оставить заявку\") для сессий по введенным атрибутам типа utm_, device_, geo_* и упаковать модель в сервис.\n",
    "\n",
    "\n",
    "*   3) Deployment Упаковка получившейся модели в сервис, который будет брать на вход все атрибуты, типа utm_*, device_*, geo_*, и отдавать на выход 0/1 (1 — если пользователь совершит любое целевое действие)\n",
    "\n",
    "*   4) Подговка получившихся артефактов, проверка их на соответствие итоговым критериям оценки \n",
    "\n",
    "\n",
    "\n",
    "\n",
    "Целевая метрика: ориентировочное значение roc-auc > 0.65 — факт совершения пользователем целевого действия.\n",
    "\n",
    "Формат вывода ответа - 0/1\n",
    "\n",
    "Скорость ответа сервиса - не более 3 секунд\n",
    "\n",
    "Сервис - это должен быть (минимум) - py-скрипт с инструкцией по запуску, (максимум) - localhost web app.\n",
    "\n",
    "\n"
   ]
  },
  {
   "cell_type": "markdown",
   "metadata": {
    "id": "458QNctr9F6n"
   },
   "source": [
    "# **ИМПОРТ БИБЛИОТЕК**\n",
    "\n",
    "---"
   ]
  },
  {
   "cell_type": "code",
   "execution_count": 1,
   "metadata": {
    "colab": {
     "base_uri": "https://localhost:8080/"
    },
    "id": "V2o5zuraGrJC",
    "outputId": "c84305e7-038e-48cc-afc8-0f8a144af09d"
   },
   "outputs": [
    {
     "name": "stdout",
     "output_type": "stream",
     "text": [
      "Requirement already satisfied: xgboost in /home/sgm/anaconda3/lib/python3.9/site-packages (1.7.5)\n",
      "Requirement already satisfied: scipy in /home/sgm/anaconda3/lib/python3.9/site-packages (from xgboost) (1.7.1)\n",
      "Requirement already satisfied: numpy in /home/sgm/anaconda3/lib/python3.9/site-packages (from xgboost) (1.21.5)\n",
      "Requirement already satisfied: lightgbm in /home/sgm/anaconda3/lib/python3.9/site-packages (3.3.5)\n",
      "Requirement already satisfied: wheel in /home/sgm/anaconda3/lib/python3.9/site-packages (from lightgbm) (0.37.1)\n",
      "Requirement already satisfied: scipy in /home/sgm/anaconda3/lib/python3.9/site-packages (from lightgbm) (1.7.1)\n",
      "Requirement already satisfied: scikit-learn!=0.22.0 in /home/sgm/anaconda3/lib/python3.9/site-packages (from lightgbm) (1.0.2)\n",
      "Requirement already satisfied: numpy in /home/sgm/anaconda3/lib/python3.9/site-packages (from lightgbm) (1.21.5)\n",
      "Requirement already satisfied: joblib>=0.11 in /home/sgm/anaconda3/lib/python3.9/site-packages (from scikit-learn!=0.22.0->lightgbm) (1.1.0)\n",
      "Requirement already satisfied: threadpoolctl>=2.0.0 in /home/sgm/anaconda3/lib/python3.9/site-packages (from scikit-learn!=0.22.0->lightgbm) (2.2.0)\n",
      "Requirement already satisfied: bayesian-optimization in /home/sgm/anaconda3/lib/python3.9/site-packages (1.4.2)\n",
      "Requirement already satisfied: scikit-learn>=0.18.0 in /home/sgm/anaconda3/lib/python3.9/site-packages (from bayesian-optimization) (1.0.2)\n",
      "Requirement already satisfied: scipy>=1.0.0 in /home/sgm/anaconda3/lib/python3.9/site-packages (from bayesian-optimization) (1.7.1)\n",
      "Requirement already satisfied: colorama>=0.4.6 in /home/sgm/anaconda3/lib/python3.9/site-packages (from bayesian-optimization) (0.4.6)\n",
      "Requirement already satisfied: numpy>=1.9.0 in /home/sgm/anaconda3/lib/python3.9/site-packages (from bayesian-optimization) (1.21.5)\n",
      "Requirement already satisfied: joblib>=0.11 in /home/sgm/anaconda3/lib/python3.9/site-packages (from scikit-learn>=0.18.0->bayesian-optimization) (1.1.0)\n",
      "Requirement already satisfied: threadpoolctl>=2.0.0 in /home/sgm/anaconda3/lib/python3.9/site-packages (from scikit-learn>=0.18.0->bayesian-optimization) (2.2.0)\n",
      "Requirement already satisfied: feature-engine in /home/sgm/anaconda3/lib/python3.9/site-packages (1.6.0)\n",
      "Requirement already satisfied: statsmodels>=0.11.1 in /home/sgm/anaconda3/lib/python3.9/site-packages (from feature-engine) (0.13.2)\n",
      "Requirement already satisfied: numpy>=1.18.2 in /home/sgm/anaconda3/lib/python3.9/site-packages (from feature-engine) (1.21.5)\n",
      "Requirement already satisfied: scipy>=1.4.1 in /home/sgm/anaconda3/lib/python3.9/site-packages (from feature-engine) (1.7.1)\n",
      "Requirement already satisfied: pandas>=1.0.3 in /home/sgm/anaconda3/lib/python3.9/site-packages (from feature-engine) (1.4.4)\n",
      "Requirement already satisfied: scikit-learn>=1.0.0 in /home/sgm/anaconda3/lib/python3.9/site-packages (from feature-engine) (1.0.2)\n",
      "Requirement already satisfied: python-dateutil>=2.8.1 in /home/sgm/anaconda3/lib/python3.9/site-packages (from pandas>=1.0.3->feature-engine) (2.8.2)\n",
      "Requirement already satisfied: pytz>=2020.1 in /home/sgm/anaconda3/lib/python3.9/site-packages (from pandas>=1.0.3->feature-engine) (2022.6)\n",
      "Requirement already satisfied: joblib>=0.11 in /home/sgm/anaconda3/lib/python3.9/site-packages (from scikit-learn>=1.0.0->feature-engine) (1.1.0)\n",
      "Requirement already satisfied: threadpoolctl>=2.0.0 in /home/sgm/anaconda3/lib/python3.9/site-packages (from scikit-learn>=1.0.0->feature-engine) (2.2.0)\n",
      "Requirement already satisfied: packaging>=21.3 in /home/sgm/anaconda3/lib/python3.9/site-packages (from statsmodels>=0.11.1->feature-engine) (21.3)\n",
      "Requirement already satisfied: patsy>=0.5.2 in /home/sgm/anaconda3/lib/python3.9/site-packages (from statsmodels>=0.11.1->feature-engine) (0.5.2)\n",
      "Requirement already satisfied: pyparsing!=3.0.5,>=2.0.2 in /home/sgm/anaconda3/lib/python3.9/site-packages (from packaging>=21.3->statsmodels>=0.11.1->feature-engine) (3.0.9)\n",
      "Requirement already satisfied: six in /home/sgm/anaconda3/lib/python3.9/site-packages (from patsy>=0.5.2->statsmodels>=0.11.1->feature-engine) (1.16.0)\n",
      "Requirement already satisfied: bayesian-optimization in /home/sgm/anaconda3/lib/python3.9/site-packages (1.4.2)\n",
      "Requirement already satisfied: scipy>=1.0.0 in /home/sgm/anaconda3/lib/python3.9/site-packages (from bayesian-optimization) (1.7.1)\n",
      "Requirement already satisfied: colorama>=0.4.6 in /home/sgm/anaconda3/lib/python3.9/site-packages (from bayesian-optimization) (0.4.6)\n",
      "Requirement already satisfied: scikit-learn>=0.18.0 in /home/sgm/anaconda3/lib/python3.9/site-packages (from bayesian-optimization) (1.0.2)\n",
      "Requirement already satisfied: numpy>=1.9.0 in /home/sgm/anaconda3/lib/python3.9/site-packages (from bayesian-optimization) (1.21.5)\n",
      "Requirement already satisfied: threadpoolctl>=2.0.0 in /home/sgm/anaconda3/lib/python3.9/site-packages (from scikit-learn>=0.18.0->bayesian-optimization) (2.2.0)\n",
      "Requirement already satisfied: joblib>=0.11 in /home/sgm/anaconda3/lib/python3.9/site-packages (from scikit-learn>=0.18.0->bayesian-optimization) (1.1.0)\n",
      "Requirement already satisfied: colorama in /home/sgm/anaconda3/lib/python3.9/site-packages (0.4.6)\n"
     ]
    }
   ],
   "source": [
    "!pip install xgboost \n",
    "!pip install lightgbm \n",
    "!pip install bayesian-optimization\n",
    "!pip install feature-engine\n",
    "!pip install bayesian-optimization\n",
    "!pip install colorama\n",
    "\n",
    "\n",
    "\n",
    "import scipy\n",
    "import sys\n",
    "from datetime import datetime\n",
    "import warnings\n",
    "from pathlib import Path\n",
    "from typing import Union\n",
    "from functools import partial\n",
    "import time\n",
    "import os\n",
    "import warnings\n",
    "warnings.filterwarnings('ignore')\n",
    "\n",
    "# препроцессинг и метрики\n",
    "\n",
    "from matplotlib import pyplot\n",
    "import seaborn as sns\n",
    "import pandas as pd\n",
    "import numpy as np\n",
    "import scipy.stats as stats\n",
    "from sklearn.preprocessing import FunctionTransformer, StandardScaler\n",
    "from sklearn.model_selection import (\n",
    "    train_test_split, GridSearchCV, StratifiedKFold)\n",
    "from sklearn.metrics import (\n",
    "    roc_auc_score, accuracy_score, confusion_matrix, precision_score, \n",
    "    recall_score, f1_score, make_scorer, roc_curve)\n",
    "from sklearn.pipeline import Pipeline\n",
    "from feature_engine.encoding import RareLabelEncoder, OneHotEncoder\n",
    "from feature_engine.wrappers import SklearnTransformerWrapper\n",
    "from feature_engine.outliers import Winsorizer\n",
    "from feature_engine.selection import (\n",
    "    DropDuplicateFeatures, DropConstantFeatures, \n",
    "    DropCorrelatedFeatures, DropFeatures)\n",
    "from feature_engine.transformation import YeoJohnsonTransformer\n",
    "from bayes_opt import BayesianOptimization\n",
    "\n",
    "# модели\n",
    "from sklearn.base import BaseEstimator\n",
    "from sklearn.dummy import DummyClassifier\n",
    "from sklearn.linear_model import LogisticRegression\n",
    "from sklearn.neighbors import KNeighborsClassifier\n",
    "from sklearn.neural_network import MLPClassifier\n",
    "from sklearn.svm import LinearSVC\n",
    "from sklearn.naive_bayes import GaussianNB\n",
    "from sklearn.tree import DecisionTreeClassifier\n",
    "from sklearn.ensemble import (\n",
    "    RandomForestClassifier, HistGradientBoostingClassifier)\n",
    "from catboost import CatBoostClassifier\n",
    "from xgboost import XGBClassifier\n",
    "from lightgbm import LGBMClassifier"
   ]
  },
  {
   "cell_type": "markdown",
   "metadata": {
    "id": "Lf9ySaQ2N2wh"
   },
   "source": [
    "# Загрузка датасет sessions.csv с колонкой target"
   ]
  },
  {
   "cell_type": "code",
   "execution_count": 2,
   "metadata": {
    "id": "DfdICFH5N2wh",
    "outputId": "e9a6bb66-9864-41e2-91d7-1fb88498117d",
    "scrolled": true
   },
   "outputs": [
    {
     "name": "stdout",
     "output_type": "stream",
     "text": [
      "Датасет сеансов успешно прочитан из файла ga_sessions.csv, \n",
      "Размеры датасета: (1226382, 29), \n",
      "Время чтения файла в датасет: 2.898\n"
     ]
    }
   ],
   "source": [
    "path = os.path.expanduser('~/PycharmProjects/FinalFantasyProj/')\n",
    "start = time.time() # включим таймер для подсчета времени чтения файла в датасет\n",
    "df_session = pd.read_csv(path + 'df_sessions_prepared_for_modelling.csv', low_memory=False)\n",
    "elapsed_time = time.time() - start # зафиксируем время чтения файлма в датасет\n",
    "print(f'Датасет сеансов успешно прочитан из файла ga_sessions.csv, \\nРазмеры датасета: {df_session.shape}, \\nВремя чтения файла в датасет: {elapsed_time:.3f}')"
   ]
  },
  {
   "cell_type": "markdown",
   "metadata": {
    "id": "n5QeE0mS72vw"
   },
   "source": [
    "# ПОДГОТОВКА К МОДЕЛИРОВАНИЮ\n",
    "\n",
    "---\n",
    "Существуют различные способы повышения качества работы моделей машинного обучения. Одним из таких способов является создание новых признаков. в блокноте 1 части создались такие новые признаки как \n",
    "car_brand\n",
    "car_model\n",
    "visit_date_day\n",
    "visit_time_hour\n",
    "visit_time_night\n",
    "visit_number_no_outliers\n",
    "device_screen_width\n",
    "device_screen_height\n",
    "device_screen_area\n",
    "device_screen_ratio\n",
    "\n",
    "\n"
   ]
  },
  {
   "cell_type": "code",
   "execution_count": 3,
   "metadata": {},
   "outputs": [
    {
     "data": {
      "text/html": [
       "<div>\n",
       "<style scoped>\n",
       "    .dataframe tbody tr th:only-of-type {\n",
       "        vertical-align: middle;\n",
       "    }\n",
       "\n",
       "    .dataframe tbody tr th {\n",
       "        vertical-align: top;\n",
       "    }\n",
       "\n",
       "    .dataframe thead th {\n",
       "        text-align: right;\n",
       "    }\n",
       "</style>\n",
       "<table border=\"1\" class=\"dataframe\">\n",
       "  <thead>\n",
       "    <tr style=\"text-align: right;\">\n",
       "      <th></th>\n",
       "      <th>session_id</th>\n",
       "      <th>target</th>\n",
       "    </tr>\n",
       "  </thead>\n",
       "  <tbody>\n",
       "    <tr>\n",
       "      <th>0</th>\n",
       "      <td>9055446045651783499.1640648526.1640648526</td>\n",
       "      <td>0</td>\n",
       "    </tr>\n",
       "    <tr>\n",
       "      <th>1</th>\n",
       "      <td>9055447046360770272.1622255345.1622255345</td>\n",
       "      <td>0</td>\n",
       "    </tr>\n",
       "    <tr>\n",
       "      <th>2</th>\n",
       "      <td>9055447192389856083.1622453074.1622453074</td>\n",
       "      <td>0</td>\n",
       "    </tr>\n",
       "    <tr>\n",
       "      <th>3</th>\n",
       "      <td>9055455318486370642.1640843788.1640843788</td>\n",
       "      <td>0</td>\n",
       "    </tr>\n",
       "    <tr>\n",
       "      <th>4</th>\n",
       "      <td>9055461992850812764.1626107740.1626107740</td>\n",
       "      <td>0</td>\n",
       "    </tr>\n",
       "    <tr>\n",
       "      <th>...</th>\n",
       "      <td>...</td>\n",
       "      <td>...</td>\n",
       "    </tr>\n",
       "    <tr>\n",
       "      <th>1226377</th>\n",
       "      <td>9055422955903931195.1636979515.1636979515</td>\n",
       "      <td>0</td>\n",
       "    </tr>\n",
       "    <tr>\n",
       "      <th>1226378</th>\n",
       "      <td>9055422955903931195.1636979515.1636979515</td>\n",
       "      <td>0</td>\n",
       "    </tr>\n",
       "    <tr>\n",
       "      <th>1226379</th>\n",
       "      <td>9055422955903931195.1636979515.1636979515</td>\n",
       "      <td>0</td>\n",
       "    </tr>\n",
       "    <tr>\n",
       "      <th>1226380</th>\n",
       "      <td>9055430416266113553.1640968742.1640968742</td>\n",
       "      <td>0</td>\n",
       "    </tr>\n",
       "    <tr>\n",
       "      <th>1226381</th>\n",
       "      <td>9055430416266113553.1640968742.1640968742</td>\n",
       "      <td>0</td>\n",
       "    </tr>\n",
       "  </tbody>\n",
       "</table>\n",
       "<p>1226382 rows × 2 columns</p>\n",
       "</div>"
      ],
      "text/plain": [
       "                                        session_id  target\n",
       "0        9055446045651783499.1640648526.1640648526       0\n",
       "1        9055447046360770272.1622255345.1622255345       0\n",
       "2        9055447192389856083.1622453074.1622453074       0\n",
       "3        9055455318486370642.1640843788.1640843788       0\n",
       "4        9055461992850812764.1626107740.1626107740       0\n",
       "...                                            ...     ...\n",
       "1226377  9055422955903931195.1636979515.1636979515       0\n",
       "1226378  9055422955903931195.1636979515.1636979515       0\n",
       "1226379  9055422955903931195.1636979515.1636979515       0\n",
       "1226380  9055430416266113553.1640968742.1640968742       0\n",
       "1226381  9055430416266113553.1640968742.1640968742       0\n",
       "\n",
       "[1226382 rows x 2 columns]"
      ]
     },
     "execution_count": 3,
     "metadata": {},
     "output_type": "execute_result"
    }
   ],
   "source": [
    "target = df_session[['session_id', 'target']]\n",
    "target"
   ]
  },
  {
   "cell_type": "code",
   "execution_count": 4,
   "metadata": {
    "scrolled": true
   },
   "outputs": [
    {
     "name": "stdout",
     "output_type": "stream",
     "text": [
      "<class 'pandas.core.frame.DataFrame'>\n",
      "RangeIndex: 1226382 entries, 0 to 1226381\n",
      "Data columns (total 18 columns):\n",
      " #   Column                                  Non-Null Count    Dtype  \n",
      "---  ------                                  --------------    -----  \n",
      " 0   device_category                         1226382 non-null  object \n",
      " 1   device_browser                          1226382 non-null  object \n",
      " 2   target                                  1226382 non-null  int64  \n",
      " 3   car_brand                               1226382 non-null  object \n",
      " 4   visit_date_weekday                      1226382 non-null  int64  \n",
      " 5   visit_date_month                        1226382 non-null  int64  \n",
      " 6   visit_date_weekend                      1226382 non-null  bool   \n",
      " 7   visit_date_day                          1226382 non-null  int64  \n",
      " 8   visit_time_hour                         1226382 non-null  int64  \n",
      " 9   visit_time_night                        1226382 non-null  bool   \n",
      " 10  device_screen_width                     1226382 non-null  int64  \n",
      " 11  device_screen_height                    1226382 non-null  int64  \n",
      " 12  device_screen_area                      1226382 non-null  int64  \n",
      " 13  device_screen_ratio                     1226382 non-null  float64\n",
      " 14  geo_country_is_russia                   1226382 non-null  bool   \n",
      " 15  geo_city_is_big                         1226382 non-null  bool   \n",
      " 16  geo_city_distance_from_moscow           1226382 non-null  float64\n",
      " 17  geo_city_distance_from_moscow_category  1226382 non-null  object \n",
      "dtypes: bool(4), float64(2), int64(8), object(4)\n",
      "memory usage: 135.7+ MB\n",
      "None\n"
     ]
    }
   ],
   "source": [
    "df_session.describe(include='all')\n",
    "#удалим категориальные колонки, которые не будем преобразовывать в OHE\n",
    "df_session = df_session.drop(['session_id', 'visit_number', 'utm_source', 'utm_medium', 'utm_campaign',\n",
    "                             'utm_adcontent', 'device_brand', 'device_screen_resolution', \n",
    "                             'geo_country', 'geo_city', 'car_model'], axis=1)\n",
    "print(df_session.info())"
   ]
  },
  {
   "cell_type": "code",
   "execution_count": 5,
   "metadata": {},
   "outputs": [
    {
     "data": {
      "text/html": [
       "<div>\n",
       "<style scoped>\n",
       "    .dataframe tbody tr th:only-of-type {\n",
       "        vertical-align: middle;\n",
       "    }\n",
       "\n",
       "    .dataframe tbody tr th {\n",
       "        vertical-align: top;\n",
       "    }\n",
       "\n",
       "    .dataframe thead th {\n",
       "        text-align: right;\n",
       "    }\n",
       "</style>\n",
       "<table border=\"1\" class=\"dataframe\">\n",
       "  <thead>\n",
       "    <tr style=\"text-align: right;\">\n",
       "      <th></th>\n",
       "      <th>target</th>\n",
       "      <th>visit_date_weekday</th>\n",
       "      <th>visit_date_month</th>\n",
       "      <th>visit_date_day</th>\n",
       "      <th>visit_time_hour</th>\n",
       "      <th>device_screen_width</th>\n",
       "      <th>device_screen_height</th>\n",
       "      <th>device_screen_area</th>\n",
       "      <th>device_screen_ratio</th>\n",
       "      <th>geo_city_distance_from_moscow</th>\n",
       "    </tr>\n",
       "  </thead>\n",
       "  <tbody>\n",
       "    <tr>\n",
       "      <th>count</th>\n",
       "      <td>1226382.00000</td>\n",
       "      <td>1226382.00000</td>\n",
       "      <td>1226382.00000</td>\n",
       "      <td>1226382.00000</td>\n",
       "      <td>1226382.00000</td>\n",
       "      <td>1226382.00000</td>\n",
       "      <td>1226382.00000</td>\n",
       "      <td>1226382.00000</td>\n",
       "      <td>1226382.00000</td>\n",
       "      <td>1226382.00000</td>\n",
       "    </tr>\n",
       "    <tr>\n",
       "      <th>mean</th>\n",
       "      <td>0.04354</td>\n",
       "      <td>2.79933</td>\n",
       "      <td>9.68030</td>\n",
       "      <td>17.18616</td>\n",
       "      <td>13.74962</td>\n",
       "      <td>707.70650</td>\n",
       "      <td>862.08432</td>\n",
       "      <td>671335.10192</td>\n",
       "      <td>0.77833</td>\n",
       "      <td>528.46869</td>\n",
       "    </tr>\n",
       "    <tr>\n",
       "      <th>std</th>\n",
       "      <td>0.20407</td>\n",
       "      <td>1.98127</td>\n",
       "      <td>2.15346</td>\n",
       "      <td>8.68806</td>\n",
       "      <td>6.12205</td>\n",
       "      <td>594.65453</td>\n",
       "      <td>154.62452</td>\n",
       "      <td>730411.86057</td>\n",
       "      <td>0.53899</td>\n",
       "      <td>970.96074</td>\n",
       "    </tr>\n",
       "    <tr>\n",
       "      <th>min</th>\n",
       "      <td>0.00000</td>\n",
       "      <td>0.00000</td>\n",
       "      <td>5.00000</td>\n",
       "      <td>1.00000</td>\n",
       "      <td>0.00000</td>\n",
       "      <td>180.00000</td>\n",
       "      <td>256.00000</td>\n",
       "      <td>57600.00000</td>\n",
       "      <td>0.32956</td>\n",
       "      <td>-1.00000</td>\n",
       "    </tr>\n",
       "    <tr>\n",
       "      <th>25%</th>\n",
       "      <td>0.00000</td>\n",
       "      <td>1.00000</td>\n",
       "      <td>8.00000</td>\n",
       "      <td>10.00000</td>\n",
       "      <td>10.00000</td>\n",
       "      <td>375.00000</td>\n",
       "      <td>780.00000</td>\n",
       "      <td>288000.00000</td>\n",
       "      <td>0.46182</td>\n",
       "      <td>0.00000</td>\n",
       "    </tr>\n",
       "    <tr>\n",
       "      <th>50%</th>\n",
       "      <td>0.00000</td>\n",
       "      <td>3.00000</td>\n",
       "      <td>10.00000</td>\n",
       "      <td>18.00000</td>\n",
       "      <td>14.00000</td>\n",
       "      <td>412.00000</td>\n",
       "      <td>851.00000</td>\n",
       "      <td>343089.00000</td>\n",
       "      <td>0.46220</td>\n",
       "      <td>19.15257</td>\n",
       "    </tr>\n",
       "    <tr>\n",
       "      <th>75%</th>\n",
       "      <td>0.00000</td>\n",
       "      <td>4.00000</td>\n",
       "      <td>11.00000</td>\n",
       "      <td>25.00000</td>\n",
       "      <td>19.00000</td>\n",
       "      <td>640.00000</td>\n",
       "      <td>900.00000</td>\n",
       "      <td>456036.00000</td>\n",
       "      <td>0.62529</td>\n",
       "      <td>636.16951</td>\n",
       "    </tr>\n",
       "    <tr>\n",
       "      <th>max</th>\n",
       "      <td>1.00000</td>\n",
       "      <td>6.00000</td>\n",
       "      <td>12.00000</td>\n",
       "      <td>31.00000</td>\n",
       "      <td>23.00000</td>\n",
       "      <td>5760.00000</td>\n",
       "      <td>5120.00000</td>\n",
       "      <td>20971520.00000</td>\n",
       "      <td>5.33333</td>\n",
       "      <td>6798.01868</td>\n",
       "    </tr>\n",
       "  </tbody>\n",
       "</table>\n",
       "</div>"
      ],
      "text/plain": [
       "             target  visit_date_weekday  visit_date_month  visit_date_day  \\\n",
       "count 1226382.00000       1226382.00000     1226382.00000   1226382.00000   \n",
       "mean        0.04354             2.79933           9.68030        17.18616   \n",
       "std         0.20407             1.98127           2.15346         8.68806   \n",
       "min         0.00000             0.00000           5.00000         1.00000   \n",
       "25%         0.00000             1.00000           8.00000        10.00000   \n",
       "50%         0.00000             3.00000          10.00000        18.00000   \n",
       "75%         0.00000             4.00000          11.00000        25.00000   \n",
       "max         1.00000             6.00000          12.00000        31.00000   \n",
       "\n",
       "       visit_time_hour  device_screen_width  device_screen_height  \\\n",
       "count    1226382.00000        1226382.00000         1226382.00000   \n",
       "mean          13.74962            707.70650             862.08432   \n",
       "std            6.12205            594.65453             154.62452   \n",
       "min            0.00000            180.00000             256.00000   \n",
       "25%           10.00000            375.00000             780.00000   \n",
       "50%           14.00000            412.00000             851.00000   \n",
       "75%           19.00000            640.00000             900.00000   \n",
       "max           23.00000           5760.00000            5120.00000   \n",
       "\n",
       "       device_screen_area  device_screen_ratio  geo_city_distance_from_moscow  \n",
       "count       1226382.00000        1226382.00000                  1226382.00000  \n",
       "mean         671335.10192              0.77833                      528.46869  \n",
       "std          730411.86057              0.53899                      970.96074  \n",
       "min           57600.00000              0.32956                       -1.00000  \n",
       "25%          288000.00000              0.46182                        0.00000  \n",
       "50%          343089.00000              0.46220                       19.15257  \n",
       "75%          456036.00000              0.62529                      636.16951  \n",
       "max        20971520.00000              5.33333                     6798.01868  "
      ]
     },
     "execution_count": 5,
     "metadata": {},
     "output_type": "execute_result"
    }
   ],
   "source": [
    "pd.options.display.float_format = '{:.5f}'.format\n",
    "df_session.describe()"
   ]
  },
  {
   "cell_type": "code",
   "execution_count": 6,
   "metadata": {},
   "outputs": [],
   "source": [
    "#Сделаем преобразования в колонке device_browser для дальнейшего OHE моделирования\n",
    "df_session['device_browser'].value_counts()\n",
    "df_session.loc[df_session['device_browser'] == '(not set)', 'device_browser'] = df_session['device_browser'].apply(lambda x: 'Chrome')\n",
    "df_session.loc[df_session['device_browser'] == 'Instagram 208.0.0.32.135 Android', 'device_browser'] = df_session['device_browser'].apply(lambda x: 'Instagram')\n",
    "df_session.loc[df_session['device_browser'] == 'Instagram 209.0.0.21.119 Android', 'device_browser'] = df_session['device_browser'].apply(lambda x: 'Instagram')\n",
    "df_session.loc[df_session['device_browser'] == 'Instagram 207.0.0.28.118', 'device_browser'] = df_session['device_browser'].apply(lambda x: 'Instagram')\n",
    "df_session.loc[df_session['device_browser'] == 'Instagram 216.0.0.12.135', 'device_browser'] = df_session['device_browser'].apply(lambda x: 'Instagram')\n",
    "df_session.loc[df_session['device_browser'] == 'Instagram 216.1.0.21.137 Android', 'device_browser'] = df_session['device_browser'].apply(lambda x: 'Instagram')\n",
    "df_session.loc[df_session['device_browser'] == 'Instagram 208.0.0.26.131', 'device_browser'] = df_session['device_browser'].apply(lambda x: 'Instagram')\n",
    "df_session.loc[df_session['device_browser'] == 'Mozilla Compatible Agent', 'device_browser'] = df_session['device_browser'].apply(lambda x: 'Mozilla')\n",
    "df_session.loc[df_session['device_browser'] == 'Coc Coc', 'device_browser'] = df_session['device_browser'].apply(lambda x: 'other')\n",
    "df_session.loc[df_session['device_browser'] == 'Konqueror', 'device_browser'] = df_session['device_browser'].apply(lambda x: 'other')\n",
    "df_session.loc[df_session['device_browser'] == 'Nokia501', 'device_browser'] = df_session['device_browser'].apply(lambda x: 'other')\n",
    "df_session.loc[df_session['device_browser'] == 'NokiaX2-02', 'device_browser'] = df_session['device_browser'].apply(lambda x: 'other')\n",
    "df_session.loc[df_session['device_browser'] == 'MyApp', 'device_browser'] = df_session['device_browser'].apply(lambda x: 'other')\n",
    "df_session.loc[df_session['device_browser'] == 'SeaMonkey', 'device_browser'] = df_session['device_browser'].apply(lambda x: 'other')\n",
    "df_session.loc[df_session['device_browser'] == 'Android Browser', 'device_browser'] = df_session['device_browser'].apply(lambda x: 'Android Webview')\n",
    "df_session.loc[df_session['device_browser'] == 'Opera Mini', 'device_browser'] = df_session['device_browser'].apply(lambda x: 'Opera')\n",
    "df_session.loc[df_session['device_browser'] == '[FBAN', 'device_browser'] = df_session['device_browser'].apply(lambda x: 'FBAN')\n",
    "df_session.loc[df_session['device_browser'] == 'Amazon Silk', 'device_browser'] = df_session['device_browser'].apply(lambda x: 'other')\n",
    "df_session.loc[df_session['device_browser'] == 'Maxthon', 'device_browser'] = df_session['device_browser'].apply(lambda x: 'other')\n",
    "df_session.loc[df_session['device_browser'] == 'helloworld', 'device_browser'] = df_session['device_browser'].apply(lambda x: 'other')\n",
    "df_session.loc[df_session['device_browser'] == 'MRCHROME', 'device_browser'] = df_session['device_browser'].apply(lambda x: 'Chrome')\n",
    "df_session.loc[df_session['device_browser'] == 'Android Runtime', 'device_browser'] = df_session['device_browser'].apply(lambda x: 'Android Webview')"
   ]
  },
  {
   "cell_type": "code",
   "execution_count": 7,
   "metadata": {},
   "outputs": [
    {
     "data": {
      "text/plain": [
       "Chrome               612818\n",
       "Safari               355027\n",
       "YaBrowser             97515\n",
       "Safari (in-app)       59738\n",
       "Android Webview       37767\n",
       "Samsung Internet      17960\n",
       "Opera                 15252\n",
       "Firefox               14998\n",
       "Edge                  14591\n",
       "UC Browser              361\n",
       "Instagram               135\n",
       "FBAN                    109\n",
       "Mozilla                  54\n",
       "other                    27\n",
       "Puffin                   17\n",
       "Internet Explorer        13\n",
       "Name: device_browser, dtype: int64"
      ]
     },
     "execution_count": 7,
     "metadata": {},
     "output_type": "execute_result"
    }
   ],
   "source": [
    "df_session['device_browser'].value_counts()"
   ]
  },
  {
   "cell_type": "markdown",
   "metadata": {},
   "source": [
    "## Square, sqrt & log of numerical columns"
   ]
  },
  {
   "cell_type": "code",
   "execution_count": 8,
   "metadata": {},
   "outputs": [],
   "source": [
    "def sqr_sqrt_log_features_transform(df_session: pd.DataFrame,\n",
    "                                    sqr_miss: list=None,\n",
    "                                    sqrt_miss: list=None,\n",
    "                                    log_miss: list=None,\n",
    "                                   ) -> pd.DataFrame:\n",
    "    \"\"\"\n",
    "    Function transforms dataset adding squares, square roots and logarithm of numerical features\n",
    "    \n",
    "    :param df:  input data frame\n",
    "    :sqr_miss:  columns, that should be missed for square feature generation\n",
    "    :sqrt_miss: columns, that should be missed for square root feature generation\n",
    "    :log_miss:  columns, that should be missed for logarithm feature generation\n",
    "    \n",
    "    :return:    dataframe with added features\n",
    "    \"\"\"\n",
    "    \n",
    "    df = df_session.copy()\n",
    "    numeric_cols = df.select_dtypes(include=[np.number]).columns\n",
    "    for col in numeric_cols:\n",
    "        if ~np.isin(col, sqrt_miss):\n",
    "            df[f'{col}_sqr'] = np.square(df[col])\n",
    "        if ~np.isin(col, sqrt_miss):\n",
    "            df[f'{col}_sqrt'] = np.sqrt(df[col])\n",
    "        if ~np.isin(col, log_miss):\n",
    "            df[f'{col}_log'] = np.log(df[col] + 0.01)    \n",
    "    return df"
   ]
  },
  {
   "cell_type": "code",
   "execution_count": 9,
   "metadata": {},
   "outputs": [
    {
     "data": {
      "text/plain": [
       "(1226382, 45)"
      ]
     },
     "execution_count": 9,
     "metadata": {},
     "output_type": "execute_result"
    }
   ],
   "source": [
    "df_session = sqr_sqrt_log_features_transform(df_session, \n",
    "                                       sqr_miss=['target'],\n",
    "                                       sqrt_miss=['target'],\n",
    "                                       log_miss=['target'],\n",
    "                                     )\n",
    "df_session.shape"
   ]
  },
  {
   "cell_type": "markdown",
   "metadata": {
    "id": "dhKOAHW-BMRK"
   },
   "source": [
    "# FEATURE GENERATION"
   ]
  },
  {
   "cell_type": "code",
   "execution_count": 10,
   "metadata": {},
   "outputs": [],
   "source": [
    "for_ohe=df_session[['device_category', 'car_brand', 'visit_time_night', \n",
    "                    'geo_country_is_russia', 'geo_city_is_big', 'visit_date_weekend',\n",
    "                    'geo_city_distance_from_moscow_category', 'device_browser']]"
   ]
  },
  {
   "cell_type": "code",
   "execution_count": 11,
   "metadata": {},
   "outputs": [
    {
     "data": {
      "text/plain": [
       "(1226382, 97)"
      ]
     },
     "execution_count": 11,
     "metadata": {},
     "output_type": "execute_result"
    }
   ],
   "source": [
    "from sklearn.preprocessing import OneHotEncoder\n",
    "ohe = OneHotEncoder(sparse=False)\n",
    "ohe.fit(for_ohe)\n",
    "ohe.get_feature_names()\n",
    "ohe_categor = ohe.transform(for_ohe)\n",
    "df_session[ohe.get_feature_names()] = ohe_categor\n",
    "df_session.shape"
   ]
  },
  {
   "cell_type": "code",
   "execution_count": 12,
   "metadata": {},
   "outputs": [
    {
     "data": {
      "text/plain": [
       "(1226382, 89)"
      ]
     },
     "execution_count": 12,
     "metadata": {},
     "output_type": "execute_result"
    }
   ],
   "source": [
    "#удалим категориальные колонки\n",
    "df_session = df_session.drop(['device_category', 'car_brand', 'visit_time_night', \n",
    "                    'geo_country_is_russia', 'geo_city_is_big', 'visit_date_weekend',\n",
    "                    'geo_city_distance_from_moscow_category', 'device_browser'], axis=1)\n",
    "df_session.shape"
   ]
  },
  {
   "cell_type": "code",
   "execution_count": 13,
   "metadata": {
    "scrolled": true
   },
   "outputs": [
    {
     "data": {
      "text/plain": [
       "(331435, 89)"
      ]
     },
     "execution_count": 13,
     "metadata": {},
     "output_type": "execute_result"
    }
   ],
   "source": [
    "# проверим на дубликаты, удалим их\n",
    "df_session[df_session.duplicated()].shape"
   ]
  },
  {
   "cell_type": "code",
   "execution_count": 14,
   "metadata": {},
   "outputs": [
    {
     "data": {
      "text/plain": [
       "(0, 89)"
      ]
     },
     "execution_count": 14,
     "metadata": {},
     "output_type": "execute_result"
    }
   ],
   "source": [
    "df_session = df_session.drop_duplicates()\n",
    "df_session[df_session.duplicated()].shape"
   ]
  },
  {
   "cell_type": "code",
   "execution_count": 15,
   "metadata": {},
   "outputs": [],
   "source": [
    "df_session=df_session.dropna(how='all') "
   ]
  },
  {
   "cell_type": "code",
   "execution_count": 16,
   "metadata": {},
   "outputs": [
    {
     "data": {
      "text/plain": [
       "(894947, 89)"
      ]
     },
     "execution_count": 16,
     "metadata": {},
     "output_type": "execute_result"
    }
   ],
   "source": [
    "df_session.shape"
   ]
  },
  {
   "cell_type": "markdown",
   "metadata": {},
   "source": [
    "# train-test split\n",
    "Оценим базовую модель.\n",
    "Так как целевая переменная распределена не равномерно, то в качестве бейзлайна можно выбрать стратегию, которая для каждой сессии предсказывает значение 0."
   ]
  },
  {
   "cell_type": "code",
   "execution_count": 17,
   "metadata": {},
   "outputs": [],
   "source": [
    "train_no_target=df_session.drop(['target'], axis=1)\n",
    "X=train_no_target\n",
    "y=df_session['target']\n",
    "x_train, x_test, y_train, y_test = train_test_split(X, y, test_size=0.3, random_state=40, stratify=y)"
   ]
  },
  {
   "cell_type": "markdown",
   "metadata": {},
   "source": [
    "# Нормализация данных"
   ]
  },
  {
   "cell_type": "code",
   "execution_count": 18,
   "metadata": {},
   "outputs": [
    {
     "data": {
      "text/html": [
       "<div>\n",
       "<style scoped>\n",
       "    .dataframe tbody tr th:only-of-type {\n",
       "        vertical-align: middle;\n",
       "    }\n",
       "\n",
       "    .dataframe tbody tr th {\n",
       "        vertical-align: top;\n",
       "    }\n",
       "\n",
       "    .dataframe thead th {\n",
       "        text-align: right;\n",
       "    }\n",
       "</style>\n",
       "<table border=\"1\" class=\"dataframe\">\n",
       "  <thead>\n",
       "    <tr style=\"text-align: right;\">\n",
       "      <th></th>\n",
       "      <th>target</th>\n",
       "      <th>visit_date_weekday</th>\n",
       "      <th>visit_date_month</th>\n",
       "      <th>visit_date_day</th>\n",
       "      <th>visit_time_hour</th>\n",
       "      <th>device_screen_width</th>\n",
       "      <th>device_screen_height</th>\n",
       "      <th>device_screen_area</th>\n",
       "      <th>device_screen_ratio</th>\n",
       "      <th>geo_city_distance_from_moscow</th>\n",
       "      <th>...</th>\n",
       "      <th>x7_Internet Explorer</th>\n",
       "      <th>x7_Mozilla</th>\n",
       "      <th>x7_Opera</th>\n",
       "      <th>x7_Puffin</th>\n",
       "      <th>x7_Safari</th>\n",
       "      <th>x7_Safari (in-app)</th>\n",
       "      <th>x7_Samsung Internet</th>\n",
       "      <th>x7_UC Browser</th>\n",
       "      <th>x7_YaBrowser</th>\n",
       "      <th>x7_other</th>\n",
       "    </tr>\n",
       "  </thead>\n",
       "  <tbody>\n",
       "    <tr>\n",
       "      <th>count</th>\n",
       "      <td>894947.00000</td>\n",
       "      <td>894947.00000</td>\n",
       "      <td>894947.00000</td>\n",
       "      <td>894947.00000</td>\n",
       "      <td>894947.00000</td>\n",
       "      <td>894947.00000</td>\n",
       "      <td>894947.00000</td>\n",
       "      <td>894947.00000</td>\n",
       "      <td>894947.00000</td>\n",
       "      <td>894947.00000</td>\n",
       "      <td>...</td>\n",
       "      <td>894947.00000</td>\n",
       "      <td>894947.00000</td>\n",
       "      <td>894947.00000</td>\n",
       "      <td>894947.00000</td>\n",
       "      <td>894947.00000</td>\n",
       "      <td>894947.00000</td>\n",
       "      <td>894947.00000</td>\n",
       "      <td>894947.00000</td>\n",
       "      <td>894947.00000</td>\n",
       "      <td>894947.00000</td>\n",
       "    </tr>\n",
       "    <tr>\n",
       "      <th>mean</th>\n",
       "      <td>0.05355</td>\n",
       "      <td>2.86492</td>\n",
       "      <td>9.77434</td>\n",
       "      <td>16.95957</td>\n",
       "      <td>13.56614</td>\n",
       "      <td>696.55445</td>\n",
       "      <td>854.96279</td>\n",
       "      <td>653977.85053</td>\n",
       "      <td>0.77448</td>\n",
       "      <td>635.11088</td>\n",
       "      <td>...</td>\n",
       "      <td>0.00001</td>\n",
       "      <td>0.00006</td>\n",
       "      <td>0.01537</td>\n",
       "      <td>0.00002</td>\n",
       "      <td>0.24230</td>\n",
       "      <td>0.04609</td>\n",
       "      <td>0.01817</td>\n",
       "      <td>0.00036</td>\n",
       "      <td>0.09153</td>\n",
       "      <td>0.00003</td>\n",
       "    </tr>\n",
       "    <tr>\n",
       "      <th>std</th>\n",
       "      <td>0.22512</td>\n",
       "      <td>1.98223</td>\n",
       "      <td>2.08595</td>\n",
       "      <td>8.70401</td>\n",
       "      <td>6.22046</td>\n",
       "      <td>585.87235</td>\n",
       "      <td>151.54763</td>\n",
       "      <td>717375.49081</td>\n",
       "      <td>0.53614</td>\n",
       "      <td>1058.83215</td>\n",
       "      <td>...</td>\n",
       "      <td>0.00351</td>\n",
       "      <td>0.00755</td>\n",
       "      <td>0.12303</td>\n",
       "      <td>0.00423</td>\n",
       "      <td>0.42848</td>\n",
       "      <td>0.20967</td>\n",
       "      <td>0.13355</td>\n",
       "      <td>0.01896</td>\n",
       "      <td>0.28837</td>\n",
       "      <td>0.00529</td>\n",
       "    </tr>\n",
       "    <tr>\n",
       "      <th>min</th>\n",
       "      <td>0.00000</td>\n",
       "      <td>0.00000</td>\n",
       "      <td>5.00000</td>\n",
       "      <td>1.00000</td>\n",
       "      <td>0.00000</td>\n",
       "      <td>180.00000</td>\n",
       "      <td>256.00000</td>\n",
       "      <td>57600.00000</td>\n",
       "      <td>0.32956</td>\n",
       "      <td>-1.00000</td>\n",
       "      <td>...</td>\n",
       "      <td>0.00000</td>\n",
       "      <td>0.00000</td>\n",
       "      <td>0.00000</td>\n",
       "      <td>0.00000</td>\n",
       "      <td>0.00000</td>\n",
       "      <td>0.00000</td>\n",
       "      <td>0.00000</td>\n",
       "      <td>0.00000</td>\n",
       "      <td>0.00000</td>\n",
       "      <td>0.00000</td>\n",
       "    </tr>\n",
       "    <tr>\n",
       "      <th>25%</th>\n",
       "      <td>0.00000</td>\n",
       "      <td>1.00000</td>\n",
       "      <td>9.00000</td>\n",
       "      <td>10.00000</td>\n",
       "      <td>9.00000</td>\n",
       "      <td>375.00000</td>\n",
       "      <td>771.00000</td>\n",
       "      <td>288000.00000</td>\n",
       "      <td>0.46181</td>\n",
       "      <td>0.00000</td>\n",
       "      <td>...</td>\n",
       "      <td>0.00000</td>\n",
       "      <td>0.00000</td>\n",
       "      <td>0.00000</td>\n",
       "      <td>0.00000</td>\n",
       "      <td>0.00000</td>\n",
       "      <td>0.00000</td>\n",
       "      <td>0.00000</td>\n",
       "      <td>0.00000</td>\n",
       "      <td>0.00000</td>\n",
       "      <td>0.00000</td>\n",
       "    </tr>\n",
       "    <tr>\n",
       "      <th>50%</th>\n",
       "      <td>0.00000</td>\n",
       "      <td>3.00000</td>\n",
       "      <td>10.00000</td>\n",
       "      <td>17.00000</td>\n",
       "      <td>14.00000</td>\n",
       "      <td>393.00000</td>\n",
       "      <td>851.00000</td>\n",
       "      <td>343089.00000</td>\n",
       "      <td>0.46659</td>\n",
       "      <td>179.35416</td>\n",
       "      <td>...</td>\n",
       "      <td>0.00000</td>\n",
       "      <td>0.00000</td>\n",
       "      <td>0.00000</td>\n",
       "      <td>0.00000</td>\n",
       "      <td>0.00000</td>\n",
       "      <td>0.00000</td>\n",
       "      <td>0.00000</td>\n",
       "      <td>0.00000</td>\n",
       "      <td>0.00000</td>\n",
       "      <td>0.00000</td>\n",
       "    </tr>\n",
       "    <tr>\n",
       "      <th>75%</th>\n",
       "      <td>0.00000</td>\n",
       "      <td>5.00000</td>\n",
       "      <td>11.00000</td>\n",
       "      <td>24.00000</td>\n",
       "      <td>19.00000</td>\n",
       "      <td>534.00000</td>\n",
       "      <td>900.00000</td>\n",
       "      <td>407968.00000</td>\n",
       "      <td>0.62474</td>\n",
       "      <td>727.52438</td>\n",
       "      <td>...</td>\n",
       "      <td>0.00000</td>\n",
       "      <td>0.00000</td>\n",
       "      <td>0.00000</td>\n",
       "      <td>0.00000</td>\n",
       "      <td>0.00000</td>\n",
       "      <td>0.00000</td>\n",
       "      <td>0.00000</td>\n",
       "      <td>0.00000</td>\n",
       "      <td>0.00000</td>\n",
       "      <td>0.00000</td>\n",
       "    </tr>\n",
       "    <tr>\n",
       "      <th>max</th>\n",
       "      <td>1.00000</td>\n",
       "      <td>6.00000</td>\n",
       "      <td>12.00000</td>\n",
       "      <td>31.00000</td>\n",
       "      <td>23.00000</td>\n",
       "      <td>5760.00000</td>\n",
       "      <td>5120.00000</td>\n",
       "      <td>20971520.00000</td>\n",
       "      <td>5.33333</td>\n",
       "      <td>6798.01868</td>\n",
       "      <td>...</td>\n",
       "      <td>1.00000</td>\n",
       "      <td>1.00000</td>\n",
       "      <td>1.00000</td>\n",
       "      <td>1.00000</td>\n",
       "      <td>1.00000</td>\n",
       "      <td>1.00000</td>\n",
       "      <td>1.00000</td>\n",
       "      <td>1.00000</td>\n",
       "      <td>1.00000</td>\n",
       "      <td>1.00000</td>\n",
       "    </tr>\n",
       "  </tbody>\n",
       "</table>\n",
       "<p>8 rows × 89 columns</p>\n",
       "</div>"
      ],
      "text/plain": [
       "            target  visit_date_weekday  visit_date_month  visit_date_day  \\\n",
       "count 894947.00000        894947.00000      894947.00000    894947.00000   \n",
       "mean       0.05355             2.86492           9.77434        16.95957   \n",
       "std        0.22512             1.98223           2.08595         8.70401   \n",
       "min        0.00000             0.00000           5.00000         1.00000   \n",
       "25%        0.00000             1.00000           9.00000        10.00000   \n",
       "50%        0.00000             3.00000          10.00000        17.00000   \n",
       "75%        0.00000             5.00000          11.00000        24.00000   \n",
       "max        1.00000             6.00000          12.00000        31.00000   \n",
       "\n",
       "       visit_time_hour  device_screen_width  device_screen_height  \\\n",
       "count     894947.00000         894947.00000          894947.00000   \n",
       "mean          13.56614            696.55445             854.96279   \n",
       "std            6.22046            585.87235             151.54763   \n",
       "min            0.00000            180.00000             256.00000   \n",
       "25%            9.00000            375.00000             771.00000   \n",
       "50%           14.00000            393.00000             851.00000   \n",
       "75%           19.00000            534.00000             900.00000   \n",
       "max           23.00000           5760.00000            5120.00000   \n",
       "\n",
       "       device_screen_area  device_screen_ratio  geo_city_distance_from_moscow  \\\n",
       "count        894947.00000         894947.00000                   894947.00000   \n",
       "mean         653977.85053              0.77448                      635.11088   \n",
       "std          717375.49081              0.53614                     1058.83215   \n",
       "min           57600.00000              0.32956                       -1.00000   \n",
       "25%          288000.00000              0.46181                        0.00000   \n",
       "50%          343089.00000              0.46659                      179.35416   \n",
       "75%          407968.00000              0.62474                      727.52438   \n",
       "max        20971520.00000              5.33333                     6798.01868   \n",
       "\n",
       "       ...  x7_Internet Explorer   x7_Mozilla     x7_Opera    x7_Puffin  \\\n",
       "count  ...          894947.00000 894947.00000 894947.00000 894947.00000   \n",
       "mean   ...               0.00001      0.00006      0.01537      0.00002   \n",
       "std    ...               0.00351      0.00755      0.12303      0.00423   \n",
       "min    ...               0.00000      0.00000      0.00000      0.00000   \n",
       "25%    ...               0.00000      0.00000      0.00000      0.00000   \n",
       "50%    ...               0.00000      0.00000      0.00000      0.00000   \n",
       "75%    ...               0.00000      0.00000      0.00000      0.00000   \n",
       "max    ...               1.00000      1.00000      1.00000      1.00000   \n",
       "\n",
       "         x7_Safari  x7_Safari (in-app)  x7_Samsung Internet  x7_UC Browser  \\\n",
       "count 894947.00000        894947.00000         894947.00000   894947.00000   \n",
       "mean       0.24230             0.04609              0.01817        0.00036   \n",
       "std        0.42848             0.20967              0.13355        0.01896   \n",
       "min        0.00000             0.00000              0.00000        0.00000   \n",
       "25%        0.00000             0.00000              0.00000        0.00000   \n",
       "50%        0.00000             0.00000              0.00000        0.00000   \n",
       "75%        0.00000             0.00000              0.00000        0.00000   \n",
       "max        1.00000             1.00000              1.00000        1.00000   \n",
       "\n",
       "       x7_YaBrowser     x7_other  \n",
       "count  894947.00000 894947.00000  \n",
       "mean        0.09153      0.00003  \n",
       "std         0.28837      0.00529  \n",
       "min         0.00000      0.00000  \n",
       "25%         0.00000      0.00000  \n",
       "50%         0.00000      0.00000  \n",
       "75%         0.00000      0.00000  \n",
       "max         1.00000      1.00000  \n",
       "\n",
       "[8 rows x 89 columns]"
      ]
     },
     "execution_count": 18,
     "metadata": {},
     "output_type": "execute_result"
    }
   ],
   "source": [
    "pd.options.display.float_format = '{:.5f}'.format\n",
    "df_session.describe()"
   ]
  },
  {
   "cell_type": "code",
   "execution_count": 19,
   "metadata": {},
   "outputs": [
    {
     "data": {
      "text/plain": [
       "MinMaxScaler()"
      ]
     },
     "execution_count": 19,
     "metadata": {},
     "output_type": "execute_result"
    }
   ],
   "source": [
    "# еще одна нормализация - это min-max нормализация значения [0;1]\n",
    "from sklearn.preprocessing import MinMaxScaler\n",
    "\n",
    "# fit скейлера проводить только на трейне Х\n",
    "minmax_data=x_train[['device_screen_width', 'device_screen_height', 'device_screen_area', \n",
    "                    'geo_city_distance_from_moscow']]\n",
    "mm_scaler = MinMaxScaler()\n",
    "mm_scaler.fit(minmax_data)"
   ]
  },
  {
   "cell_type": "code",
   "execution_count": 20,
   "metadata": {},
   "outputs": [],
   "source": [
    "# transform проводится на x_train, x_test\n",
    "mm_scaled = mm_scaler.transform(minmax_data)"
   ]
  },
  {
   "cell_type": "code",
   "execution_count": 21,
   "metadata": {},
   "outputs": [
    {
     "data": {
      "text/html": [
       "<div>\n",
       "<style scoped>\n",
       "    .dataframe tbody tr th:only-of-type {\n",
       "        vertical-align: middle;\n",
       "    }\n",
       "\n",
       "    .dataframe tbody tr th {\n",
       "        vertical-align: top;\n",
       "    }\n",
       "\n",
       "    .dataframe thead th {\n",
       "        text-align: right;\n",
       "    }\n",
       "</style>\n",
       "<table border=\"1\" class=\"dataframe\">\n",
       "  <thead>\n",
       "    <tr style=\"text-align: right;\">\n",
       "      <th></th>\n",
       "      <th>device_screen_width</th>\n",
       "      <th>device_screen_height</th>\n",
       "      <th>device_screen_area</th>\n",
       "      <th>geo_city_distance_from_moscow</th>\n",
       "    </tr>\n",
       "  </thead>\n",
       "  <tbody>\n",
       "    <tr>\n",
       "      <th>count</th>\n",
       "      <td>626462.00000</td>\n",
       "      <td>626462.00000</td>\n",
       "      <td>626462.00000</td>\n",
       "      <td>626462.00000</td>\n",
       "    </tr>\n",
       "    <tr>\n",
       "      <th>mean</th>\n",
       "      <td>696.17158</td>\n",
       "      <td>854.91066</td>\n",
       "      <td>653638.13719</td>\n",
       "      <td>636.63887</td>\n",
       "    </tr>\n",
       "    <tr>\n",
       "      <th>std</th>\n",
       "      <td>585.68511</td>\n",
       "      <td>151.67654</td>\n",
       "      <td>718404.20934</td>\n",
       "      <td>1062.88663</td>\n",
       "    </tr>\n",
       "    <tr>\n",
       "      <th>min</th>\n",
       "      <td>180.00000</td>\n",
       "      <td>256.00000</td>\n",
       "      <td>72000.00000</td>\n",
       "      <td>-1.00000</td>\n",
       "    </tr>\n",
       "    <tr>\n",
       "      <th>25%</th>\n",
       "      <td>375.00000</td>\n",
       "      <td>771.00000</td>\n",
       "      <td>288000.00000</td>\n",
       "      <td>0.00000</td>\n",
       "    </tr>\n",
       "    <tr>\n",
       "      <th>50%</th>\n",
       "      <td>393.00000</td>\n",
       "      <td>851.00000</td>\n",
       "      <td>343089.00000</td>\n",
       "      <td>179.35416</td>\n",
       "    </tr>\n",
       "    <tr>\n",
       "      <th>75%</th>\n",
       "      <td>534.00000</td>\n",
       "      <td>900.00000</td>\n",
       "      <td>405000.00000</td>\n",
       "      <td>727.52438</td>\n",
       "    </tr>\n",
       "    <tr>\n",
       "      <th>max</th>\n",
       "      <td>5120.00000</td>\n",
       "      <td>5120.00000</td>\n",
       "      <td>20971520.00000</td>\n",
       "      <td>6798.01868</td>\n",
       "    </tr>\n",
       "  </tbody>\n",
       "</table>\n",
       "</div>"
      ],
      "text/plain": [
       "       device_screen_width  device_screen_height  device_screen_area  \\\n",
       "count         626462.00000          626462.00000        626462.00000   \n",
       "mean             696.17158             854.91066        653638.13719   \n",
       "std              585.68511             151.67654        718404.20934   \n",
       "min              180.00000             256.00000         72000.00000   \n",
       "25%              375.00000             771.00000        288000.00000   \n",
       "50%              393.00000             851.00000        343089.00000   \n",
       "75%              534.00000             900.00000        405000.00000   \n",
       "max             5120.00000            5120.00000      20971520.00000   \n",
       "\n",
       "       geo_city_distance_from_moscow  \n",
       "count                   626462.00000  \n",
       "mean                       636.63887  \n",
       "std                       1062.88663  \n",
       "min                         -1.00000  \n",
       "25%                          0.00000  \n",
       "50%                        179.35416  \n",
       "75%                        727.52438  \n",
       "max                       6798.01868  "
      ]
     },
     "execution_count": 21,
     "metadata": {},
     "output_type": "execute_result"
    }
   ],
   "source": [
    "x_train[['device_screen_width', 'device_screen_height', 'device_screen_area', \n",
    "                    'geo_city_distance_from_moscow']].describe()"
   ]
  },
  {
   "cell_type": "code",
   "execution_count": 22,
   "metadata": {},
   "outputs": [],
   "source": [
    "x_train[['device_screen_width', 'device_screen_height', \n",
    "         'device_screen_area', 'geo_city_distance_from_moscow']] = mm_scaled"
   ]
  },
  {
   "cell_type": "code",
   "execution_count": 23,
   "metadata": {},
   "outputs": [
    {
     "data": {
      "text/html": [
       "<div>\n",
       "<style scoped>\n",
       "    .dataframe tbody tr th:only-of-type {\n",
       "        vertical-align: middle;\n",
       "    }\n",
       "\n",
       "    .dataframe tbody tr th {\n",
       "        vertical-align: top;\n",
       "    }\n",
       "\n",
       "    .dataframe thead th {\n",
       "        text-align: right;\n",
       "    }\n",
       "</style>\n",
       "<table border=\"1\" class=\"dataframe\">\n",
       "  <thead>\n",
       "    <tr style=\"text-align: right;\">\n",
       "      <th></th>\n",
       "      <th>device_screen_width</th>\n",
       "      <th>device_screen_height</th>\n",
       "      <th>device_screen_area</th>\n",
       "      <th>geo_city_distance_from_moscow</th>\n",
       "    </tr>\n",
       "  </thead>\n",
       "  <tbody>\n",
       "    <tr>\n",
       "      <th>count</th>\n",
       "      <td>626462.00000</td>\n",
       "      <td>626462.00000</td>\n",
       "      <td>626462.00000</td>\n",
       "      <td>626462.00000</td>\n",
       "    </tr>\n",
       "    <tr>\n",
       "      <th>mean</th>\n",
       "      <td>0.10449</td>\n",
       "      <td>0.12313</td>\n",
       "      <td>0.02783</td>\n",
       "      <td>0.09378</td>\n",
       "    </tr>\n",
       "    <tr>\n",
       "      <th>std</th>\n",
       "      <td>0.11856</td>\n",
       "      <td>0.03118</td>\n",
       "      <td>0.03437</td>\n",
       "      <td>0.15633</td>\n",
       "    </tr>\n",
       "    <tr>\n",
       "      <th>min</th>\n",
       "      <td>0.00000</td>\n",
       "      <td>0.00000</td>\n",
       "      <td>0.00000</td>\n",
       "      <td>0.00000</td>\n",
       "    </tr>\n",
       "    <tr>\n",
       "      <th>25%</th>\n",
       "      <td>0.03947</td>\n",
       "      <td>0.10588</td>\n",
       "      <td>0.01034</td>\n",
       "      <td>0.00015</td>\n",
       "    </tr>\n",
       "    <tr>\n",
       "      <th>50%</th>\n",
       "      <td>0.04312</td>\n",
       "      <td>0.12233</td>\n",
       "      <td>0.01297</td>\n",
       "      <td>0.02653</td>\n",
       "    </tr>\n",
       "    <tr>\n",
       "      <th>75%</th>\n",
       "      <td>0.07166</td>\n",
       "      <td>0.13240</td>\n",
       "      <td>0.01593</td>\n",
       "      <td>0.10715</td>\n",
       "    </tr>\n",
       "    <tr>\n",
       "      <th>max</th>\n",
       "      <td>1.00000</td>\n",
       "      <td>1.00000</td>\n",
       "      <td>1.00000</td>\n",
       "      <td>1.00000</td>\n",
       "    </tr>\n",
       "  </tbody>\n",
       "</table>\n",
       "</div>"
      ],
      "text/plain": [
       "       device_screen_width  device_screen_height  device_screen_area  \\\n",
       "count         626462.00000          626462.00000        626462.00000   \n",
       "mean               0.10449               0.12313             0.02783   \n",
       "std                0.11856               0.03118             0.03437   \n",
       "min                0.00000               0.00000             0.00000   \n",
       "25%                0.03947               0.10588             0.01034   \n",
       "50%                0.04312               0.12233             0.01297   \n",
       "75%                0.07166               0.13240             0.01593   \n",
       "max                1.00000               1.00000             1.00000   \n",
       "\n",
       "       geo_city_distance_from_moscow  \n",
       "count                   626462.00000  \n",
       "mean                         0.09378  \n",
       "std                          0.15633  \n",
       "min                          0.00000  \n",
       "25%                          0.00015  \n",
       "50%                          0.02653  \n",
       "75%                          0.10715  \n",
       "max                          1.00000  "
      ]
     },
     "execution_count": 23,
     "metadata": {},
     "output_type": "execute_result"
    }
   ],
   "source": [
    "x_train[['device_screen_width', 'device_screen_height', \n",
    "         'device_screen_area', 'geo_city_distance_from_moscow']].describe()"
   ]
  },
  {
   "cell_type": "code",
   "execution_count": 24,
   "metadata": {},
   "outputs": [],
   "source": [
    "# transform проводится на x_train, x_test\n",
    "minmax_data_test=x_test[['device_screen_width', 'device_screen_height', \n",
    "         'device_screen_area', 'geo_city_distance_from_moscow']]\n",
    "mm_scaled_test = mm_scaler.transform(minmax_data_test)\n",
    "x_test[['device_screen_width', 'device_screen_height', \n",
    "         'device_screen_area', 'geo_city_distance_from_moscow']] = mm_scaled_test"
   ]
  },
  {
   "cell_type": "code",
   "execution_count": 25,
   "metadata": {},
   "outputs": [
    {
     "data": {
      "text/html": [
       "<div>\n",
       "<style scoped>\n",
       "    .dataframe tbody tr th:only-of-type {\n",
       "        vertical-align: middle;\n",
       "    }\n",
       "\n",
       "    .dataframe tbody tr th {\n",
       "        vertical-align: top;\n",
       "    }\n",
       "\n",
       "    .dataframe thead th {\n",
       "        text-align: right;\n",
       "    }\n",
       "</style>\n",
       "<table border=\"1\" class=\"dataframe\">\n",
       "  <thead>\n",
       "    <tr style=\"text-align: right;\">\n",
       "      <th></th>\n",
       "      <th>device_screen_width</th>\n",
       "      <th>device_screen_height</th>\n",
       "      <th>device_screen_area</th>\n",
       "      <th>geo_city_distance_from_moscow</th>\n",
       "    </tr>\n",
       "  </thead>\n",
       "  <tbody>\n",
       "    <tr>\n",
       "      <th>count</th>\n",
       "      <td>268485.00000</td>\n",
       "      <td>268485.00000</td>\n",
       "      <td>268485.00000</td>\n",
       "      <td>268485.00000</td>\n",
       "    </tr>\n",
       "    <tr>\n",
       "      <th>mean</th>\n",
       "      <td>0.10475</td>\n",
       "      <td>0.12317</td>\n",
       "      <td>0.02788</td>\n",
       "      <td>0.09303</td>\n",
       "    </tr>\n",
       "    <tr>\n",
       "      <th>std</th>\n",
       "      <td>0.11869</td>\n",
       "      <td>0.03110</td>\n",
       "      <td>0.03421</td>\n",
       "      <td>0.15433</td>\n",
       "    </tr>\n",
       "    <tr>\n",
       "      <th>min</th>\n",
       "      <td>0.00000</td>\n",
       "      <td>0.01275</td>\n",
       "      <td>-0.00069</td>\n",
       "      <td>0.00000</td>\n",
       "    </tr>\n",
       "    <tr>\n",
       "      <th>25%</th>\n",
       "      <td>0.03947</td>\n",
       "      <td>0.10588</td>\n",
       "      <td>0.01034</td>\n",
       "      <td>0.00015</td>\n",
       "    </tr>\n",
       "    <tr>\n",
       "      <th>50%</th>\n",
       "      <td>0.04312</td>\n",
       "      <td>0.12233</td>\n",
       "      <td>0.01297</td>\n",
       "      <td>0.02653</td>\n",
       "    </tr>\n",
       "    <tr>\n",
       "      <th>75%</th>\n",
       "      <td>0.08300</td>\n",
       "      <td>0.13240</td>\n",
       "      <td>0.01640</td>\n",
       "      <td>0.10715</td>\n",
       "    </tr>\n",
       "    <tr>\n",
       "      <th>max</th>\n",
       "      <td>1.12955</td>\n",
       "      <td>1.00000</td>\n",
       "      <td>1.00000</td>\n",
       "      <td>1.00000</td>\n",
       "    </tr>\n",
       "  </tbody>\n",
       "</table>\n",
       "</div>"
      ],
      "text/plain": [
       "       device_screen_width  device_screen_height  device_screen_area  \\\n",
       "count         268485.00000          268485.00000        268485.00000   \n",
       "mean               0.10475               0.12317             0.02788   \n",
       "std                0.11869               0.03110             0.03421   \n",
       "min                0.00000               0.01275            -0.00069   \n",
       "25%                0.03947               0.10588             0.01034   \n",
       "50%                0.04312               0.12233             0.01297   \n",
       "75%                0.08300               0.13240             0.01640   \n",
       "max                1.12955               1.00000             1.00000   \n",
       "\n",
       "       geo_city_distance_from_moscow  \n",
       "count                   268485.00000  \n",
       "mean                         0.09303  \n",
       "std                          0.15433  \n",
       "min                          0.00000  \n",
       "25%                          0.00015  \n",
       "50%                          0.02653  \n",
       "75%                          0.10715  \n",
       "max                          1.00000  "
      ]
     },
     "execution_count": 25,
     "metadata": {},
     "output_type": "execute_result"
    }
   ],
   "source": [
    "x_test[['device_screen_width', 'device_screen_height', \n",
    "         'device_screen_area', 'geo_city_distance_from_moscow']].describe()"
   ]
  },
  {
   "cell_type": "markdown",
   "metadata": {},
   "source": [
    "# Baseline model"
   ]
  },
  {
   "cell_type": "code",
   "execution_count": 26,
   "metadata": {},
   "outputs": [
    {
     "name": "stdout",
     "output_type": "stream",
     "text": [
      "roc_auc_score =  0.5\n"
     ]
    }
   ],
   "source": [
    "# Обучим базовую модель \n",
    "baseline = DummyClassifier(strategy='constant', constant=0)\n",
    "baseline.fit(x_train, y_train)\n",
    "\n",
    "# И получим её метрики\n",
    "print('roc_auc_score = ', roc_auc_score(y, baseline.predict(X)))"
   ]
  },
  {
   "cell_type": "code",
   "execution_count": 27,
   "metadata": {},
   "outputs": [],
   "source": [
    "x_test[x_test==np.inf]=np.nan\n",
    "x_test.fillna(x_test.mean(), inplace=True)\n",
    "x_train[x_train==np.inf]=np.nan\n",
    "x_train.fillna(x_train.mean(), inplace=True)"
   ]
  },
  {
   "cell_type": "markdown",
   "metadata": {},
   "source": [
    "# LogisticRegression model\n",
    "\n",
    "\n",
    "в логистической регрессии чаще всего можно получить хорошие результаты, настрив параметры регуляризации. она позволяет штрафовать модель за слишком высокие коэфициенты это помогает сделать модель более общей и не затачивать модель под тренировочную выборку за регуляризацию отвечает параметр penalty, он позволяет попробовать разные методы и параметр С, который настраивает мощность регуляризации "
   ]
  },
  {
   "cell_type": "code",
   "execution_count": 28,
   "metadata": {},
   "outputs": [],
   "source": [
    "X[X==np.inf]=np.nan\n",
    "X.fillna(X.mean(), inplace=True)\n"
   ]
  },
  {
   "cell_type": "code",
   "execution_count": 29,
   "metadata": {
    "scrolled": false
   },
   "outputs": [
    {
     "name": "stdout",
     "output_type": "stream",
     "text": [
      "roc_auc_score =  0.5\n",
      "[0.5097148  0.50500426 0.50865771 0.50581709 0.51145021]\n"
     ]
    }
   ],
   "source": [
    "logreg = LogisticRegression(penalty='l2', C=1, max_iter=100, fit_intercept=True, solver='liblinear')\n",
    "logreg.fit(x_train, y_train)\n",
    "# И получим её метрики\n",
    "print('roc_auc_score = ', roc_auc_score(y_train, logreg.predict(x_train)))\n",
    "from sklearn.model_selection import cross_val_score\n",
    "print(cross_val_score(logreg, x_train, y_train, scoring=\"roc_auc\", cv = 5))"
   ]
  },
  {
   "cell_type": "markdown",
   "metadata": {},
   "source": [
    "# LinearSVC model опорных векторов"
   ]
  },
  {
   "cell_type": "code",
   "execution_count": 30,
   "metadata": {},
   "outputs": [
    {
     "name": "stdout",
     "output_type": "stream",
     "text": [
      "roc_auc_score =  0.5\n",
      "[0.5114826  0.50569581 0.50989752 0.50756804 0.512333  ]\n"
     ]
    }
   ],
   "source": [
    "svc = LinearSVC(class_weight='balanced')\n",
    "svc.fit(x_train, y_train)\n",
    "print('roc_auc_score = ', roc_auc_score(y_train, svc.predict(x_train)))\n",
    "print(cross_val_score(svc, x_train, y_train, scoring=\"roc_auc\", cv = 5))"
   ]
  },
  {
   "cell_type": "markdown",
   "metadata": {},
   "source": [
    "# MLPClassifier model нейронки"
   ]
  },
  {
   "cell_type": "code",
   "execution_count": 31,
   "metadata": {},
   "outputs": [
    {
     "name": "stdout",
     "output_type": "stream",
     "text": [
      "roc_auc_score =  0.5\n",
      "[0.5       0.5       0.4997975 0.5       0.5      ]\n"
     ]
    }
   ],
   "source": [
    "mlp = MLPClassifier((32,), random_state=128)\n",
    "mlp.fit(x_train, y_train);\n",
    "print('roc_auc_score = ', roc_auc_score(y_train, mlp.predict(x_train)))\n",
    "print(cross_val_score(mlp, x_train, y_train, scoring=\"roc_auc\", cv = 5))"
   ]
  },
  {
   "cell_type": "markdown",
   "metadata": {},
   "source": [
    "# DecisionTreeClassifier model Дерево решений"
   ]
  },
  {
   "cell_type": "code",
   "execution_count": 32,
   "metadata": {},
   "outputs": [
    {
     "name": "stdout",
     "output_type": "stream",
     "text": [
      "roc_auc_score =  0.8925920405425547\n",
      "[0.51775117 0.51468104 0.51979872 0.51401878 0.5171549 ]\n"
     ]
    }
   ],
   "source": [
    "tree = DecisionTreeClassifier(random_state=128)\n",
    "tree.fit(x_train, y_train);\n",
    "print('roc_auc_score = ', roc_auc_score(y_train, tree.predict(x_train)))\n",
    "print(cross_val_score(tree, x_train, y_train, scoring=\"roc_auc\", cv = 5))"
   ]
  },
  {
   "cell_type": "markdown",
   "metadata": {},
   "source": [
    "# RandomForestClassifier model случайный лес"
   ]
  },
  {
   "cell_type": "code",
   "execution_count": 33,
   "metadata": {},
   "outputs": [
    {
     "name": "stdout",
     "output_type": "stream",
     "text": [
      "roc_auc_score =  0.9050712887578541\n",
      "[0.68311003 0.67826613 0.68220342 0.68137645 0.67792211]\n"
     ]
    }
   ],
   "source": [
    "forest = RandomForestClassifier(random_state=128)\n",
    "forest.fit(x_train, y_train);\n",
    "print('roc_auc_score = ', roc_auc_score(y_train, forest.predict(x_train)))\n",
    "print(cross_val_score(forest, x_train, y_train, scoring=\"roc_auc\", cv = 5))"
   ]
  },
  {
   "cell_type": "markdown",
   "metadata": {},
   "source": [
    "# HistGradientBoostingClassifier Model Градиентный Бустинг"
   ]
  },
  {
   "cell_type": "code",
   "execution_count": 34,
   "metadata": {
    "scrolled": true
   },
   "outputs": [
    {
     "name": "stdout",
     "output_type": "stream",
     "text": [
      "roc_auc_score =  0.5001341481591891\n",
      "[0.6725657  0.67356992 0.67385471 0.66891686 0.67814915]\n"
     ]
    }
   ],
   "source": [
    "histboost = HistGradientBoostingClassifier(random_state=128)\n",
    "histboost.fit(x_train, y_train)\n",
    "print('roc_auc_score = ', roc_auc_score(y_train, histboost.predict(x_train)))\n",
    "print(cross_val_score(histboost, x_train, y_train, scoring=\"roc_auc\", cv = 5))"
   ]
  },
  {
   "cell_type": "markdown",
   "metadata": {},
   "source": [
    "# CatBoost Model градиентный бустинг "
   ]
  },
  {
   "cell_type": "code",
   "execution_count": 35,
   "metadata": {
    "scrolled": true
   },
   "outputs": [
    {
     "name": "stdout",
     "output_type": "stream",
     "text": [
      "roc_auc_score =  0.5010872473361818\n",
      "[0.67387452 0.67463462 0.6753732  0.66903133 0.6777136 ]\n"
     ]
    }
   ],
   "source": [
    "catboost = CatBoostClassifier(\n",
    "    iterations=100, verbose=False, random_state=128)\n",
    "catboost.fit(x_train, y_train);\n",
    "print('roc_auc_score = ', roc_auc_score(y_train, catboost.predict(x_train)))\n",
    "print(cross_val_score(catboost, x_train, y_train, scoring=\"roc_auc\", cv = 5))"
   ]
  },
  {
   "cell_type": "markdown",
   "metadata": {},
   "source": [
    "# XGBoost Model градиентный бустинг\n",
    "\n",
    "Основные особенности XGBoost, отличающие его от других алгоритмов градиентного бустинга, включают:\n",
    "\n",
    "Умная штрафовка деревьев\n",
    "Пропорциональное уменьшение узлов листьев\n",
    "Метод Ньютона в оптимизации\n",
    "Дополнительный параметр рандомизации\n",
    "Реализация на одиночных, распределенных системах и out-of-core вычислениях\n",
    "Автоматический отбор признаков"
   ]
  },
  {
   "cell_type": "code",
   "execution_count": 36,
   "metadata": {
    "scrolled": true
   },
   "outputs": [
    {
     "name": "stdout",
     "output_type": "stream",
     "text": [
      "roc_auc_score =  0.5011136848848144\n",
      "[nan nan nan nan nan]\n"
     ]
    }
   ],
   "source": [
    "xgboost = XGBClassifier()\n",
    "xgboost.fit(x_train.values, y_train.values)\n",
    "print('roc_auc_score = ', roc_auc_score(y_train, xgboost.predict(x_train)))\n",
    "print(cross_val_score(xgboost, x_train, y_train, scoring=\"roc_auc\", cv = 5))"
   ]
  },
  {
   "cell_type": "markdown",
   "metadata": {},
   "source": [
    "# LGBMClassifier Model это фреймворк, который предоставляет реализацию деревьев принятия решений с градиентным бустингом.\n",
    "\n"
   ]
  },
  {
   "cell_type": "code",
   "execution_count": 37,
   "metadata": {},
   "outputs": [
    {
     "name": "stdout",
     "output_type": "stream",
     "text": [
      "roc_auc_score =  0.500014905351021\n",
      "[0.67425238 0.67455219 0.67854954 0.67237373 0.67802689]\n"
     ]
    }
   ],
   "source": [
    "lightgbm = LGBMClassifier(random_state=128)\n",
    "lightgbm.fit(x_train, y_train)\n",
    "print('roc_auc_score = ', roc_auc_score(y_train, lightgbm.predict(x_train)))\n",
    "print(cross_val_score(lightgbm, x_train, y_train, scoring=\"roc_auc\", cv = 5))"
   ]
  },
  {
   "cell_type": "markdown",
   "metadata": {},
   "source": [
    "\n",
    "# Оптимизация модели\n",
    "Лучшей моделью является LGBMClassifier по следующим причинам:\n",
    "\n",
    "Один из лучших показателей roc_auc.\n",
    "Быстрое обучение.\n",
    "Модель интерпретируема, то есть можно получить показатели важности признаков.\n",
    "Может предсказывать вероятность класса.\n",
    "Оптимизация модели и конвейера по подготовке данных проводится с помощью байесовской оптимизации. При разных гиперпараметрах модель обучается на тренировочных данных, а оценивается на валидационных."
   ]
  },
  {
   "cell_type": "code",
   "execution_count": 38,
   "metadata": {},
   "outputs": [],
   "source": [
    "def optimize_lightgbm(\n",
    "    rare_encoder_tol: float, \n",
    "    constant_dropper_tol: float, \n",
    "    correlated_dropper_threshold: float, \n",
    "    n_estimators: float, \n",
    "    learning_rate: float, \n",
    "    reg_lambda: float, \n",
    "    num_leaves: float, \n",
    "    reg_alpha: float, \n",
    "    boosting_type: str = 'goss'\n",
    ") -> float:\n",
    "    \"\"\"Используется Баейсовским оптимизатором для поиска лучших гиперпараметров \n",
    "    конвейера по подготовке данных и модели LGBMClassifier.\n",
    "    \"\"\"\n",
    "    \n",
    "    # Создадим конвейер с заданными гиперпараметрами\n",
    "    model = Pipeline(steps=[\n",
    "        # Преобразования численных переменных\n",
    "        ('normalization', YeoJohnsonTransformer()), \n",
    "        ('outlier_remover', Winsorizer()), \n",
    "        ('scaler', SklearnTransformerWrapper(StandardScaler())), \n",
    "        \n",
    "        # Удаление дубликатов и коррелируемых признаков\n",
    "        ('constant_dropper', DropConstantFeatures(tol=constant_dropper_tol)), \n",
    "        ('duplicated_dropper', DropDuplicateFeatures()), \n",
    "        ('correlated_dropper', DropCorrelatedFeatures(\n",
    "            threshold=correlated_dropper_threshold)), \n",
    "        # Лучшая модель с оптимизированными гиперпараметрами\n",
    "        ('model', LGBMClassifier(\n",
    "            n_estimators=int(n_estimators), boosting_type=boosting_type, \n",
    "            learning_rate=learning_rate, num_leaves=int(num_leaves), \n",
    "            reg_lambda=reg_lambda, reg_alpha=reg_alpha, \n",
    "            random_state=128))])\n",
    "    \n",
    "    # Обучим и оценим модель\n",
    "    model.fit(x_train, y_train)\n",
    "    prediction = model.predict_proba(x_test)[:, 1]\n",
    "    return roc_auc_score(y_test, prediction)"
   ]
  },
  {
   "cell_type": "code",
   "execution_count": 39,
   "metadata": {},
   "outputs": [],
   "source": [
    "optimizing_parameters = {\n",
    "    'rare_encoder_tol': (0.01, 0.1), \n",
    "    'constant_dropper_tol': (0.95, 0.999), \n",
    "    'correlated_dropper_threshold': (0.7, 0.99), \n",
    "    'n_estimators': (50, 5000), \n",
    "    'learning_rate': (0.01, 0.25), \n",
    "    'reg_lambda': (0, 50), \n",
    "    'num_leaves': (10, 120), \n",
    "    'reg_alpha': (0, 50)}"
   ]
  },
  {
   "cell_type": "code",
   "execution_count": 40,
   "metadata": {},
   "outputs": [
    {
     "name": "stdout",
     "output_type": "stream",
     "text": [
      "boosting_type = gbdt\n",
      "|   iter    |  target   | consta... | correl... | learni... | n_esti... | num_le... | rare_e... | reg_alpha | reg_la... |\n",
      "-------------------------------------------------------------------------------------------------------------------------\n",
      "| \u001b[0m1        \u001b[0m | \u001b[0m0.6734   \u001b[0m | \u001b[0m0.9925   \u001b[0m | \u001b[0m0.7763   \u001b[0m | \u001b[0m0.04154  \u001b[0m | \u001b[0m255.9    \u001b[0m | \u001b[0m36.28    \u001b[0m | \u001b[0m0.06809  \u001b[0m | \u001b[0m39.53    \u001b[0m | \u001b[0m30.07    \u001b[0m |\n",
      "| \u001b[95m2        \u001b[0m | \u001b[95m0.7017   \u001b[0m | \u001b[95m0.9664   \u001b[0m | \u001b[95m0.7346   \u001b[0m | \u001b[95m0.08419  \u001b[0m | \u001b[95m593.1    \u001b[0m | \u001b[95m76.23    \u001b[0m | \u001b[95m0.03262  \u001b[0m | \u001b[95m14.98    \u001b[0m | \u001b[95m25.86    \u001b[0m |\n",
      "| \u001b[0m3        \u001b[0m | \u001b[0m0.6842   \u001b[0m | \u001b[0m0.9605   \u001b[0m | \u001b[0m0.8489   \u001b[0m | \u001b[0m0.02914  \u001b[0m | \u001b[0m597.5    \u001b[0m | \u001b[0m61.83    \u001b[0m | \u001b[0m0.0384   \u001b[0m | \u001b[0m14.45    \u001b[0m | \u001b[0m34.61    \u001b[0m |\n",
      "| \u001b[0m4        \u001b[0m | \u001b[0m0.6749   \u001b[0m | \u001b[0m0.9779   \u001b[0m | \u001b[0m0.8365   \u001b[0m | \u001b[0m0.127    \u001b[0m | \u001b[0m3.307e+03\u001b[0m | \u001b[0m14.54    \u001b[0m | \u001b[0m0.03831  \u001b[0m | \u001b[0m34.96    \u001b[0m | \u001b[0m11.26    \u001b[0m |\n",
      "| \u001b[0m5        \u001b[0m | \u001b[0m0.7002   \u001b[0m | \u001b[0m0.9986   \u001b[0m | \u001b[0m0.8112   \u001b[0m | \u001b[0m0.1572   \u001b[0m | \u001b[0m591.2    \u001b[0m | \u001b[0m77.47    \u001b[0m | \u001b[0m0.0624   \u001b[0m | \u001b[0m17.45    \u001b[0m | \u001b[0m37.3     \u001b[0m |\n",
      "| \u001b[95m6        \u001b[0m | \u001b[95m0.7144   \u001b[0m | \u001b[95m0.9773   \u001b[0m | \u001b[95m0.7437   \u001b[0m | \u001b[95m0.1136   \u001b[0m | \u001b[95m577.2    \u001b[0m | \u001b[95m85.82    \u001b[0m | \u001b[95m0.09349  \u001b[0m | \u001b[95m4.631    \u001b[0m | \u001b[95m30.83    \u001b[0m |\n",
      "| \u001b[0m7        \u001b[0m | \u001b[0m0.6929   \u001b[0m | \u001b[0m0.9691   \u001b[0m | \u001b[0m0.7315   \u001b[0m | \u001b[0m0.03367  \u001b[0m | \u001b[0m578.0    \u001b[0m | \u001b[0m110.5    \u001b[0m | \u001b[0m0.05361  \u001b[0m | \u001b[0m17.95    \u001b[0m | \u001b[0m25.76    \u001b[0m |\n",
      "=========================================================================================================================\n",
      "boosting_type = goss\n",
      "|   iter    |  target   | consta... | correl... | learni... | n_esti... | num_le... | rare_e... | reg_alpha | reg_la... |\n",
      "-------------------------------------------------------------------------------------------------------------------------\n",
      "| \u001b[0m1        \u001b[0m | \u001b[0m0.6737   \u001b[0m | \u001b[0m0.9925   \u001b[0m | \u001b[0m0.7763   \u001b[0m | \u001b[0m0.04154  \u001b[0m | \u001b[0m255.9    \u001b[0m | \u001b[0m36.28    \u001b[0m | \u001b[0m0.06809  \u001b[0m | \u001b[0m39.53    \u001b[0m | \u001b[0m30.07    \u001b[0m |\n",
      "| \u001b[95m2        \u001b[0m | \u001b[95m0.7027   \u001b[0m | \u001b[95m0.9664   \u001b[0m | \u001b[95m0.7346   \u001b[0m | \u001b[95m0.08419  \u001b[0m | \u001b[95m593.1    \u001b[0m | \u001b[95m76.23    \u001b[0m | \u001b[95m0.03262  \u001b[0m | \u001b[95m14.98    \u001b[0m | \u001b[95m25.86    \u001b[0m |\n",
      "| \u001b[0m3        \u001b[0m | \u001b[0m0.6865   \u001b[0m | \u001b[0m0.9605   \u001b[0m | \u001b[0m0.8489   \u001b[0m | \u001b[0m0.02914  \u001b[0m | \u001b[0m597.5    \u001b[0m | \u001b[0m61.83    \u001b[0m | \u001b[0m0.0384   \u001b[0m | \u001b[0m14.45    \u001b[0m | \u001b[0m34.61    \u001b[0m |\n",
      "| \u001b[0m4        \u001b[0m | \u001b[0m0.6921   \u001b[0m | \u001b[0m0.9779   \u001b[0m | \u001b[0m0.8365   \u001b[0m | \u001b[0m0.127    \u001b[0m | \u001b[0m3.307e+03\u001b[0m | \u001b[0m14.54    \u001b[0m | \u001b[0m0.03831  \u001b[0m | \u001b[0m34.96    \u001b[0m | \u001b[0m11.26    \u001b[0m |\n",
      "| \u001b[95m5        \u001b[0m | \u001b[95m0.7111   \u001b[0m | \u001b[95m0.966    \u001b[0m | \u001b[95m0.9738   \u001b[0m | \u001b[95m0.08939  \u001b[0m | \u001b[95m1.189e+03\u001b[0m | \u001b[95m87.2     \u001b[0m | \u001b[95m0.02127  \u001b[0m | \u001b[95m21.97    \u001b[0m | \u001b[95m11.33    \u001b[0m |\n",
      "| \u001b[0m6        \u001b[0m | \u001b[0m0.7067   \u001b[0m | \u001b[0m0.9541   \u001b[0m | \u001b[0m0.7112   \u001b[0m | \u001b[0m0.2426   \u001b[0m | \u001b[0m1.033e+03\u001b[0m | \u001b[0m114.5    \u001b[0m | \u001b[0m0.02269  \u001b[0m | \u001b[0m27.86    \u001b[0m | \u001b[0m25.61    \u001b[0m |\n",
      "| \u001b[0m7        \u001b[0m | \u001b[0m0.6965   \u001b[0m | \u001b[0m0.993    \u001b[0m | \u001b[0m0.8599   \u001b[0m | \u001b[0m0.05494  \u001b[0m | \u001b[0m4.49e+03 \u001b[0m | \u001b[0m41.63    \u001b[0m | \u001b[0m0.07938  \u001b[0m | \u001b[0m42.84    \u001b[0m | \u001b[0m24.05    \u001b[0m |\n",
      "=========================================================================================================================\n"
     ]
    }
   ],
   "source": [
    "# байесовский оптимизатор не работает с категориальными значениями, поэтому для \n",
    "# каждого типа бустинга будет проводится своя оптимизация гиперпараметров\n",
    "\n",
    "best_score, best_parameters = 0.0, dict()\n",
    "for boosting_type in ('gbdt', 'goss'):\n",
    "\n",
    "    print(f'boosting_type = {boosting_type}')\n",
    "    optimizer = BayesianOptimization(\n",
    "        partial(optimize_lightgbm, boosting_type=boosting_type), \n",
    "        optimizing_parameters, random_state=128)\n",
    "    optimizer.maximize(init_points=2, n_iter=5)\n",
    "    \n",
    "    if best_score < optimizer.max['target']:\n",
    "        best_score = optimizer.max['target']\n",
    "        best_parameters.update(optimizer.max['params'])\n",
    "        best_parameters['boosting_type'] = boosting_type"
   ]
  },
  {
   "cell_type": "code",
   "execution_count": 41,
   "metadata": {},
   "outputs": [
    {
     "name": "stdout",
     "output_type": "stream",
     "text": [
      "Лучшее значение метрики ROC-AUC=0.7143718520472089 при параметрах:\n",
      "\n",
      "constant_dropper_tol = 0.9773490749325154\n",
      "correlated_dropper_threshold = 0.7436589728404206\n",
      "learning_rate = 0.11355452645263366\n",
      "n_estimators = 577.2314798716488\n",
      "num_leaves = 85.81785221319001\n",
      "rare_encoder_tol = 0.0934899093966619\n",
      "reg_alpha = 4.631152487867318\n",
      "reg_lambda = 30.833857088371047\n",
      "boosting_type = gbdt\n"
     ]
    }
   ],
   "source": [
    "print(f'Лучшее значение метрики ROC-AUC={best_score} при параметрах:\\n')\n",
    "for param, value in best_parameters.items():\n",
    "    print(f'{param} = {value}')"
   ]
  },
  {
   "cell_type": "markdown",
   "metadata": {},
   "source": [
    "# Запуск модели с лучшими параметрами LGBMClassifier"
   ]
  },
  {
   "cell_type": "code",
   "execution_count": 42,
   "metadata": {},
   "outputs": [],
   "source": [
    "final_pipeline = Pipeline(steps=[\n",
    "\n",
    "    \n",
    "        \n",
    "    # Создание дополнительных признаков и\n",
    "    # Преобразования численных переменных\n",
    "    ('normalization', YeoJohnsonTransformer()), \n",
    "    ('outlier_remover', Winsorizer()), \n",
    "    ('scaler', SklearnTransformerWrapper(StandardScaler())), \n",
    "\n",
    "\n",
    "    # Удаление дубликатов и коррелируемых признаков\n",
    "    ('constant_dropper', DropConstantFeatures(tol=0.9773490749325154)), \n",
    "    ('duplicated_dropper', DropDuplicateFeatures()), \n",
    "    ('correlated_dropper', DropCorrelatedFeatures(threshold=0.7436589728404206)), \n",
    "\n",
    "    # Лучшая модель с оптимизированными гиперпараметрами\n",
    "    ('model', LGBMClassifier(\n",
    "        random_state=128, learning_rate=0.11355452645263, boosting_type='gbdt', \n",
    "        n_estimators=577, reg_lambda=30.833857088371047, reg_alpha=4.631152487867318, num_leaves=85)), \n",
    "    \n",
    "])"
   ]
  },
  {
   "cell_type": "markdown",
   "metadata": {},
   "source": [
    "Метрики модели\n",
    "Для оценки метрик модели обучим её на объектах тренировочной и тествоой выборках и сделаем предсказания на тестовых данных.\n",
    "\n",
    "Целевая метрика roc-auc=0.74 (для пресказанных классов) выбранной модели превосходит 0.65, а значит, цель работы выполнена.\n",
    "\n",
    "У модели наблюдается совсем небольшое переобучение."
   ]
  },
  {
   "cell_type": "code",
   "execution_count": null,
   "metadata": {},
   "outputs": [],
   "source": [
    "X=X.dropna(how='all') \n",
    "y=y.dropna(how='all') "
   ]
  },
  {
   "cell_type": "code",
   "execution_count": 44,
   "metadata": {},
   "outputs": [],
   "source": [
    "final_model=final_pipeline.fit(X, y)"
   ]
  },
  {
   "cell_type": "code",
   "execution_count": 45,
   "metadata": {},
   "outputs": [
    {
     "name": "stdout",
     "output_type": "stream",
     "text": [
      "[0.62917759 0.64652459 0.66493674 0.6640116  0.66244603]\n"
     ]
    }
   ],
   "source": [
    "print(cross_val_score(final_pipeline, X, y, scoring=\"roc_auc\", cv = 5))"
   ]
  },
  {
   "cell_type": "code",
   "execution_count": 46,
   "metadata": {
    "scrolled": true
   },
   "outputs": [
    {
     "name": "stdout",
     "output_type": "stream",
     "text": [
      "[0.68215053 0.67414618 0.67364645 0.68914507 0.67540898]\n"
     ]
    }
   ],
   "source": [
    "print(cross_val_score(final_model, x_test, y_test, scoring=\"roc_auc\", cv = 5))"
   ]
  },
  {
   "cell_type": "code",
   "execution_count": 59,
   "metadata": {},
   "outputs": [
    {
     "data": {
      "text/plain": [
       "Pipeline(steps=[('normalization', YeoJohnsonTransformer()),\n",
       "                ('outlier_remover', Winsorizer()),\n",
       "                ('scaler',\n",
       "                 SklearnTransformerWrapper(transformer=StandardScaler())),\n",
       "                ('constant_dropper',\n",
       "                 DropConstantFeatures(tol=0.9773490749325154)),\n",
       "                ('duplicated_dropper', DropDuplicateFeatures()),\n",
       "                ('correlated_dropper',\n",
       "                 DropCorrelatedFeatures(threshold=0.7436589728404206)),\n",
       "                ('model',\n",
       "                 LGBMClassifier(learning_rate=0.11355452645263,\n",
       "                                n_estimators=577, num_leaves=85,\n",
       "                                random_state=128, reg_alpha=4.631152487867318,\n",
       "                                reg_lambda=30.833857088371047))])"
      ]
     },
     "execution_count": 59,
     "metadata": {},
     "output_type": "execute_result"
    }
   ],
   "source": [
    "final_model"
   ]
  },
  {
   "cell_type": "code",
   "execution_count": 54,
   "metadata": {},
   "outputs": [
    {
     "data": {
      "image/png": "[encoded data removed]",
      "text/plain": [
       "<Figure size 640x480 with 1 Axes>"
      ]
     },
     "metadata": {},
     "output_type": "display_data"
    }
   ],
   "source": [
    "from sklearn import metrics\n",
    "from matplotlib import pyplot as plt\n",
    "\n",
    "\n",
    "#define metrics\n",
    "y_pred_proba = final_model. predict_proba (X)[::,1]\n",
    "fpr, tpr, _ = metrics. roc_curve (y, y_pred_proba)\n",
    "auc = metrics. roc_auc_score (y, y_pred_proba)\n",
    "\n",
    "#create ROC curve\n",
    "plt.plot (fpr,tpr,label=\" AUC= \"+str(auc))\n",
    "plt.ylabel('True Positive Rate')\n",
    "plt.xlabel('False Positive Rate')\n",
    "plt.legend(loc=4)\n",
    "plt.show() "
   ]
  },
  {
   "cell_type": "markdown",
   "metadata": {},
   "source": [
    "# Финальная модель "
   ]
  },
  {
   "cell_type": "code",
   "execution_count": 71,
   "metadata": {},
   "outputs": [],
   "source": [
    "X_new=df_session.drop(['target'], axis=1)\n",
    "y_new=df_session['target']\n",
    "x_train_new, x_test_new, y_train_new, y_test_new = train_test_split(X_new, y_new, test_size=0.3, random_state=40)"
   ]
  },
  {
   "cell_type": "code",
   "execution_count": 72,
   "metadata": {},
   "outputs": [
    {
     "name": "stdout",
     "output_type": "stream",
     "text": [
      "точность тренировочной выборки = 0.5019109844208663\n",
      "точность тестовой выборки = 0.5006905101238843\n"
     ]
    }
   ],
   "source": [
    "lightgbm_best = LGBMClassifier(random_state=42, learning_rate=0.11355452645263, boosting_type='gbdt', \n",
    "        n_estimators=577, reg_lambda=30.833857088371047, reg_alpha=4.631152487867318, num_leaves=85)\n",
    "lightgbm_best.fit(x_train_new, y_train_new)\n",
    "# сделать предикт на тренировочных параметрах и выполнить оценку точности\n",
    "pred_train = lightgbm_best.predict(x_train_new)\n",
    "roc_auc_score(y_train_new, pred_train)\n",
    "# сделать предикт на тестовых параметрах и выполнить оценку точности\n",
    "pred_test = lightgbm_best.predict(x_test_new)\n",
    "roc_auc_score(y_test_new, pred_test)\n",
    "print('точность тренировочной выборки =', roc_auc_score(y_train_new, pred_train))\n",
    "print('точность тестовой выборки =', roc_auc_score(y_test_new, pred_test))\n"
   ]
  },
  {
   "cell_type": "markdown",
   "metadata": {},
   "source": [
    "# Анализ влияния feauture на результаты моделирования\n",
    "В итоге всех преобразований получается 25 признака\n"
   ]
  },
  {
   "cell_type": "code",
   "execution_count": 73,
   "metadata": {},
   "outputs": [
    {
     "data": {
      "text/plain": [
       "count     88.00000\n",
       "mean     550.77273\n",
       "std     1599.77531\n",
       "min        0.00000\n",
       "25%        0.00000\n",
       "50%       29.00000\n",
       "75%      102.50000\n",
       "max     8821.00000\n",
       "Name: feature_importances, dtype: float64"
      ]
     },
     "execution_count": 73,
     "metadata": {},
     "output_type": "execute_result"
    }
   ],
   "source": [
    "# выведем features и отсортируем по убыванию, чтобы понять, какие фичи вносят больший результат\n",
    "lightgbm_best.feature_importances_\n",
    "f_imp_list = list(zip(X.columns, lightgbm_best.feature_importances_))\n",
    "f_imp_list.sort(key = lambda x: x[1], reverse=True)\n",
    "f_imp_list=pd.DataFrame({\"features\": X.columns, \"feature_importances\": lightgbm_best.feature_importances_})\n",
    "f_imp_list['feature_importances'].describe()"
   ]
  },
  {
   "cell_type": "code",
   "execution_count": 74,
   "metadata": {},
   "outputs": [
    {
     "data": {
      "text/plain": [
       "count     53.00000\n",
       "mean     914.49057\n",
       "std     1985.66387\n",
       "min        3.00000\n",
       "25%       36.00000\n",
       "50%       70.00000\n",
       "75%      202.00000\n",
       "max     8821.00000\n",
       "Name: feature_importances, dtype: float64"
      ]
     },
     "execution_count": 74,
     "metadata": {},
     "output_type": "execute_result"
    }
   ],
   "source": [
    "# обрежем features, которые имеют вклад 0 в модель, осталось 112 features \n",
    "f_imp_list_cut = f_imp_list.loc[f_imp_list['feature_importances']>0, :]\n",
    "f_imp_list_cut['feature_importances'].describe()"
   ]
  },
  {
   "cell_type": "code",
   "execution_count": 75,
   "metadata": {},
   "outputs": [
    {
     "data": {
      "image/png": "[encoded data removed]",
      "text/plain": [
       "<Figure size 800x700 with 1 Axes>"
      ]
     },
     "metadata": {},
     "output_type": "display_data"
    },
    {
     "data": {
      "text/plain": [
       "<Figure size 800x700 with 0 Axes>"
      ]
     },
     "metadata": {},
     "output_type": "display_data"
    }
   ],
   "source": [
    "## Выведем фичи, значения которых максимально вносят вклад в модель, логично, что это все revenue\n",
    "\n",
    "from jupyterthemes import jtplot\n",
    "\n",
    "jtplot.style(context='notebook', ticks=True, grid=False)\n",
    "f_imp_list_cut = f_imp_list_cut.sort_values('feature_importances', ascending=False) \n",
    "sns.barplot(f_imp_list_cut['feature_importances'], f_imp_list_cut['features']).set(xscale=\"log\")  \n",
    "plt.figure()  \n",
    "plt.show() \n",
    "sns.set (font_scale=0.04)"
   ]
  },
  {
   "cell_type": "markdown",
   "metadata": {},
   "source": [
    "# Сохраним модель"
   ]
  },
  {
   "cell_type": "code",
   "execution_count": 76,
   "metadata": {},
   "outputs": [],
   "source": [
    "import pickle\n",
    "#cериализация модели \n",
    "filename = 'model.pickle'\n",
    "\n",
    "with open(filename, 'wb') as file:\n",
    "  pickle.dump(lightgbm_best, file) \n"
   ]
  },
  {
   "cell_type": "markdown",
   "metadata": {},
   "source": [
    "Выводы\n",
    "\n",
    "Было проверено 10 моделей с гиперпараметрами по умолчанию. В тройке лучших оказались алгоритмы бустинга от sklearn, lightgbm и catboost.\n",
    "\n",
    "В итоге в качестве лучшей модели был выбран LightGBM по следующим причинам:\n",
    "\n",
    "Один из лучших показателей roc_auc.\n",
    "Быстрое обучение.\n",
    "Модель интерпретируема, то есть можно получить показатели важности признаков.\n",
    "Может предсказывать вероятность класса.\n",
    "\n",
    "Качество модели по метрике roc-auc составляет 0.73 (0.67 при предсказании классов). Переобучения нет и цель проекта выполнена - roc-auc > 0.65.\n",
    "\n",
    "Для улучшения качества предсказания можно было бы:\n",
    "\n",
    "Увеличить количество данных. Тестовая выборка пойдёт на дообучение модели, так что может модель будет лучше в конечном итоге.\n",
    "Провести ребалансировку классов. Но если уменьшить выборку с отрицательной целевой переменной, то модель теряет в качестве, а если увеличивать выборку с положительным классом, то модели обучаются слишком долго.\n",
    "Провести более тщательный поиск наилучших гиперпараметров - это займёт много времени, а прирост качества будет небольшим.\n",
    "Провести дополнительную генерацию признаков. Но хорошие идеи придумывать сложно.\n",
    "Попробовать более сложные модели, например, нейронные сети глубокого обучения."
   ]
  }
 ],
 "metadata": {
  "colab": {
   "collapsed_sections": [
    "Lf9ySaQ2N2wh",
    "n5QeE0mS72vw",
    "aK0vbiZKAWXA",
    "UA72aly_AezK",
    "da2l_TxwSnaf",
    "zBYmAgFgOGNj",
    "xyP5XBWrOZf0",
    "_jajoWUvOe_Z",
    "WLLpaEb0bqEx"
   ],
   "provenance": [],
   "toc_visible": true
  },
  "kernelspec": {
   "display_name": "Python 3 (ipykernel)",
   "language": "python",
   "name": "python3"
  },
  "language_info": {
   "codemirror_mode": {
    "name": "ipython",
    "version": 3
   },
   "file_extension": ".py",
   "mimetype": "text/x-python",
   "name": "python",
   "nbconvert_exporter": "python",
   "pygments_lexer": "ipython3",
   "version": "3.9.13"
  }
 },
 "nbformat": 4,
 "nbformat_minor": 1
}
