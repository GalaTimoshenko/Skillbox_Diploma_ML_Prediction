{
 "cells": [
  {
   "cell_type": "markdown",
   "metadata": {
    "id": "R3nCfEEi9HHg"
   },
   "source": [
    "# **ВТОРАЯ ЧАСТЬ  - МОДЕЛИРОВАНИЕ'**\n",
    "\n",
    "---\n",
    "\n",
    "*   2) Data modelling Предсказание совершение целевого действия(ориентировочное значение ROC-AUC ~ 0.65) — факт совершения пользователей целевого действия.Разработать модель предсказания совершения одного из целевых действий (\"Заказать звонок\", \"Оставить заявку\") для сессий по введенным атрибутам типа utm_, device_, geo_* и упаковать модель в сервис.\n",
    "\n",
    "\n",
    "*   3) Deployment Упаковка получившейся модели в сервис, который будет брать на вход все атрибуты, типа utm_*, device_*, geo_*, и отдавать на выход 0/1 (1 — если пользователь совершит любое целевое действие)\n",
    "\n",
    "*   4) Подговка получившихся артефактов, проверка их на соответствие итоговым критериям оценки \n",
    "\n",
    "\n",
    "\n",
    "\n",
    "Целевая метрика: ориентировочное значение roc-auc > 0.65 — факт совершения пользователем целевого действия.\n",
    "\n",
    "Формат вывода ответа - 0/1\n",
    "\n",
    "Скорость ответа сервиса - не более 3 секунд\n",
    "\n",
    "Сервис - это должен быть (минимум) - py-скрипт с инструкцией по запуску, (максимум) - localhost web app.\n",
    "\n",
    "\n"
   ]
  },
  {
   "cell_type": "markdown",
   "metadata": {
    "id": "458QNctr9F6n"
   },
   "source": [
    "# **ИМПОРТ БИБЛИОТЕК**\n",
    "\n",
    "---"
   ]
  },
  {
   "cell_type": "code",
   "execution_count": 1,
   "metadata": {
    "colab": {
     "base_uri": "https://localhost:8080/"
    },
    "id": "V2o5zuraGrJC",
    "outputId": "c84305e7-038e-48cc-afc8-0f8a144af09d"
   },
   "outputs": [
    {
     "name": "stdout",
     "output_type": "stream",
     "text": [
      "Requirement already satisfied: xgboost in /home/sgm/anaconda3/lib/python3.9/site-packages (1.7.5)\n",
      "Requirement already satisfied: scipy in /home/sgm/anaconda3/lib/python3.9/site-packages (from xgboost) (1.7.1)\n",
      "Requirement already satisfied: numpy in /home/sgm/anaconda3/lib/python3.9/site-packages (from xgboost) (1.21.5)\n",
      "Requirement already satisfied: lightgbm in /home/sgm/anaconda3/lib/python3.9/site-packages (3.3.5)\n",
      "Requirement already satisfied: wheel in /home/sgm/anaconda3/lib/python3.9/site-packages (from lightgbm) (0.37.1)\n",
      "Requirement already satisfied: scikit-learn!=0.22.0 in /home/sgm/anaconda3/lib/python3.9/site-packages (from lightgbm) (1.0.2)\n",
      "Requirement already satisfied: scipy in /home/sgm/anaconda3/lib/python3.9/site-packages (from lightgbm) (1.7.1)\n",
      "Requirement already satisfied: numpy in /home/sgm/anaconda3/lib/python3.9/site-packages (from lightgbm) (1.21.5)\n",
      "Requirement already satisfied: threadpoolctl>=2.0.0 in /home/sgm/anaconda3/lib/python3.9/site-packages (from scikit-learn!=0.22.0->lightgbm) (2.2.0)\n",
      "Requirement already satisfied: joblib>=0.11 in /home/sgm/anaconda3/lib/python3.9/site-packages (from scikit-learn!=0.22.0->lightgbm) (1.1.0)\n",
      "Requirement already satisfied: bayesian-optimization in /home/sgm/anaconda3/lib/python3.9/site-packages (1.4.2)\n",
      "Requirement already satisfied: numpy>=1.9.0 in /home/sgm/anaconda3/lib/python3.9/site-packages (from bayesian-optimization) (1.21.5)\n",
      "Requirement already satisfied: colorama>=0.4.6 in /home/sgm/anaconda3/lib/python3.9/site-packages (from bayesian-optimization) (0.4.6)\n",
      "Requirement already satisfied: scipy>=1.0.0 in /home/sgm/anaconda3/lib/python3.9/site-packages (from bayesian-optimization) (1.7.1)\n",
      "Requirement already satisfied: scikit-learn>=0.18.0 in /home/sgm/anaconda3/lib/python3.9/site-packages (from bayesian-optimization) (1.0.2)\n",
      "Requirement already satisfied: threadpoolctl>=2.0.0 in /home/sgm/anaconda3/lib/python3.9/site-packages (from scikit-learn>=0.18.0->bayesian-optimization) (2.2.0)\n",
      "Requirement already satisfied: joblib>=0.11 in /home/sgm/anaconda3/lib/python3.9/site-packages (from scikit-learn>=0.18.0->bayesian-optimization) (1.1.0)\n",
      "Requirement already satisfied: feature-engine in /home/sgm/anaconda3/lib/python3.9/site-packages (1.6.0)\n",
      "Requirement already satisfied: pandas>=1.0.3 in /home/sgm/anaconda3/lib/python3.9/site-packages (from feature-engine) (1.4.4)\n",
      "Requirement already satisfied: scipy>=1.4.1 in /home/sgm/anaconda3/lib/python3.9/site-packages (from feature-engine) (1.7.1)\n",
      "Requirement already satisfied: scikit-learn>=1.0.0 in /home/sgm/anaconda3/lib/python3.9/site-packages (from feature-engine) (1.0.2)\n",
      "Requirement already satisfied: statsmodels>=0.11.1 in /home/sgm/anaconda3/lib/python3.9/site-packages (from feature-engine) (0.13.2)\n",
      "Requirement already satisfied: numpy>=1.18.2 in /home/sgm/anaconda3/lib/python3.9/site-packages (from feature-engine) (1.21.5)\n",
      "Requirement already satisfied: python-dateutil>=2.8.1 in /home/sgm/anaconda3/lib/python3.9/site-packages (from pandas>=1.0.3->feature-engine) (2.8.2)\n",
      "Requirement already satisfied: pytz>=2020.1 in /home/sgm/anaconda3/lib/python3.9/site-packages (from pandas>=1.0.3->feature-engine) (2022.6)\n",
      "Requirement already satisfied: threadpoolctl>=2.0.0 in /home/sgm/anaconda3/lib/python3.9/site-packages (from scikit-learn>=1.0.0->feature-engine) (2.2.0)\n",
      "Requirement already satisfied: joblib>=0.11 in /home/sgm/anaconda3/lib/python3.9/site-packages (from scikit-learn>=1.0.0->feature-engine) (1.1.0)\n",
      "Requirement already satisfied: patsy>=0.5.2 in /home/sgm/anaconda3/lib/python3.9/site-packages (from statsmodels>=0.11.1->feature-engine) (0.5.2)\n",
      "Requirement already satisfied: packaging>=21.3 in /home/sgm/anaconda3/lib/python3.9/site-packages (from statsmodels>=0.11.1->feature-engine) (21.3)\n",
      "Requirement already satisfied: pyparsing!=3.0.5,>=2.0.2 in /home/sgm/anaconda3/lib/python3.9/site-packages (from packaging>=21.3->statsmodels>=0.11.1->feature-engine) (3.0.9)\n",
      "Requirement already satisfied: six in /home/sgm/anaconda3/lib/python3.9/site-packages (from patsy>=0.5.2->statsmodels>=0.11.1->feature-engine) (1.16.0)\n",
      "Requirement already satisfied: bayesian-optimization in /home/sgm/anaconda3/lib/python3.9/site-packages (1.4.2)\n",
      "Requirement already satisfied: numpy>=1.9.0 in /home/sgm/anaconda3/lib/python3.9/site-packages (from bayesian-optimization) (1.21.5)\n",
      "Requirement already satisfied: colorama>=0.4.6 in /home/sgm/anaconda3/lib/python3.9/site-packages (from bayesian-optimization) (0.4.6)\n",
      "Requirement already satisfied: scipy>=1.0.0 in /home/sgm/anaconda3/lib/python3.9/site-packages (from bayesian-optimization) (1.7.1)\n",
      "Requirement already satisfied: scikit-learn>=0.18.0 in /home/sgm/anaconda3/lib/python3.9/site-packages (from bayesian-optimization) (1.0.2)\n",
      "Requirement already satisfied: joblib>=0.11 in /home/sgm/anaconda3/lib/python3.9/site-packages (from scikit-learn>=0.18.0->bayesian-optimization) (1.1.0)\n",
      "Requirement already satisfied: threadpoolctl>=2.0.0 in /home/sgm/anaconda3/lib/python3.9/site-packages (from scikit-learn>=0.18.0->bayesian-optimization) (2.2.0)\n",
      "Requirement already satisfied: colorama in /home/sgm/anaconda3/lib/python3.9/site-packages (0.4.6)\n"
     ]
    }
   ],
   "source": [
    "!pip install xgboost \n",
    "!pip install lightgbm \n",
    "!pip install bayesian-optimization\n",
    "!pip install feature-engine\n",
    "!pip install bayesian-optimization\n",
    "!pip install colorama\n",
    "\n",
    "\n",
    "\n",
    "import scipy\n",
    "import sys\n",
    "from datetime import datetime\n",
    "import warnings\n",
    "from pathlib import Path\n",
    "from typing import Union\n",
    "from functools import partial\n",
    "import time\n",
    "import os\n",
    "import warnings\n",
    "warnings.filterwarnings('ignore')\n",
    "\n",
    "# препроцессинг и метрики\n",
    "\n",
    "from matplotlib import pyplot\n",
    "import seaborn as sns\n",
    "import pandas as pd\n",
    "import numpy as np\n",
    "import scipy.stats as stats\n",
    "from sklearn.preprocessing import FunctionTransformer, StandardScaler\n",
    "from sklearn.model_selection import (\n",
    "    train_test_split, GridSearchCV, StratifiedKFold)\n",
    "from sklearn.metrics import (\n",
    "    roc_auc_score, accuracy_score, confusion_matrix, precision_score, \n",
    "    recall_score, f1_score, make_scorer, roc_curve)\n",
    "from sklearn.pipeline import Pipeline\n",
    "from feature_engine.encoding import RareLabelEncoder, OneHotEncoder\n",
    "from feature_engine.wrappers import SklearnTransformerWrapper\n",
    "from feature_engine.outliers import Winsorizer\n",
    "from feature_engine.selection import (\n",
    "    DropDuplicateFeatures, DropConstantFeatures, \n",
    "    DropCorrelatedFeatures, DropFeatures)\n",
    "from feature_engine.transformation import YeoJohnsonTransformer\n",
    "from bayes_opt import BayesianOptimization\n",
    "\n",
    "# модели\n",
    "from sklearn.base import BaseEstimator\n",
    "from sklearn.dummy import DummyClassifier\n",
    "from sklearn.linear_model import LogisticRegression\n",
    "from sklearn.neighbors import KNeighborsClassifier\n",
    "from sklearn.neural_network import MLPClassifier\n",
    "from sklearn.svm import LinearSVC\n",
    "from sklearn.naive_bayes import GaussianNB\n",
    "from sklearn.tree import DecisionTreeClassifier\n",
    "from sklearn.ensemble import (\n",
    "    RandomForestClassifier, HistGradientBoostingClassifier)\n",
    "from catboost import CatBoostClassifier\n",
    "from xgboost import XGBClassifier\n",
    "from lightgbm import LGBMClassifier"
   ]
  },
  {
   "cell_type": "markdown",
   "metadata": {
    "id": "Lf9ySaQ2N2wh"
   },
   "source": [
    "# Загрузка датасет sessions.csv с колонкой target"
   ]
  },
  {
   "cell_type": "code",
   "execution_count": 35,
   "metadata": {
    "id": "DfdICFH5N2wh",
    "outputId": "e9a6bb66-9864-41e2-91d7-1fb88498117d",
    "scrolled": true
   },
   "outputs": [
    {
     "name": "stdout",
     "output_type": "stream",
     "text": [
      "Датасет сеансов успешно прочитан из файла ga_sessions.csv, \n",
      "Размеры датасета: (1128602, 28), \n",
      "Время чтения файла в датасет: 2.928\n"
     ]
    }
   ],
   "source": [
    "path = os.path.expanduser('~/PycharmProjects/FinalFantasyProj/')\n",
    "start = time.time() # включим таймер для подсчета времени чтения файла в датасет\n",
    "df_session = pd.read_csv(path + 'df_sessions_prepared_for_modelling.csv', low_memory=False)\n",
    "elapsed_time = time.time() - start # зафиксируем время чтения файлма в датасет\n",
    "print(f'Датасет сеансов успешно прочитан из файла ga_sessions.csv, \\nРазмеры датасета: {df_session.shape}, \\nВремя чтения файла в датасет: {elapsed_time:.3f}')"
   ]
  },
  {
   "cell_type": "markdown",
   "metadata": {
    "id": "n5QeE0mS72vw"
   },
   "source": [
    "# ПОДГОТОВКА К МОДЕЛИРОВАНИЮ\n",
    "\n",
    "---\n",
    "Существуют различные способы повышения качества работы моделей машинного обучения. Одним из таких способов является создание новых признаков. в блокноте 1 части создались такие новые признаки как \n",
    "car_brand\n",
    "car_model\n",
    "visit_date_day\n",
    "visit_time_hour\n",
    "visit_time_night\n",
    "visit_number_no_outliers\n",
    "device_screen_width\n",
    "device_screen_height\n",
    "device_screen_area\n",
    "device_screen_ratio\n",
    "\n",
    "\n"
   ]
  },
  {
   "cell_type": "code",
   "execution_count": 70,
   "metadata": {
    "scrolled": true
   },
   "outputs": [
    {
     "name": "stdout",
     "output_type": "stream",
     "text": [
      "<class 'pandas.core.frame.DataFrame'>\n",
      "RangeIndex: 1128602 entries, 0 to 1128601\n",
      "Data columns (total 18 columns):\n",
      " #   Column                                  Non-Null Count    Dtype  \n",
      "---  ------                                  --------------    -----  \n",
      " 0   device_category                         1128602 non-null  object \n",
      " 1   device_browser                          1128602 non-null  object \n",
      " 2   target                                  1128602 non-null  int64  \n",
      " 3   car_brand                               1128602 non-null  object \n",
      " 4   car_model                               1128602 non-null  object \n",
      " 5   visit_date_weekday                      1128602 non-null  int64  \n",
      " 6   visit_date_month                        1128602 non-null  int64  \n",
      " 7   visit_date_day                          1128602 non-null  int64  \n",
      " 8   visit_time_hour                         1128602 non-null  int64  \n",
      " 9   visit_time_night                        1128602 non-null  bool   \n",
      " 10  device_screen_width                     1128602 non-null  int64  \n",
      " 11  device_screen_height                    1128602 non-null  int64  \n",
      " 12  device_screen_area                      1128602 non-null  int64  \n",
      " 13  device_screen_ratio                     1128602 non-null  float64\n",
      " 14  geo_country_is_russia                   1128602 non-null  bool   \n",
      " 15  geo_city_is_big                         1128602 non-null  bool   \n",
      " 16  geo_city_distance_from_moscow           1128602 non-null  float64\n",
      " 17  geo_city_distance_from_moscow_category  1128602 non-null  object \n",
      "dtypes: bool(3), float64(2), int64(8), object(5)\n",
      "memory usage: 132.4+ MB\n",
      "None\n"
     ]
    }
   ],
   "source": [
    "df_session.describe(include='all')\n",
    "#удалим категориальные колонки, которые не будем преобразовывать в OHE\n",
    "df_session = df_session.drop(['visit_number', 'utm_source', 'utm_medium', 'utm_campaign',\n",
    "                             'utm_adcontent', 'device_brand', 'device_screen_resolution', \n",
    "                             'geo_country', 'geo_city', 'visit_date_weekend'], axis=1)\n",
    "print(df_session.info())"
   ]
  },
  {
   "cell_type": "code",
   "execution_count": 143,
   "metadata": {},
   "outputs": [
    {
     "data": {
      "text/plain": [
       "0          0\n",
       "1          0\n",
       "2          0\n",
       "3          0\n",
       "4          0\n",
       "          ..\n",
       "1128597    0\n",
       "1128598    0\n",
       "1128599    0\n",
       "1128600    0\n",
       "1128601    0\n",
       "Name: target, Length: 959336, dtype: int64"
      ]
     },
     "execution_count": 143,
     "metadata": {},
     "output_type": "execute_result"
    }
   ],
   "source": [
    "target = df_session['target']\n",
    "target"
   ]
  },
  {
   "cell_type": "code",
   "execution_count": 67,
   "metadata": {},
   "outputs": [],
   "source": [
    "df_session['device_browser'].value_counts()\n",
    "df_session.loc[df_session['device_browser'] == '(not set)', 'device_browser'] = df_session['device_browser'].apply(lambda x: 'Chrome')\n",
    "df_session.loc[df_session['device_browser'] == 'Instagram 208.0.0.32.135 Android', 'device_browser'] = df_session['device_browser'].apply(lambda x: 'Instagram')\n",
    "df_session.loc[df_session['device_browser'] == 'Instagram 209.0.0.21.119 Android', 'device_browser'] = df_session['device_browser'].apply(lambda x: 'Instagram')\n",
    "df_session.loc[df_session['device_browser'] == 'Instagram 207.0.0.28.118', 'device_browser'] = df_session['device_browser'].apply(lambda x: 'Instagram')\n",
    "df_session.loc[df_session['device_browser'] == 'Instagram 216.0.0.12.135', 'device_browser'] = df_session['device_browser'].apply(lambda x: 'Instagram')\n",
    "df_session.loc[df_session['device_browser'] == 'Instagram 216.1.0.21.137 Android', 'device_browser'] = df_session['device_browser'].apply(lambda x: 'Instagram')\n",
    "df_session.loc[df_session['device_browser'] == 'Instagram 208.0.0.26.131', 'device_browser'] = df_session['device_browser'].apply(lambda x: 'Instagram')\n",
    "df_session.loc[df_session['device_browser'] == 'Mozilla Compatible Agent', 'device_browser'] = df_session['device_browser'].apply(lambda x: 'Mozilla')\n",
    "df_session.loc[df_session['device_browser'] == 'Coc Coc', 'device_browser'] = df_session['device_browser'].apply(lambda x: 'other')\n",
    "df_session.loc[df_session['device_browser'] == 'Konqueror', 'device_browser'] = df_session['device_browser'].apply(lambda x: 'other')\n",
    "df_session.loc[df_session['device_browser'] == 'Nokia501', 'device_browser'] = df_session['device_browser'].apply(lambda x: 'other')\n",
    "df_session.loc[df_session['device_browser'] == 'NokiaX2-02', 'device_browser'] = df_session['device_browser'].apply(lambda x: 'other')\n",
    "df_session.loc[df_session['device_browser'] == 'MyApp', 'device_browser'] = df_session['device_browser'].apply(lambda x: 'other')\n",
    "df_session.loc[df_session['device_browser'] == 'SeaMonkey', 'device_browser'] = df_session['device_browser'].apply(lambda x: 'other')\n",
    "df_session.loc[df_session['device_browser'] == 'Android Browser', 'device_browser'] = df_session['device_browser'].apply(lambda x: 'Android Webview')\n",
    "df_session.loc[df_session['device_browser'] == 'Opera Mini', 'device_browser'] = df_session['device_browser'].apply(lambda x: 'Opera')\n",
    "df_session.loc[df_session['device_browser'] == '[FBAN', 'device_browser'] = df_session['device_browser'].apply(lambda x: 'FBAN')\n"
   ]
  },
  {
   "cell_type": "code",
   "execution_count": 44,
   "metadata": {},
   "outputs": [],
   "source": [
    "df_session['utm_medium'].value_counts()\n",
    "df_session.loc[df_session['utm_medium'] == '(not set)', 'utm_medium'] = df_session['utm_medium'].apply(lambda x: 'banner')"
   ]
  },
  {
   "cell_type": "code",
   "execution_count": 71,
   "metadata": {},
   "outputs": [
    {
     "data": {
      "text/html": [
       "<div>\n",
       "<style scoped>\n",
       "    .dataframe tbody tr th:only-of-type {\n",
       "        vertical-align: middle;\n",
       "    }\n",
       "\n",
       "    .dataframe tbody tr th {\n",
       "        vertical-align: top;\n",
       "    }\n",
       "\n",
       "    .dataframe thead th {\n",
       "        text-align: right;\n",
       "    }\n",
       "</style>\n",
       "<table border=\"1\" class=\"dataframe\">\n",
       "  <thead>\n",
       "    <tr style=\"text-align: right;\">\n",
       "      <th></th>\n",
       "      <th>device_category</th>\n",
       "      <th>device_browser</th>\n",
       "      <th>target</th>\n",
       "      <th>car_brand</th>\n",
       "      <th>car_model</th>\n",
       "      <th>visit_date_weekday</th>\n",
       "      <th>visit_date_month</th>\n",
       "      <th>visit_date_day</th>\n",
       "      <th>visit_time_hour</th>\n",
       "      <th>visit_time_night</th>\n",
       "      <th>device_screen_width</th>\n",
       "      <th>device_screen_height</th>\n",
       "      <th>device_screen_area</th>\n",
       "      <th>device_screen_ratio</th>\n",
       "      <th>geo_country_is_russia</th>\n",
       "      <th>geo_city_is_big</th>\n",
       "      <th>geo_city_distance_from_moscow</th>\n",
       "      <th>geo_city_distance_from_moscow_category</th>\n",
       "    </tr>\n",
       "  </thead>\n",
       "  <tbody>\n",
       "    <tr>\n",
       "      <th>0</th>\n",
       "      <td>mobile</td>\n",
       "      <td>Chrome</td>\n",
       "      <td>0</td>\n",
       "      <td>skoda</td>\n",
       "      <td>rapid</td>\n",
       "      <td>1</td>\n",
       "      <td>12</td>\n",
       "      <td>28</td>\n",
       "      <td>2</td>\n",
       "      <td>True</td>\n",
       "      <td>360</td>\n",
       "      <td>720</td>\n",
       "      <td>259200</td>\n",
       "      <td>0.500000</td>\n",
       "      <td>True</td>\n",
       "      <td>True</td>\n",
       "      <td>3336.039750</td>\n",
       "      <td>&gt;= 3000 km</td>\n",
       "    </tr>\n",
       "    <tr>\n",
       "      <th>1</th>\n",
       "      <td>mobile</td>\n",
       "      <td>Chrome</td>\n",
       "      <td>0</td>\n",
       "      <td>skoda</td>\n",
       "      <td>rapid</td>\n",
       "      <td>5</td>\n",
       "      <td>5</td>\n",
       "      <td>29</td>\n",
       "      <td>5</td>\n",
       "      <td>True</td>\n",
       "      <td>393</td>\n",
       "      <td>786</td>\n",
       "      <td>308898</td>\n",
       "      <td>0.500000</td>\n",
       "      <td>True</td>\n",
       "      <td>True</td>\n",
       "      <td>0.000000</td>\n",
       "      <td>moscow</td>\n",
       "    </tr>\n",
       "    <tr>\n",
       "      <th>2</th>\n",
       "      <td>mobile</td>\n",
       "      <td>Safari</td>\n",
       "      <td>0</td>\n",
       "      <td>skoda</td>\n",
       "      <td>rapid</td>\n",
       "      <td>0</td>\n",
       "      <td>5</td>\n",
       "      <td>31</td>\n",
       "      <td>12</td>\n",
       "      <td>False</td>\n",
       "      <td>375</td>\n",
       "      <td>812</td>\n",
       "      <td>304500</td>\n",
       "      <td>0.461823</td>\n",
       "      <td>True</td>\n",
       "      <td>True</td>\n",
       "      <td>636.169514</td>\n",
       "      <td>500-1000 km</td>\n",
       "    </tr>\n",
       "    <tr>\n",
       "      <th>3</th>\n",
       "      <td>tablet</td>\n",
       "      <td>YaBrowser</td>\n",
       "      <td>0</td>\n",
       "      <td>skoda</td>\n",
       "      <td>rapid</td>\n",
       "      <td>3</td>\n",
       "      <td>12</td>\n",
       "      <td>30</td>\n",
       "      <td>8</td>\n",
       "      <td>True</td>\n",
       "      <td>602</td>\n",
       "      <td>1029</td>\n",
       "      <td>619458</td>\n",
       "      <td>0.585034</td>\n",
       "      <td>True</td>\n",
       "      <td>True</td>\n",
       "      <td>636.169514</td>\n",
       "      <td>500-1000 km</td>\n",
       "    </tr>\n",
       "    <tr>\n",
       "      <th>4</th>\n",
       "      <td>mobile</td>\n",
       "      <td>Chrome</td>\n",
       "      <td>0</td>\n",
       "      <td>skoda</td>\n",
       "      <td>rapid</td>\n",
       "      <td>0</td>\n",
       "      <td>7</td>\n",
       "      <td>12</td>\n",
       "      <td>19</td>\n",
       "      <td>False</td>\n",
       "      <td>360</td>\n",
       "      <td>640</td>\n",
       "      <td>230400</td>\n",
       "      <td>0.562500</td>\n",
       "      <td>True</td>\n",
       "      <td>True</td>\n",
       "      <td>636.169514</td>\n",
       "      <td>500-1000 km</td>\n",
       "    </tr>\n",
       "    <tr>\n",
       "      <th>...</th>\n",
       "      <td>...</td>\n",
       "      <td>...</td>\n",
       "      <td>...</td>\n",
       "      <td>...</td>\n",
       "      <td>...</td>\n",
       "      <td>...</td>\n",
       "      <td>...</td>\n",
       "      <td>...</td>\n",
       "      <td>...</td>\n",
       "      <td>...</td>\n",
       "      <td>...</td>\n",
       "      <td>...</td>\n",
       "      <td>...</td>\n",
       "      <td>...</td>\n",
       "      <td>...</td>\n",
       "      <td>...</td>\n",
       "      <td>...</td>\n",
       "      <td>...</td>\n",
       "    </tr>\n",
       "    <tr>\n",
       "      <th>1128597</th>\n",
       "      <td>mobile</td>\n",
       "      <td>Chrome</td>\n",
       "      <td>0</td>\n",
       "      <td>skoda</td>\n",
       "      <td>rapid</td>\n",
       "      <td>5</td>\n",
       "      <td>12</td>\n",
       "      <td>4</td>\n",
       "      <td>9</td>\n",
       "      <td>False</td>\n",
       "      <td>384</td>\n",
       "      <td>854</td>\n",
       "      <td>327936</td>\n",
       "      <td>0.449649</td>\n",
       "      <td>True</td>\n",
       "      <td>False</td>\n",
       "      <td>1127.659720</td>\n",
       "      <td>1000-3000 km</td>\n",
       "    </tr>\n",
       "    <tr>\n",
       "      <th>1128598</th>\n",
       "      <td>mobile</td>\n",
       "      <td>Chrome</td>\n",
       "      <td>0</td>\n",
       "      <td>nissan</td>\n",
       "      <td>x-trail</td>\n",
       "      <td>5</td>\n",
       "      <td>12</td>\n",
       "      <td>4</td>\n",
       "      <td>9</td>\n",
       "      <td>False</td>\n",
       "      <td>384</td>\n",
       "      <td>854</td>\n",
       "      <td>327936</td>\n",
       "      <td>0.449649</td>\n",
       "      <td>True</td>\n",
       "      <td>False</td>\n",
       "      <td>1127.659720</td>\n",
       "      <td>1000-3000 km</td>\n",
       "    </tr>\n",
       "    <tr>\n",
       "      <th>1128599</th>\n",
       "      <td>mobile</td>\n",
       "      <td>Safari</td>\n",
       "      <td>0</td>\n",
       "      <td>skoda</td>\n",
       "      <td>rapid</td>\n",
       "      <td>2</td>\n",
       "      <td>5</td>\n",
       "      <td>26</td>\n",
       "      <td>8</td>\n",
       "      <td>True</td>\n",
       "      <td>390</td>\n",
       "      <td>844</td>\n",
       "      <td>329160</td>\n",
       "      <td>0.462085</td>\n",
       "      <td>True</td>\n",
       "      <td>False</td>\n",
       "      <td>1278.987697</td>\n",
       "      <td>1000-3000 km</td>\n",
       "    </tr>\n",
       "    <tr>\n",
       "      <th>1128600</th>\n",
       "      <td>mobile</td>\n",
       "      <td>Safari</td>\n",
       "      <td>0</td>\n",
       "      <td>mercedes-benz</td>\n",
       "      <td>glc</td>\n",
       "      <td>0</td>\n",
       "      <td>11</td>\n",
       "      <td>15</td>\n",
       "      <td>15</td>\n",
       "      <td>False</td>\n",
       "      <td>375</td>\n",
       "      <td>667</td>\n",
       "      <td>250125</td>\n",
       "      <td>0.562219</td>\n",
       "      <td>True</td>\n",
       "      <td>True</td>\n",
       "      <td>0.000000</td>\n",
       "      <td>moscow</td>\n",
       "    </tr>\n",
       "    <tr>\n",
       "      <th>1128601</th>\n",
       "      <td>mobile</td>\n",
       "      <td>Safari</td>\n",
       "      <td>0</td>\n",
       "      <td>bmw</td>\n",
       "      <td>x3</td>\n",
       "      <td>0</td>\n",
       "      <td>11</td>\n",
       "      <td>15</td>\n",
       "      <td>15</td>\n",
       "      <td>False</td>\n",
       "      <td>375</td>\n",
       "      <td>667</td>\n",
       "      <td>250125</td>\n",
       "      <td>0.562219</td>\n",
       "      <td>True</td>\n",
       "      <td>True</td>\n",
       "      <td>0.000000</td>\n",
       "      <td>moscow</td>\n",
       "    </tr>\n",
       "  </tbody>\n",
       "</table>\n",
       "<p>1128602 rows × 18 columns</p>\n",
       "</div>"
      ],
      "text/plain": [
       "        device_category device_browser  target      car_brand car_model  \\\n",
       "0                mobile         Chrome       0          skoda     rapid   \n",
       "1                mobile         Chrome       0          skoda     rapid   \n",
       "2                mobile         Safari       0          skoda     rapid   \n",
       "3                tablet      YaBrowser       0          skoda     rapid   \n",
       "4                mobile         Chrome       0          skoda     rapid   \n",
       "...                 ...            ...     ...            ...       ...   \n",
       "1128597          mobile         Chrome       0          skoda     rapid   \n",
       "1128598          mobile         Chrome       0         nissan   x-trail   \n",
       "1128599          mobile         Safari       0          skoda     rapid   \n",
       "1128600          mobile         Safari       0  mercedes-benz       glc   \n",
       "1128601          mobile         Safari       0            bmw        x3   \n",
       "\n",
       "         visit_date_weekday  visit_date_month  visit_date_day  \\\n",
       "0                         1                12              28   \n",
       "1                         5                 5              29   \n",
       "2                         0                 5              31   \n",
       "3                         3                12              30   \n",
       "4                         0                 7              12   \n",
       "...                     ...               ...             ...   \n",
       "1128597                   5                12               4   \n",
       "1128598                   5                12               4   \n",
       "1128599                   2                 5              26   \n",
       "1128600                   0                11              15   \n",
       "1128601                   0                11              15   \n",
       "\n",
       "         visit_time_hour  visit_time_night  device_screen_width  \\\n",
       "0                      2              True                  360   \n",
       "1                      5              True                  393   \n",
       "2                     12             False                  375   \n",
       "3                      8              True                  602   \n",
       "4                     19             False                  360   \n",
       "...                  ...               ...                  ...   \n",
       "1128597                9             False                  384   \n",
       "1128598                9             False                  384   \n",
       "1128599                8              True                  390   \n",
       "1128600               15             False                  375   \n",
       "1128601               15             False                  375   \n",
       "\n",
       "         device_screen_height  device_screen_area  device_screen_ratio  \\\n",
       "0                         720              259200             0.500000   \n",
       "1                         786              308898             0.500000   \n",
       "2                         812              304500             0.461823   \n",
       "3                        1029              619458             0.585034   \n",
       "4                         640              230400             0.562500   \n",
       "...                       ...                 ...                  ...   \n",
       "1128597                   854              327936             0.449649   \n",
       "1128598                   854              327936             0.449649   \n",
       "1128599                   844              329160             0.462085   \n",
       "1128600                   667              250125             0.562219   \n",
       "1128601                   667              250125             0.562219   \n",
       "\n",
       "         geo_country_is_russia  geo_city_is_big  \\\n",
       "0                         True             True   \n",
       "1                         True             True   \n",
       "2                         True             True   \n",
       "3                         True             True   \n",
       "4                         True             True   \n",
       "...                        ...              ...   \n",
       "1128597                   True            False   \n",
       "1128598                   True            False   \n",
       "1128599                   True            False   \n",
       "1128600                   True             True   \n",
       "1128601                   True             True   \n",
       "\n",
       "         geo_city_distance_from_moscow geo_city_distance_from_moscow_category  \n",
       "0                          3336.039750                             >= 3000 km  \n",
       "1                             0.000000                                 moscow  \n",
       "2                           636.169514                            500-1000 km  \n",
       "3                           636.169514                            500-1000 km  \n",
       "4                           636.169514                            500-1000 km  \n",
       "...                                ...                                    ...  \n",
       "1128597                    1127.659720                           1000-3000 km  \n",
       "1128598                    1127.659720                           1000-3000 km  \n",
       "1128599                    1278.987697                           1000-3000 km  \n",
       "1128600                       0.000000                                 moscow  \n",
       "1128601                       0.000000                                 moscow  \n",
       "\n",
       "[1128602 rows x 18 columns]"
      ]
     },
     "execution_count": 71,
     "metadata": {},
     "output_type": "execute_result"
    }
   ],
   "source": [
    "df_session"
   ]
  },
  {
   "cell_type": "markdown",
   "metadata": {},
   "source": [
    "# Нормализация данных"
   ]
  },
  {
   "cell_type": "code",
   "execution_count": 74,
   "metadata": {},
   "outputs": [],
   "source": [
    "# еще одна нормализация - это min-max нормализация значения [0;1]\n",
    "from sklearn.preprocessing import MinMaxScaler\n",
    "minmax_data=df_session[['device_screen_width', 'device_screen_height', 'device_screen_area', \n",
    "                        'device_screen_ratio', 'geo_city_distance_from_moscow', 'device_screen_width',\n",
    "                       'device_screen_height', 'device_screen_area', 'device_screen_ratio']]\n",
    "mm_scaler = MinMaxScaler()\n",
    "mm_scaler\n",
    "mm_scaler.fit(minmax_data)\n",
    "mm_scaled = mm_scaler.transform(minmax_data)"
   ]
  },
  {
   "cell_type": "code",
   "execution_count": 75,
   "metadata": {},
   "outputs": [],
   "source": [
    "df_session[['device_screen_width', 'device_screen_height', 'device_screen_area', \n",
    "                        'device_screen_ratio', 'geo_city_distance_from_moscow','device_screen_width',\n",
    "                       'device_screen_height', 'device_screen_area', 'device_screen_ratio']] = mm_scaled"
   ]
  },
  {
   "cell_type": "code",
   "execution_count": 76,
   "metadata": {},
   "outputs": [
    {
     "data": {
      "text/html": [
       "<div>\n",
       "<style scoped>\n",
       "    .dataframe tbody tr th:only-of-type {\n",
       "        vertical-align: middle;\n",
       "    }\n",
       "\n",
       "    .dataframe tbody tr th {\n",
       "        vertical-align: top;\n",
       "    }\n",
       "\n",
       "    .dataframe thead th {\n",
       "        text-align: right;\n",
       "    }\n",
       "</style>\n",
       "<table border=\"1\" class=\"dataframe\">\n",
       "  <thead>\n",
       "    <tr style=\"text-align: right;\">\n",
       "      <th></th>\n",
       "      <th>device_category</th>\n",
       "      <th>device_browser</th>\n",
       "      <th>target</th>\n",
       "      <th>car_brand</th>\n",
       "      <th>car_model</th>\n",
       "      <th>visit_date_weekday</th>\n",
       "      <th>visit_date_month</th>\n",
       "      <th>visit_date_day</th>\n",
       "      <th>visit_time_hour</th>\n",
       "      <th>visit_time_night</th>\n",
       "      <th>device_screen_width</th>\n",
       "      <th>device_screen_height</th>\n",
       "      <th>device_screen_area</th>\n",
       "      <th>device_screen_ratio</th>\n",
       "      <th>geo_country_is_russia</th>\n",
       "      <th>geo_city_is_big</th>\n",
       "      <th>geo_city_distance_from_moscow</th>\n",
       "      <th>geo_city_distance_from_moscow_category</th>\n",
       "    </tr>\n",
       "  </thead>\n",
       "  <tbody>\n",
       "    <tr>\n",
       "      <th>0</th>\n",
       "      <td>mobile</td>\n",
       "      <td>Chrome</td>\n",
       "      <td>0</td>\n",
       "      <td>skoda</td>\n",
       "      <td>rapid</td>\n",
       "      <td>1</td>\n",
       "      <td>12</td>\n",
       "      <td>28</td>\n",
       "      <td>2</td>\n",
       "      <td>True</td>\n",
       "      <td>0.032258</td>\n",
       "      <td>0.095395</td>\n",
       "      <td>0.009640</td>\n",
       "      <td>0.034063</td>\n",
       "      <td>True</td>\n",
       "      <td>True</td>\n",
       "      <td>0.490812</td>\n",
       "      <td>&gt;= 3000 km</td>\n",
       "    </tr>\n",
       "    <tr>\n",
       "      <th>1</th>\n",
       "      <td>mobile</td>\n",
       "      <td>Chrome</td>\n",
       "      <td>0</td>\n",
       "      <td>skoda</td>\n",
       "      <td>rapid</td>\n",
       "      <td>5</td>\n",
       "      <td>5</td>\n",
       "      <td>29</td>\n",
       "      <td>5</td>\n",
       "      <td>True</td>\n",
       "      <td>0.038172</td>\n",
       "      <td>0.108964</td>\n",
       "      <td>0.012016</td>\n",
       "      <td>0.034063</td>\n",
       "      <td>True</td>\n",
       "      <td>True</td>\n",
       "      <td>0.000147</td>\n",
       "      <td>moscow</td>\n",
       "    </tr>\n",
       "    <tr>\n",
       "      <th>2</th>\n",
       "      <td>mobile</td>\n",
       "      <td>Safari</td>\n",
       "      <td>0</td>\n",
       "      <td>skoda</td>\n",
       "      <td>rapid</td>\n",
       "      <td>0</td>\n",
       "      <td>5</td>\n",
       "      <td>31</td>\n",
       "      <td>12</td>\n",
       "      <td>False</td>\n",
       "      <td>0.034946</td>\n",
       "      <td>0.114309</td>\n",
       "      <td>0.011806</td>\n",
       "      <td>0.026433</td>\n",
       "      <td>True</td>\n",
       "      <td>True</td>\n",
       "      <td>0.093715</td>\n",
       "      <td>500-1000 km</td>\n",
       "    </tr>\n",
       "    <tr>\n",
       "      <th>3</th>\n",
       "      <td>tablet</td>\n",
       "      <td>YaBrowser</td>\n",
       "      <td>0</td>\n",
       "      <td>skoda</td>\n",
       "      <td>rapid</td>\n",
       "      <td>3</td>\n",
       "      <td>12</td>\n",
       "      <td>30</td>\n",
       "      <td>8</td>\n",
       "      <td>True</td>\n",
       "      <td>0.075627</td>\n",
       "      <td>0.158923</td>\n",
       "      <td>0.026865</td>\n",
       "      <td>0.051057</td>\n",
       "      <td>True</td>\n",
       "      <td>True</td>\n",
       "      <td>0.093715</td>\n",
       "      <td>500-1000 km</td>\n",
       "    </tr>\n",
       "    <tr>\n",
       "      <th>4</th>\n",
       "      <td>mobile</td>\n",
       "      <td>Chrome</td>\n",
       "      <td>0</td>\n",
       "      <td>skoda</td>\n",
       "      <td>rapid</td>\n",
       "      <td>0</td>\n",
       "      <td>7</td>\n",
       "      <td>12</td>\n",
       "      <td>19</td>\n",
       "      <td>False</td>\n",
       "      <td>0.032258</td>\n",
       "      <td>0.078947</td>\n",
       "      <td>0.008262</td>\n",
       "      <td>0.046553</td>\n",
       "      <td>True</td>\n",
       "      <td>True</td>\n",
       "      <td>0.093715</td>\n",
       "      <td>500-1000 km</td>\n",
       "    </tr>\n",
       "    <tr>\n",
       "      <th>...</th>\n",
       "      <td>...</td>\n",
       "      <td>...</td>\n",
       "      <td>...</td>\n",
       "      <td>...</td>\n",
       "      <td>...</td>\n",
       "      <td>...</td>\n",
       "      <td>...</td>\n",
       "      <td>...</td>\n",
       "      <td>...</td>\n",
       "      <td>...</td>\n",
       "      <td>...</td>\n",
       "      <td>...</td>\n",
       "      <td>...</td>\n",
       "      <td>...</td>\n",
       "      <td>...</td>\n",
       "      <td>...</td>\n",
       "      <td>...</td>\n",
       "      <td>...</td>\n",
       "    </tr>\n",
       "    <tr>\n",
       "      <th>1128597</th>\n",
       "      <td>mobile</td>\n",
       "      <td>Chrome</td>\n",
       "      <td>0</td>\n",
       "      <td>skoda</td>\n",
       "      <td>rapid</td>\n",
       "      <td>5</td>\n",
       "      <td>12</td>\n",
       "      <td>4</td>\n",
       "      <td>9</td>\n",
       "      <td>False</td>\n",
       "      <td>0.036559</td>\n",
       "      <td>0.122944</td>\n",
       "      <td>0.012926</td>\n",
       "      <td>0.024000</td>\n",
       "      <td>True</td>\n",
       "      <td>False</td>\n",
       "      <td>0.166003</td>\n",
       "      <td>1000-3000 km</td>\n",
       "    </tr>\n",
       "    <tr>\n",
       "      <th>1128598</th>\n",
       "      <td>mobile</td>\n",
       "      <td>Chrome</td>\n",
       "      <td>0</td>\n",
       "      <td>nissan</td>\n",
       "      <td>x-trail</td>\n",
       "      <td>5</td>\n",
       "      <td>12</td>\n",
       "      <td>4</td>\n",
       "      <td>9</td>\n",
       "      <td>False</td>\n",
       "      <td>0.036559</td>\n",
       "      <td>0.122944</td>\n",
       "      <td>0.012926</td>\n",
       "      <td>0.024000</td>\n",
       "      <td>True</td>\n",
       "      <td>False</td>\n",
       "      <td>0.166003</td>\n",
       "      <td>1000-3000 km</td>\n",
       "    </tr>\n",
       "    <tr>\n",
       "      <th>1128599</th>\n",
       "      <td>mobile</td>\n",
       "      <td>Safari</td>\n",
       "      <td>0</td>\n",
       "      <td>skoda</td>\n",
       "      <td>rapid</td>\n",
       "      <td>2</td>\n",
       "      <td>5</td>\n",
       "      <td>26</td>\n",
       "      <td>8</td>\n",
       "      <td>True</td>\n",
       "      <td>0.037634</td>\n",
       "      <td>0.120888</td>\n",
       "      <td>0.012985</td>\n",
       "      <td>0.026486</td>\n",
       "      <td>True</td>\n",
       "      <td>False</td>\n",
       "      <td>0.188261</td>\n",
       "      <td>1000-3000 km</td>\n",
       "    </tr>\n",
       "    <tr>\n",
       "      <th>1128600</th>\n",
       "      <td>mobile</td>\n",
       "      <td>Safari</td>\n",
       "      <td>0</td>\n",
       "      <td>mercedes-benz</td>\n",
       "      <td>glc</td>\n",
       "      <td>0</td>\n",
       "      <td>11</td>\n",
       "      <td>15</td>\n",
       "      <td>15</td>\n",
       "      <td>False</td>\n",
       "      <td>0.034946</td>\n",
       "      <td>0.084498</td>\n",
       "      <td>0.009206</td>\n",
       "      <td>0.046497</td>\n",
       "      <td>True</td>\n",
       "      <td>True</td>\n",
       "      <td>0.000147</td>\n",
       "      <td>moscow</td>\n",
       "    </tr>\n",
       "    <tr>\n",
       "      <th>1128601</th>\n",
       "      <td>mobile</td>\n",
       "      <td>Safari</td>\n",
       "      <td>0</td>\n",
       "      <td>bmw</td>\n",
       "      <td>x3</td>\n",
       "      <td>0</td>\n",
       "      <td>11</td>\n",
       "      <td>15</td>\n",
       "      <td>15</td>\n",
       "      <td>False</td>\n",
       "      <td>0.034946</td>\n",
       "      <td>0.084498</td>\n",
       "      <td>0.009206</td>\n",
       "      <td>0.046497</td>\n",
       "      <td>True</td>\n",
       "      <td>True</td>\n",
       "      <td>0.000147</td>\n",
       "      <td>moscow</td>\n",
       "    </tr>\n",
       "  </tbody>\n",
       "</table>\n",
       "<p>1128602 rows × 18 columns</p>\n",
       "</div>"
      ],
      "text/plain": [
       "        device_category device_browser  target      car_brand car_model  \\\n",
       "0                mobile         Chrome       0          skoda     rapid   \n",
       "1                mobile         Chrome       0          skoda     rapid   \n",
       "2                mobile         Safari       0          skoda     rapid   \n",
       "3                tablet      YaBrowser       0          skoda     rapid   \n",
       "4                mobile         Chrome       0          skoda     rapid   \n",
       "...                 ...            ...     ...            ...       ...   \n",
       "1128597          mobile         Chrome       0          skoda     rapid   \n",
       "1128598          mobile         Chrome       0         nissan   x-trail   \n",
       "1128599          mobile         Safari       0          skoda     rapid   \n",
       "1128600          mobile         Safari       0  mercedes-benz       glc   \n",
       "1128601          mobile         Safari       0            bmw        x3   \n",
       "\n",
       "         visit_date_weekday  visit_date_month  visit_date_day  \\\n",
       "0                         1                12              28   \n",
       "1                         5                 5              29   \n",
       "2                         0                 5              31   \n",
       "3                         3                12              30   \n",
       "4                         0                 7              12   \n",
       "...                     ...               ...             ...   \n",
       "1128597                   5                12               4   \n",
       "1128598                   5                12               4   \n",
       "1128599                   2                 5              26   \n",
       "1128600                   0                11              15   \n",
       "1128601                   0                11              15   \n",
       "\n",
       "         visit_time_hour  visit_time_night  device_screen_width  \\\n",
       "0                      2              True             0.032258   \n",
       "1                      5              True             0.038172   \n",
       "2                     12             False             0.034946   \n",
       "3                      8              True             0.075627   \n",
       "4                     19             False             0.032258   \n",
       "...                  ...               ...                  ...   \n",
       "1128597                9             False             0.036559   \n",
       "1128598                9             False             0.036559   \n",
       "1128599                8              True             0.037634   \n",
       "1128600               15             False             0.034946   \n",
       "1128601               15             False             0.034946   \n",
       "\n",
       "         device_screen_height  device_screen_area  device_screen_ratio  \\\n",
       "0                    0.095395            0.009640             0.034063   \n",
       "1                    0.108964            0.012016             0.034063   \n",
       "2                    0.114309            0.011806             0.026433   \n",
       "3                    0.158923            0.026865             0.051057   \n",
       "4                    0.078947            0.008262             0.046553   \n",
       "...                       ...                 ...                  ...   \n",
       "1128597              0.122944            0.012926             0.024000   \n",
       "1128598              0.122944            0.012926             0.024000   \n",
       "1128599              0.120888            0.012985             0.026486   \n",
       "1128600              0.084498            0.009206             0.046497   \n",
       "1128601              0.084498            0.009206             0.046497   \n",
       "\n",
       "         geo_country_is_russia  geo_city_is_big  \\\n",
       "0                         True             True   \n",
       "1                         True             True   \n",
       "2                         True             True   \n",
       "3                         True             True   \n",
       "4                         True             True   \n",
       "...                        ...              ...   \n",
       "1128597                   True            False   \n",
       "1128598                   True            False   \n",
       "1128599                   True            False   \n",
       "1128600                   True             True   \n",
       "1128601                   True             True   \n",
       "\n",
       "         geo_city_distance_from_moscow geo_city_distance_from_moscow_category  \n",
       "0                             0.490812                             >= 3000 km  \n",
       "1                             0.000147                                 moscow  \n",
       "2                             0.093715                            500-1000 km  \n",
       "3                             0.093715                            500-1000 km  \n",
       "4                             0.093715                            500-1000 km  \n",
       "...                                ...                                    ...  \n",
       "1128597                       0.166003                           1000-3000 km  \n",
       "1128598                       0.166003                           1000-3000 km  \n",
       "1128599                       0.188261                           1000-3000 km  \n",
       "1128600                       0.000147                                 moscow  \n",
       "1128601                       0.000147                                 moscow  \n",
       "\n",
       "[1128602 rows x 18 columns]"
      ]
     },
     "execution_count": 76,
     "metadata": {},
     "output_type": "execute_result"
    }
   ],
   "source": [
    "df_session"
   ]
  },
  {
   "cell_type": "markdown",
   "metadata": {},
   "source": [
    "## Square, sqrt & log of numerical columns"
   ]
  },
  {
   "cell_type": "code",
   "execution_count": 77,
   "metadata": {},
   "outputs": [],
   "source": [
    "def sqr_sqrt_log_features_transform(df_session: pd.DataFrame,\n",
    "                                    sqr_miss: list=None,\n",
    "                                    sqrt_miss: list=None,\n",
    "                                    log_miss: list=None,\n",
    "                                   ) -> pd.DataFrame:\n",
    "    \"\"\"\n",
    "    Function transforms dataset adding squares, square roots and logarithm of numerical features\n",
    "    \n",
    "    :param df:  input data frame\n",
    "    :sqr_miss:  columns, that should be missed for square feature generation\n",
    "    :sqrt_miss: columns, that should be missed for square root feature generation\n",
    "    :log_miss:  columns, that should be missed for logarithm feature generation\n",
    "    \n",
    "    :return:    dataframe with added features\n",
    "    \"\"\"\n",
    "    \n",
    "    df = df_session.copy()\n",
    "    numeric_cols = df.select_dtypes(include=[np.number]).columns\n",
    "    for col in numeric_cols:\n",
    "        if ~np.isin(col, sqrt_miss):\n",
    "            df[f'{col}_sqr'] = np.square(df[col])\n",
    "        if ~np.isin(col, sqrt_miss):\n",
    "            df[f'{col}_sqrt'] = np.sqrt(df[col])\n",
    "        if ~np.isin(col, log_miss):\n",
    "            df[f'{col}_log'] = np.log(df[col] + 0.01)    \n",
    "    return df"
   ]
  },
  {
   "cell_type": "code",
   "execution_count": 78,
   "metadata": {},
   "outputs": [
    {
     "data": {
      "text/plain": [
       "(1128602, 45)"
      ]
     },
     "execution_count": 78,
     "metadata": {},
     "output_type": "execute_result"
    }
   ],
   "source": [
    "df_session = sqr_sqrt_log_features_transform(df_session, \n",
    "                                       sqr_miss=['target'],\n",
    "                                       sqrt_miss=['target'],\n",
    "                                       log_miss=['target'],\n",
    "                                     )\n",
    "df_session.shape"
   ]
  },
  {
   "cell_type": "code",
   "execution_count": 79,
   "metadata": {},
   "outputs": [
    {
     "name": "stdout",
     "output_type": "stream",
     "text": [
      "<class 'pandas.core.frame.DataFrame'>\n",
      "RangeIndex: 1128602 entries, 0 to 1128601\n",
      "Data columns (total 45 columns):\n",
      " #   Column                                  Non-Null Count    Dtype  \n",
      "---  ------                                  --------------    -----  \n",
      " 0   device_category                         1128602 non-null  object \n",
      " 1   device_browser                          1128602 non-null  object \n",
      " 2   target                                  1128602 non-null  int64  \n",
      " 3   car_brand                               1128602 non-null  object \n",
      " 4   car_model                               1128602 non-null  object \n",
      " 5   visit_date_weekday                      1128602 non-null  int64  \n",
      " 6   visit_date_month                        1128602 non-null  int64  \n",
      " 7   visit_date_day                          1128602 non-null  int64  \n",
      " 8   visit_time_hour                         1128602 non-null  int64  \n",
      " 9   visit_time_night                        1128602 non-null  bool   \n",
      " 10  device_screen_width                     1128602 non-null  float64\n",
      " 11  device_screen_height                    1128602 non-null  float64\n",
      " 12  device_screen_area                      1128602 non-null  float64\n",
      " 13  device_screen_ratio                     1128602 non-null  float64\n",
      " 14  geo_country_is_russia                   1128602 non-null  bool   \n",
      " 15  geo_city_is_big                         1128602 non-null  bool   \n",
      " 16  geo_city_distance_from_moscow           1128602 non-null  float64\n",
      " 17  geo_city_distance_from_moscow_category  1128602 non-null  object \n",
      " 18  visit_date_weekday_sqr                  1128602 non-null  int64  \n",
      " 19  visit_date_weekday_sqrt                 1128602 non-null  float64\n",
      " 20  visit_date_weekday_log                  1128602 non-null  float64\n",
      " 21  visit_date_month_sqr                    1128602 non-null  int64  \n",
      " 22  visit_date_month_sqrt                   1128602 non-null  float64\n",
      " 23  visit_date_month_log                    1128602 non-null  float64\n",
      " 24  visit_date_day_sqr                      1128602 non-null  int64  \n",
      " 25  visit_date_day_sqrt                     1128602 non-null  float64\n",
      " 26  visit_date_day_log                      1128602 non-null  float64\n",
      " 27  visit_time_hour_sqr                     1128602 non-null  int64  \n",
      " 28  visit_time_hour_sqrt                    1128602 non-null  float64\n",
      " 29  visit_time_hour_log                     1128602 non-null  float64\n",
      " 30  device_screen_width_sqr                 1128602 non-null  float64\n",
      " 31  device_screen_width_sqrt                1128602 non-null  float64\n",
      " 32  device_screen_width_log                 1128602 non-null  float64\n",
      " 33  device_screen_height_sqr                1128602 non-null  float64\n",
      " 34  device_screen_height_sqrt               1128602 non-null  float64\n",
      " 35  device_screen_height_log                1128602 non-null  float64\n",
      " 36  device_screen_area_sqr                  1128602 non-null  float64\n",
      " 37  device_screen_area_sqrt                 1128602 non-null  float64\n",
      " 38  device_screen_area_log                  1128602 non-null  float64\n",
      " 39  device_screen_ratio_sqr                 1128602 non-null  float64\n",
      " 40  device_screen_ratio_sqrt                1128602 non-null  float64\n",
      " 41  device_screen_ratio_log                 1128602 non-null  float64\n",
      " 42  geo_city_distance_from_moscow_sqr       1128602 non-null  float64\n",
      " 43  geo_city_distance_from_moscow_sqrt      1128602 non-null  float64\n",
      " 44  geo_city_distance_from_moscow_log       1128602 non-null  float64\n",
      "dtypes: bool(3), float64(28), int64(9), object(5)\n",
      "memory usage: 364.9+ MB\n"
     ]
    }
   ],
   "source": [
    "df_session.info()"
   ]
  },
  {
   "cell_type": "markdown",
   "metadata": {
    "id": "dhKOAHW-BMRK"
   },
   "source": [
    "# FEATURE GENERATION"
   ]
  },
  {
   "cell_type": "code",
   "execution_count": 80,
   "metadata": {},
   "outputs": [],
   "source": [
    "for_ohe=df_session[['device_category', 'car_brand', 'car_model', 'visit_time_night', \n",
    "                    'geo_country_is_russia', 'geo_city_is_big', \n",
    "                    'geo_city_distance_from_moscow_category', 'device_browser']]"
   ]
  },
  {
   "cell_type": "code",
   "execution_count": 81,
   "metadata": {},
   "outputs": [
    {
     "data": {
      "text/plain": [
       "(1128602, 166)"
      ]
     },
     "execution_count": 81,
     "metadata": {},
     "output_type": "execute_result"
    }
   ],
   "source": [
    "from sklearn.preprocessing import OneHotEncoder\n",
    "ohe = OneHotEncoder(sparse=False)\n",
    "ohe.fit(for_ohe)\n",
    "ohe.get_feature_names()\n",
    "ohe_categor = ohe.transform(for_ohe)\n",
    "df_session[ohe.get_feature_names()] = ohe_categor\n",
    "df_session.shape"
   ]
  },
  {
   "cell_type": "code",
   "execution_count": 82,
   "metadata": {},
   "outputs": [
    {
     "data": {
      "text/plain": [
       "(1128602, 158)"
      ]
     },
     "execution_count": 82,
     "metadata": {},
     "output_type": "execute_result"
    }
   ],
   "source": [
    "#удалим категориальные колонки\n",
    "df_session = df_session.drop(['device_category', 'car_brand', 'car_model', 'visit_time_night', \n",
    "                    'geo_country_is_russia', 'geo_city_is_big', \n",
    "                    'geo_city_distance_from_moscow_category', 'device_browser'], axis=1)\n",
    "df_session.shape"
   ]
  },
  {
   "cell_type": "code",
   "execution_count": 83,
   "metadata": {
    "scrolled": true
   },
   "outputs": [
    {
     "data": {
      "text/html": [
       "<div>\n",
       "<style scoped>\n",
       "    .dataframe tbody tr th:only-of-type {\n",
       "        vertical-align: middle;\n",
       "    }\n",
       "\n",
       "    .dataframe tbody tr th {\n",
       "        vertical-align: top;\n",
       "    }\n",
       "\n",
       "    .dataframe thead th {\n",
       "        text-align: right;\n",
       "    }\n",
       "</style>\n",
       "<table border=\"1\" class=\"dataframe\">\n",
       "  <thead>\n",
       "    <tr style=\"text-align: right;\">\n",
       "      <th></th>\n",
       "      <th>target</th>\n",
       "      <th>visit_date_weekday</th>\n",
       "      <th>visit_date_month</th>\n",
       "      <th>visit_date_day</th>\n",
       "      <th>visit_time_hour</th>\n",
       "      <th>device_screen_width</th>\n",
       "      <th>device_screen_height</th>\n",
       "      <th>device_screen_area</th>\n",
       "      <th>device_screen_ratio</th>\n",
       "      <th>geo_city_distance_from_moscow</th>\n",
       "      <th>...</th>\n",
       "      <th>x7_Mozilla</th>\n",
       "      <th>x7_Opera</th>\n",
       "      <th>x7_Puffin</th>\n",
       "      <th>x7_Safari</th>\n",
       "      <th>x7_Safari (in-app)</th>\n",
       "      <th>x7_Samsung Internet</th>\n",
       "      <th>x7_UC Browser</th>\n",
       "      <th>x7_YaBrowser</th>\n",
       "      <th>x7_helloworld</th>\n",
       "      <th>x7_other</th>\n",
       "    </tr>\n",
       "  </thead>\n",
       "  <tbody>\n",
       "  </tbody>\n",
       "</table>\n",
       "<p>0 rows × 158 columns</p>\n",
       "</div>"
      ],
      "text/plain": [
       "Empty DataFrame\n",
       "Columns: [target, visit_date_weekday, visit_date_month, visit_date_day, visit_time_hour, device_screen_width, device_screen_height, device_screen_area, device_screen_ratio, geo_city_distance_from_moscow, visit_date_weekday_sqr, visit_date_weekday_sqrt, visit_date_weekday_log, visit_date_month_sqr, visit_date_month_sqrt, visit_date_month_log, visit_date_day_sqr, visit_date_day_sqrt, visit_date_day_log, visit_time_hour_sqr, visit_time_hour_sqrt, visit_time_hour_log, device_screen_width_sqr, device_screen_width_sqrt, device_screen_width_log, device_screen_height_sqr, device_screen_height_sqrt, device_screen_height_log, device_screen_area_sqr, device_screen_area_sqrt, device_screen_area_log, device_screen_ratio_sqr, device_screen_ratio_sqrt, device_screen_ratio_log, geo_city_distance_from_moscow_sqr, geo_city_distance_from_moscow_sqrt, geo_city_distance_from_moscow_log, x0_desktop, x0_mobile, x0_tablet, x1_audi, x1_bmw, x1_haval, x1_hyundai, x1_kia, x1_lada-vaz, x1_land-rover, x1_lexus, x1_mercedes-benz, x1_mini, x1_nissan, x1_peugeot, x1_porsche, x1_renault, x1_skoda, x1_toyota, x1_volkswagen, x1_volvo, x2_2-serii, x2_3-serii, x2_5-serii, x2_7-serii, x2_911, x2_a3, x2_a4, x2_alphard, x2_arkana, x2_c-klasse, x2_camry, x2_cayenne, x2_cerato, x2_cla-klasse, x2_corolla, x2_defender, x2_duster, x2_e-klasse, x2_e-tron, x2_fortuner, x2_g-klasse, x2_gla-klasse, x2_glb, x2_glc, x2_gle, x2_gls-klasse, x2_hatch, x2_jolion, x2_k5, x2_karoq, x2_kodiaq, x2_land-cruiser-prado, x2_logan, x2_macan, x2_nx, x2_octavia, x2_panamera, x2_passat, x2_polo, x2_q5, x2_qashqai, x2_range-rover, ...]\n",
       "Index: []\n",
       "\n",
       "[0 rows x 158 columns]"
      ]
     },
     "execution_count": 83,
     "metadata": {},
     "output_type": "execute_result"
    }
   ],
   "source": [
    "# проверим на дубликаты, удалим их\n",
    "df_session[df_session.duplicated()]\n",
    "df_session = df_session.drop_duplicates()\n",
    "df_session[df_session.duplicated()]"
   ]
  },
  {
   "cell_type": "code",
   "execution_count": 84,
   "metadata": {},
   "outputs": [],
   "source": [
    "df_session=df_session.dropna(how='all') "
   ]
  },
  {
   "cell_type": "code",
   "execution_count": 85,
   "metadata": {},
   "outputs": [
    {
     "data": {
      "text/plain": [
       "(959336, 158)"
      ]
     },
     "execution_count": 85,
     "metadata": {},
     "output_type": "execute_result"
    }
   ],
   "source": [
    "df_session.shape"
   ]
  },
  {
   "cell_type": "markdown",
   "metadata": {},
   "source": [
    "# Поиск лучшего порога перевода вероятностей к совершению целевого действия пользователем"
   ]
  },
  {
   "cell_type": "code",
   "execution_count": 86,
   "metadata": {},
   "outputs": [],
   "source": [
    "def find_best_threshold(\n",
    "    y_true: pd.Series, \n",
    "    y_proba: pd.Series, \n",
    "    metriс_name: str = 'roc_auc', \n",
    "    iterations: int = 250, \n",
    "    learning_rate: float = 0.05\n",
    ") -> float:\n",
    "    \"\"\"Находит лучший порог перевода вероятностей `y_proba` \n",
    "    в принадлежность к классу 1.\n",
    "    \"\"\"\n",
    "    \n",
    "    # Получение функции метрики, которую оптимизируем\n",
    "    metrics = {'roc_auc': roc_auc_score, 'f1': f1_score, \n",
    "               'precision': precision_score, 'recall': recall_score}\n",
    "    metric_function = metrics.get(metriс_name, accuracy_score)\n",
    "\n",
    "    # Получение метрики\n",
    "    def get_metric(threshold: float) -> float:\n",
    "        prediction = (y_proba > threshold).astype(int)\n",
    "        return metric_function(y_true, prediction)\n",
    "\n",
    "    direction = -1\n",
    "    shift = 0.25\n",
    "\n",
    "    best_threshold = 0.5\n",
    "    best_metric = get_metric(best_threshold)\n",
    "\n",
    "    # На каждой итерации\n",
    "    for i in range(iterations):\n",
    "\n",
    "        # Меняем порог\n",
    "        threshold = best_threshold + direction * shift\n",
    "        shift *= (1 - learning_rate)\n",
    "        metric = get_metric(threshold)\n",
    "\n",
    "        # И проверяем, улучшилась ли метрика\n",
    "        if metric > best_metric: \n",
    "            best_threshold = threshold\n",
    "            best_metric = metric\n",
    "        else: \n",
    "            direction *= -1\n",
    "            \n",
    "    return best_threshold"
   ]
  },
  {
   "cell_type": "code",
   "execution_count": 87,
   "metadata": {},
   "outputs": [],
   "source": [
    "def print_metrics(\n",
    "    model: BaseEstimator, \n",
    "    X: pd.DataFrame, \n",
    "    y: pd.Series, \n",
    "    threshold: Union[float, None] = None, \n",
    "    show_roc_curve: bool = False\n",
    ") -> None:\n",
    "    \"\"\"Получает метрики бинарной классификации из модели `model` на данных \n",
    "    `X` и `y`. Если возможно, то через метод `predict_proba` с заданным \n",
    "    порогом перевода вероятностей в классы `threshold`, иначе через `predict`. \n",
    "    Если `threshold` равен None, автоматически найдёт лучший порог.  \n",
    "    ---\n",
    "    Метрики: roc_auc, accuracy, precision, recall, f1, confusion_matrix, \n",
    "    roc_curve.\n",
    "    \"\"\"\n",
    "\n",
    "    # Получим предсказания, если возможно в виде вероятностей\n",
    "    try: \n",
    "        probas = model.predict_proba(X)[:, 1]\n",
    "    except AttributeError:\n",
    "        prediction = model.predict(X)\n",
    "        threshold = None\n",
    "        probas = None\n",
    "    else:\n",
    "        threshold = threshold or find_best_threshold(y, probas, 'roc_auc')\n",
    "        prediction = (probas > threshold).astype(int)\n",
    "\n",
    "    # Распечатаем порог перевода вероятностей в классы\n",
    "    if threshold is None:\n",
    "        print(\"Порог перевода вероятностей в классы: не используется\")\n",
    "    else:\n",
    "        print(f\"Порог перевода вероятностей в классы: {threshold}\")\n",
    "        print(f\"{roc_auc_score(y, probas)} - roc_auc на вероятностях\")\n",
    "\n",
    "    # Распечатаем однострочные метрики\n",
    "    print()\n",
    "    print(f\"{roc_auc_score(y, prediction):0.8f} - roc_auc\")\n",
    "    print(f\"{accuracy_score(y, prediction):0.8f} - accuracy\")\n",
    "    print(f\"{precision_score(y, prediction):0.8f} - precision\")\n",
    "    print(f\"{recall_score(y, prediction):0.8f} - recall\")\n",
    "    print(f\"{f1_score(y, prediction):0.8f} - f1\")\n",
    "\n",
    "    # Распечатаем матрицу ошибок\n",
    "    conf_mat = confusion_matrix(y, prediction)\n",
    "    classes = model.classes_\n",
    "    n_classes = len(classes)\n",
    "    print()\n",
    "    print(\"|\".join(f\"{i:^10}\" for i in [\"prediction\"] + list(classes)))\n",
    "    print(f\"{'true label':^10}\" + (\"|\" + \" \" * 10) * n_classes)\n",
    "    print(\"-\" * ((n_classes * 10) + n_classes + 10))\n",
    "    for i in range(n_classes):\n",
    "        print(\"|\".join(f\"{j:>10}\" for j in [classes[i]] + list(conf_mat[i])))\n",
    "\n",
    "    # Отобразим ROC-кривую\n",
    "    if show_roc_curve:\n",
    "        print()\n",
    "        plt.figure(figsize=(7, 4))\n",
    "        if probas is not None:\n",
    "            plt.plot(*roc_curve(y_test, probas)[:2], \n",
    "                     c='r', label='on probability')\n",
    "        plt.plot(*roc_curve(y_test, prediction)[:2], c='b', label='on class')\n",
    "        plt.plot([0, 1], [0, 1], c='y', label='random', linestyle='dashed')\n",
    "        plt.title('Receiver operating characteristic')\n",
    "        plt.xlabel('False Positive Rate')\n",
    "        plt.ylabel('True Positive Rate')\n",
    "        plt.legend()\n",
    "        plt.show()"
   ]
  },
  {
   "cell_type": "markdown",
   "metadata": {},
   "source": [
    "# train-test split\n",
    "Оценим базовую модель.\n",
    "Так как целевая переменная распределена не равномерно, то в качестве бейзлайна можно выбрать стратегию, которая для каждой сессии предсказывает значение 0."
   ]
  },
  {
   "cell_type": "code",
   "execution_count": 88,
   "metadata": {},
   "outputs": [],
   "source": [
    "train_no_revenue_tree=df_session.drop(['target'], axis=1)\n",
    "train_no_revenue_tree.shape\n",
    "X=train_no_revenue_tree\n",
    "y=df_session['target']\n",
    "x_train, x_test, y_train, y_test = train_test_split(X, y, test_size=0.3, random_state=40)"
   ]
  },
  {
   "cell_type": "markdown",
   "metadata": {},
   "source": [
    "# Baseline model"
   ]
  },
  {
   "cell_type": "code",
   "execution_count": 89,
   "metadata": {},
   "outputs": [
    {
     "name": "stdout",
     "output_type": "stream",
     "text": [
      "Порог перевода вероятностей в классы: 0.5\n",
      "0.5 - roc_auc на вероятностях\n",
      "\n",
      "0.50000000 - roc_auc\n",
      "0.94732124 - accuracy\n",
      "0.00000000 - precision\n",
      "0.00000000 - recall\n",
      "0.00000000 - f1\n",
      "\n",
      "prediction|    0     |    1     \n",
      "true label|          |          \n",
      "--------------------------------\n",
      "         0|    272640|         0\n",
      "         1|     15161|         0\n"
     ]
    }
   ],
   "source": [
    "# Обучим базовую модель \n",
    "baseline = DummyClassifier(strategy='constant', constant=0)\n",
    "baseline.fit(x_train, y_train)\n",
    "\n",
    "# И получим её метрики\n",
    "print_metrics(baseline, y_test, y_test, 0.5)"
   ]
  },
  {
   "cell_type": "markdown",
   "metadata": {},
   "source": [
    "# LogisticRegression model"
   ]
  },
  {
   "cell_type": "code",
   "execution_count": 90,
   "metadata": {
    "scrolled": true
   },
   "outputs": [
    {
     "name": "stdout",
     "output_type": "stream",
     "text": [
      "Порог перевода вероятностей в классы: 0.5\n",
      "0.6118050102946294 - roc_auc на вероятностях\n",
      "\n",
      "0.50000000 - roc_auc\n",
      "0.94732124 - accuracy\n",
      "0.00000000 - precision\n",
      "0.00000000 - recall\n",
      "0.00000000 - f1\n",
      "\n",
      "prediction|    0     |    1     \n",
      "true label|          |          \n",
      "--------------------------------\n",
      "         0|    272640|         0\n",
      "         1|     15161|         0\n"
     ]
    }
   ],
   "source": [
    "logreg = LogisticRegression(random_state=128)\n",
    "logreg.fit(x_train, y_train)\n",
    "print_metrics(logreg, x_test, y_test)"
   ]
  },
  {
   "cell_type": "markdown",
   "metadata": {},
   "source": [
    "# LinearSVC model опорных векторов"
   ]
  },
  {
   "cell_type": "code",
   "execution_count": 91,
   "metadata": {},
   "outputs": [
    {
     "name": "stdout",
     "output_type": "stream",
     "text": [
      "Порог перевода вероятностей в классы: не используется\n",
      "\n",
      "0.50000000 - roc_auc\n",
      "0.94732124 - accuracy\n",
      "0.00000000 - precision\n",
      "0.00000000 - recall\n",
      "0.00000000 - f1\n",
      "\n",
      "prediction|    0     |    1     \n",
      "true label|          |          \n",
      "--------------------------------\n",
      "         0|    272640|         0\n",
      "         1|     15161|         0\n"
     ]
    }
   ],
   "source": [
    "svc = LinearSVC(class_weight='balanced')\n",
    "svc.fit(x_train, y_train)\n",
    "print_metrics(svc, x_test, y_test)"
   ]
  },
  {
   "cell_type": "markdown",
   "metadata": {},
   "source": [
    "# MLPClassifier model нейронки"
   ]
  },
  {
   "cell_type": "code",
   "execution_count": 92,
   "metadata": {},
   "outputs": [
    {
     "name": "stdout",
     "output_type": "stream",
     "text": [
      "Порог перевода вероятностей в классы: 0.5\n",
      "0.6369867574584049 - roc_auc на вероятностях\n",
      "\n",
      "0.50000000 - roc_auc\n",
      "0.94732124 - accuracy\n",
      "0.00000000 - precision\n",
      "0.00000000 - recall\n",
      "0.00000000 - f1\n",
      "\n",
      "prediction|    0     |    1     \n",
      "true label|          |          \n",
      "--------------------------------\n",
      "         0|    272640|         0\n",
      "         1|     15161|         0\n"
     ]
    }
   ],
   "source": [
    "mlp = MLPClassifier((32,), random_state=128)\n",
    "mlp.fit(x_train, y_train);\n",
    "print_metrics(mlp, x_test, y_test)"
   ]
  },
  {
   "cell_type": "markdown",
   "metadata": {},
   "source": [
    "# GaussianNB model Байесовский классификатор"
   ]
  },
  {
   "cell_type": "code",
   "execution_count": 93,
   "metadata": {},
   "outputs": [
    {
     "name": "stdout",
     "output_type": "stream",
     "text": [
      "Порог перевода вероятностей в классы: 0.9998416323457766\n",
      "0.599849921798866 - roc_auc на вероятностях\n",
      "\n",
      "0.58517292 - roc_auc\n",
      "0.68943124 - accuracy\n",
      "0.08034513 - precision\n",
      "0.46863663 - recall\n",
      "0.13717275 - f1\n",
      "\n",
      "prediction|    0     |    1     \n",
      "true label|          |          \n",
      "--------------------------------\n",
      "         0|    191314|     81326\n",
      "         1|      8056|      7105\n"
     ]
    }
   ],
   "source": [
    "gaussnb = GaussianNB()\n",
    "gaussnb.fit(x_train, y_train)\n",
    "print_metrics(gaussnb, x_test, y_test)"
   ]
  },
  {
   "cell_type": "markdown",
   "metadata": {},
   "source": [
    "# DecisionTreeClassifier model Дерево решений"
   ]
  },
  {
   "cell_type": "code",
   "execution_count": 94,
   "metadata": {},
   "outputs": [
    {
     "name": "stdout",
     "output_type": "stream",
     "text": [
      "Порог перевода вероятностей в классы: 0.25\n",
      "0.524470672160284 - roc_auc на вероятностях\n",
      "\n",
      "0.52436278 - roc_auc\n",
      "0.88437149 - accuracy\n",
      "0.08475819 - precision\n",
      "0.12195765 - recall\n",
      "0.10001082 - f1\n",
      "\n",
      "prediction|    0     |    1     \n",
      "true label|          |          \n",
      "--------------------------------\n",
      "         0|    252674|     19966\n",
      "         1|     13312|      1849\n"
     ]
    }
   ],
   "source": [
    "tree = DecisionTreeClassifier(random_state=128)\n",
    "tree.fit(x_train, y_train);\n",
    "print_metrics(tree, x_test, y_test)"
   ]
  },
  {
   "cell_type": "markdown",
   "metadata": {},
   "source": [
    "# RandomForestClassifier model случайный лес"
   ]
  },
  {
   "cell_type": "code",
   "execution_count": 95,
   "metadata": {},
   "outputs": [
    {
     "name": "stdout",
     "output_type": "stream",
     "text": [
      "Порог перевода вероятностей в классы: 0.05079734247464291\n",
      "0.6881406378801412 - roc_auc на вероятностях\n",
      "\n",
      "0.64458593 - roc_auc\n",
      "0.69701982 - accuracy\n",
      "0.09892545 - precision\n",
      "0.58597718 - recall\n",
      "0.16927386 - f1\n",
      "\n",
      "prediction|    0     |    1     \n",
      "true label|          |          \n",
      "--------------------------------\n",
      "         0|    191719|     80921\n",
      "         1|      6277|      8884\n"
     ]
    }
   ],
   "source": [
    "forest = RandomForestClassifier(random_state=128)\n",
    "forest.fit(x_train, y_train);\n",
    "print_metrics(forest, x_test, y_test)"
   ]
  },
  {
   "cell_type": "markdown",
   "metadata": {},
   "source": [
    "# HistGradientBoostingClassifier Model Градиентный Бустинг"
   ]
  },
  {
   "cell_type": "code",
   "execution_count": 96,
   "metadata": {
    "scrolled": true
   },
   "outputs": [
    {
     "name": "stdout",
     "output_type": "stream",
     "text": [
      "Порог перевода вероятностей в классы: 0.05267855892573669\n",
      "0.6833769338453106 - roc_auc на вероятностях\n",
      "\n",
      "0.63047576 - roc_auc\n",
      "0.61481718 - accuracy\n",
      "0.08517205 - precision\n",
      "0.64797837 - recall\n",
      "0.15055477 - f1\n",
      "\n",
      "prediction|    0     |    1     \n",
      "true label|          |          \n",
      "--------------------------------\n",
      "         0|    167121|    105519\n",
      "         1|      5337|      9824\n"
     ]
    }
   ],
   "source": [
    "histboost = HistGradientBoostingClassifier(random_state=128)\n",
    "histboost.fit(x_train, y_train)\n",
    "print_metrics(histboost, x_test, y_test)"
   ]
  },
  {
   "cell_type": "markdown",
   "metadata": {},
   "source": [
    "# CatBoost Model градиентный бустинг "
   ]
  },
  {
   "cell_type": "code",
   "execution_count": 97,
   "metadata": {
    "scrolled": true
   },
   "outputs": [
    {
     "name": "stdout",
     "output_type": "stream",
     "text": [
      "Порог перевода вероятностей в классы: 0.04806798943831753\n",
      "0.6804158852940101 - roc_auc на вероятностях\n",
      "\n",
      "0.62909434 - roc_auc\n",
      "0.56274996 - accuracy\n",
      "0.08077028 - precision\n",
      "0.70325176 - recall\n",
      "0.14489858 - f1\n",
      "\n",
      "prediction|    0     |    1     \n",
      "true label|          |          \n",
      "--------------------------------\n",
      "         0|    151298|    121342\n",
      "         1|      4499|     10662\n"
     ]
    }
   ],
   "source": [
    "catboost = CatBoostClassifier(\n",
    "    iterations=100, verbose=False, random_state=128)\n",
    "catboost.fit(x_train, y_train);\n",
    "print_metrics(catboost, x_test, y_test)"
   ]
  },
  {
   "cell_type": "markdown",
   "metadata": {},
   "source": [
    "# XGBoost Model градиентный бустинг\n",
    "\n",
    "Основные особенности XGBoost, отличающие его от других алгоритмов градиентного бустинга, включают:\n",
    "\n",
    "Умная штрафовка деревьев\n",
    "Пропорциональное уменьшение узлов листьев\n",
    "Метод Ньютона в оптимизации\n",
    "Дополнительный параметр рандомизации\n",
    "Реализация на одиночных, распределенных системах и out-of-core вычислениях\n",
    "Автоматический отбор признаков"
   ]
  },
  {
   "cell_type": "code",
   "execution_count": 98,
   "metadata": {
    "scrolled": true
   },
   "outputs": [
    {
     "name": "stdout",
     "output_type": "stream",
     "text": [
      "Порог перевода вероятностей в классы: 0.0501081170427961\n",
      "0.6927106485653362 - roc_auc на вероятностях\n",
      "\n",
      "0.63801086 - roc_auc\n",
      "0.59351079 - accuracy\n",
      "0.08499279 - precision\n",
      "0.68775147 - recall\n",
      "0.15128916 - f1\n",
      "\n",
      "prediction|    0     |    1     \n",
      "true label|          |          \n",
      "--------------------------------\n",
      "         0|    160386|    112254\n",
      "         1|      4734|     10427\n"
     ]
    }
   ],
   "source": [
    "xgboost = XGBClassifier()\n",
    "xgboost.fit(x_train.values, y_train.values)\n",
    "print_metrics(xgboost, x_test.values, y_test.values)"
   ]
  },
  {
   "cell_type": "markdown",
   "metadata": {},
   "source": [
    "# LGBMClassifier Model это фреймворк, который предоставляет реализацию деревьев принятия решений с градиентным бустингом.\n",
    "\n"
   ]
  },
  {
   "cell_type": "code",
   "execution_count": 99,
   "metadata": {},
   "outputs": [
    {
     "name": "stdout",
     "output_type": "stream",
     "text": [
      "Порог перевода вероятностей в классы: 0.05453033667571055\n",
      "0.683928100225808 - roc_auc на вероятностях\n",
      "\n",
      "0.63097340 - roc_auc\n",
      "0.64125212 - accuracy\n",
      "0.08788165 - precision\n",
      "0.61948420 - recall\n",
      "0.15392684 - f1\n",
      "\n",
      "prediction|    0     |    1     \n",
      "true label|          |          \n",
      "--------------------------------\n",
      "         0|    175161|     97479\n",
      "         1|      5769|      9392\n"
     ]
    }
   ],
   "source": [
    "lightgbm = LGBMClassifier(random_state=128)\n",
    "lightgbm.fit(x_train, y_train)\n",
    "print_metrics(lightgbm, x_test, y_test)"
   ]
  },
  {
   "cell_type": "markdown",
   "metadata": {},
   "source": [
    "\n",
    "# Оптимизация модели\n",
    "Лучшей моделью является LGBMClassifier по следующим причинам:\n",
    "\n",
    "Один из лучших показателей roc_auc.\n",
    "Быстрое обучение.\n",
    "Модель интерпретируема, то есть можно получить показатели важности признаков.\n",
    "Может предсказывать вероятность класса.\n",
    "Оптимизация модели и конвейера по подготовке данных проводится с помощью байесовской оптимизации. При разных гиперпараметрах модель обучается на тренировочных данных, а оценивается на валидационных."
   ]
  },
  {
   "cell_type": "code",
   "execution_count": 115,
   "metadata": {},
   "outputs": [],
   "source": [
    "def optimize_lightgbm(\n",
    "    rare_encoder_tol: float, \n",
    "    constant_dropper_tol: float, \n",
    "    correlated_dropper_threshold: float, \n",
    "    n_estimators: float, \n",
    "    learning_rate: float, \n",
    "    reg_lambda: float, \n",
    "    num_leaves: float, \n",
    "    reg_alpha: float, \n",
    "    boosting_type: str = 'goss'\n",
    ") -> float:\n",
    "    \"\"\"Используется Баейсовским оптимизатором для поиска лучших гиперпараметров \n",
    "    конвейера по подготовке данных и модели LGBMClassifier.\n",
    "    \"\"\"\n",
    "\n",
    "    # Создадим конвейер с заданными гиперпараметрами\n",
    "    model = Pipeline(steps=[\n",
    "        # Преобразования численных переменных\n",
    "        ('normalization', YeoJohnsonTransformer()), \n",
    "        ('outlier_remover', Winsorizer()), \n",
    "        ('scaler', SklearnTransformerWrapper(StandardScaler())), \n",
    "        \n",
    "        # Удаление дубликатов и коррелируемых признаков\n",
    "        ('constant_dropper', DropConstantFeatures(tol=constant_dropper_tol)), \n",
    "        ('duplicated_dropper', DropDuplicateFeatures()), \n",
    "        ('correlated_dropper', DropCorrelatedFeatures(\n",
    "            threshold=correlated_dropper_threshold)), \n",
    "        # Лучшая модель с оптимизированными гиперпараметрами\n",
    "        ('model', LGBMClassifier(\n",
    "            n_estimators=int(n_estimators), boosting_type=boosting_type, \n",
    "            learning_rate=learning_rate, num_leaves=int(num_leaves), \n",
    "            reg_lambda=reg_lambda, reg_alpha=reg_alpha, \n",
    "            random_state=128))])\n",
    "    \n",
    "    # Обучим и оценим модель\n",
    "    model.fit(x_train, y_train)\n",
    "    prediction = model.predict_proba(x_test)[:, 1]\n",
    "    return roc_auc_score(y_test, prediction)"
   ]
  },
  {
   "cell_type": "code",
   "execution_count": 116,
   "metadata": {},
   "outputs": [],
   "source": [
    "optimizing_parameters = {\n",
    "    'rare_encoder_tol': (0.01, 0.1), \n",
    "    'constant_dropper_tol': (0.95, 0.999), \n",
    "    'correlated_dropper_threshold': (0.7, 0.99), \n",
    "    'n_estimators': (50, 5000), \n",
    "    'learning_rate': (0.01, 0.25), \n",
    "    'reg_lambda': (0, 50), \n",
    "    'num_leaves': (10, 120), \n",
    "    'reg_alpha': (0, 50)}"
   ]
  },
  {
   "cell_type": "code",
   "execution_count": 117,
   "metadata": {},
   "outputs": [
    {
     "name": "stdout",
     "output_type": "stream",
     "text": [
      "boosting_type = gbdt\n",
      "|   iter    |  target   | consta... | correl... | learni... | n_esti... | num_le... | rare_e... | reg_alpha | reg_la... |\n",
      "-------------------------------------------------------------------------------------------------------------------------\n",
      "| \u001b[0m1        \u001b[0m | \u001b[0m0.6734   \u001b[0m | \u001b[0m0.9925   \u001b[0m | \u001b[0m0.7763   \u001b[0m | \u001b[0m0.04154  \u001b[0m | \u001b[0m255.9    \u001b[0m | \u001b[0m36.28    \u001b[0m | \u001b[0m0.06809  \u001b[0m | \u001b[0m39.53    \u001b[0m | \u001b[0m30.07    \u001b[0m |\n",
      "| \u001b[95m2        \u001b[0m | \u001b[95m0.7109   \u001b[0m | \u001b[95m0.9664   \u001b[0m | \u001b[95m0.7346   \u001b[0m | \u001b[95m0.08419  \u001b[0m | \u001b[95m593.1    \u001b[0m | \u001b[95m76.23    \u001b[0m | \u001b[95m0.03262  \u001b[0m | \u001b[95m14.98    \u001b[0m | \u001b[95m25.86    \u001b[0m |\n",
      "| \u001b[0m3        \u001b[0m | \u001b[0m0.6999   \u001b[0m | \u001b[0m0.985    \u001b[0m | \u001b[0m0.9701   \u001b[0m | \u001b[0m0.0345   \u001b[0m | \u001b[0m3.547e+03\u001b[0m | \u001b[0m118.4    \u001b[0m | \u001b[0m0.06032  \u001b[0m | \u001b[0m29.6     \u001b[0m | \u001b[0m37.1     \u001b[0m |\n",
      "| \u001b[95m4        \u001b[0m | \u001b[95m0.7759   \u001b[0m | \u001b[95m0.9902   \u001b[0m | \u001b[95m0.7364   \u001b[0m | \u001b[95m0.2278   \u001b[0m | \u001b[95m2.887e+03\u001b[0m | \u001b[95m90.43    \u001b[0m | \u001b[95m0.03711  \u001b[0m | \u001b[95m3.331    \u001b[0m | \u001b[95m8.154    \u001b[0m |\n",
      "| \u001b[0m5        \u001b[0m | \u001b[0m0.7241   \u001b[0m | \u001b[0m0.9566   \u001b[0m | \u001b[0m0.8902   \u001b[0m | \u001b[0m0.1116   \u001b[0m | \u001b[0m4.924e+03\u001b[0m | \u001b[0m54.39    \u001b[0m | \u001b[0m0.03295  \u001b[0m | \u001b[0m10.82    \u001b[0m | \u001b[0m42.19    \u001b[0m |\n",
      "| \u001b[0m6        \u001b[0m | \u001b[0m0.7027   \u001b[0m | \u001b[0m0.987    \u001b[0m | \u001b[0m0.7422   \u001b[0m | \u001b[0m0.2165   \u001b[0m | \u001b[0m4.916e+03\u001b[0m | \u001b[0m50.45    \u001b[0m | \u001b[0m0.04188  \u001b[0m | \u001b[0m19.53    \u001b[0m | \u001b[0m43.98    \u001b[0m |\n",
      "| \u001b[0m7        \u001b[0m | \u001b[0m0.678    \u001b[0m | \u001b[0m0.9779   \u001b[0m | \u001b[0m0.8365   \u001b[0m | \u001b[0m0.127    \u001b[0m | \u001b[0m3.307e+03\u001b[0m | \u001b[0m14.54    \u001b[0m | \u001b[0m0.03831  \u001b[0m | \u001b[0m34.96    \u001b[0m | \u001b[0m11.26    \u001b[0m |\n",
      "| \u001b[0m8        \u001b[0m | \u001b[0m0.76     \u001b[0m | \u001b[0m0.9641   \u001b[0m | \u001b[0m0.8904   \u001b[0m | \u001b[0m0.08607  \u001b[0m | \u001b[0m2.874e+03\u001b[0m | \u001b[0m89.07    \u001b[0m | \u001b[0m0.02755  \u001b[0m | \u001b[0m1.34     \u001b[0m | \u001b[0m13.93    \u001b[0m |\n",
      "| \u001b[0m9        \u001b[0m | \u001b[0m0.7684   \u001b[0m | \u001b[0m0.999    \u001b[0m | \u001b[0m0.7      \u001b[0m | \u001b[0m0.25     \u001b[0m | \u001b[0m2.896e+03\u001b[0m | \u001b[0m66.3     \u001b[0m | \u001b[0m0.08156  \u001b[0m | \u001b[0m6.042    \u001b[0m | \u001b[0m0.0      \u001b[0m |\n",
      "| \u001b[0m10       \u001b[0m | \u001b[0m0.6915   \u001b[0m | \u001b[0m0.999    \u001b[0m | \u001b[0m0.7      \u001b[0m | \u001b[0m0.25     \u001b[0m | \u001b[0m2.908e+03\u001b[0m | \u001b[0m97.13    \u001b[0m | \u001b[0m0.01456  \u001b[0m | \u001b[0m36.54    \u001b[0m | \u001b[0m1.804    \u001b[0m |\n",
      "| \u001b[0m11       \u001b[0m | \u001b[0m0.7649   \u001b[0m | \u001b[0m0.999    \u001b[0m | \u001b[0m0.7      \u001b[0m | \u001b[0m0.25     \u001b[0m | \u001b[0m2.898e+03\u001b[0m | \u001b[0m75.27    \u001b[0m | \u001b[0m0.05466  \u001b[0m | \u001b[0m0.0      \u001b[0m | \u001b[0m24.43    \u001b[0m |\n",
      "| \u001b[0m12       \u001b[0m | \u001b[0m0.7412   \u001b[0m | \u001b[0m0.9638   \u001b[0m | \u001b[0m0.8035   \u001b[0m | \u001b[0m0.04334  \u001b[0m | \u001b[0m2.869e+03\u001b[0m | \u001b[0m86.33    \u001b[0m | \u001b[0m0.04536  \u001b[0m | \u001b[0m5.731    \u001b[0m | \u001b[0m14.56    \u001b[0m |\n",
      "| \u001b[0m13       \u001b[0m | \u001b[0m0.7367   \u001b[0m | \u001b[0m0.9544   \u001b[0m | \u001b[0m0.9041   \u001b[0m | \u001b[0m0.05921  \u001b[0m | \u001b[0m2.868e+03\u001b[0m | \u001b[0m85.76    \u001b[0m | \u001b[0m0.06039  \u001b[0m | \u001b[0m8.722    \u001b[0m | \u001b[0m15.88    \u001b[0m |\n",
      "| \u001b[0m14       \u001b[0m | \u001b[0m0.7653   \u001b[0m | \u001b[0m0.9689   \u001b[0m | \u001b[0m0.8464   \u001b[0m | \u001b[0m0.1508   \u001b[0m | \u001b[0m2.895e+03\u001b[0m | \u001b[0m112.9    \u001b[0m | \u001b[0m0.07443  \u001b[0m | \u001b[0m1.573    \u001b[0m | \u001b[0m40.14    \u001b[0m |\n",
      "| \u001b[95m15       \u001b[0m | \u001b[95m0.7795   \u001b[0m | \u001b[95m0.9675   \u001b[0m | \u001b[95m0.8352   \u001b[0m | \u001b[95m0.2117   \u001b[0m | \u001b[95m2.87e+03 \u001b[0m | \u001b[95m115.4    \u001b[0m | \u001b[95m0.02426  \u001b[0m | \u001b[95m3.437    \u001b[0m | \u001b[95m8.696    \u001b[0m |\n",
      "=========================================================================================================================\n",
      "boosting_type = goss\n",
      "|   iter    |  target   | consta... | correl... | learni... | n_esti... | num_le... | rare_e... | reg_alpha | reg_la... |\n",
      "-------------------------------------------------------------------------------------------------------------------------\n",
      "| \u001b[0m1        \u001b[0m | \u001b[0m0.6742   \u001b[0m | \u001b[0m0.9925   \u001b[0m | \u001b[0m0.7763   \u001b[0m | \u001b[0m0.04154  \u001b[0m | \u001b[0m255.9    \u001b[0m | \u001b[0m36.28    \u001b[0m | \u001b[0m0.06809  \u001b[0m | \u001b[0m39.53    \u001b[0m | \u001b[0m30.07    \u001b[0m |\n",
      "| \u001b[95m2        \u001b[0m | \u001b[95m0.7148   \u001b[0m | \u001b[95m0.9664   \u001b[0m | \u001b[95m0.7346   \u001b[0m | \u001b[95m0.08419  \u001b[0m | \u001b[95m593.1    \u001b[0m | \u001b[95m76.23    \u001b[0m | \u001b[95m0.03262  \u001b[0m | \u001b[95m14.98    \u001b[0m | \u001b[95m25.86    \u001b[0m |\n",
      "| \u001b[95m3        \u001b[0m | \u001b[95m0.7232   \u001b[0m | \u001b[95m0.985    \u001b[0m | \u001b[95m0.9701   \u001b[0m | \u001b[95m0.0345   \u001b[0m | \u001b[95m3.547e+03\u001b[0m | \u001b[95m118.4    \u001b[0m | \u001b[95m0.06032  \u001b[0m | \u001b[95m29.6     \u001b[0m | \u001b[95m37.1     \u001b[0m |\n",
      "| \u001b[95m4        \u001b[0m | \u001b[95m0.7754   \u001b[0m | \u001b[95m0.9902   \u001b[0m | \u001b[95m0.7364   \u001b[0m | \u001b[95m0.2278   \u001b[0m | \u001b[95m2.887e+03\u001b[0m | \u001b[95m90.43    \u001b[0m | \u001b[95m0.03711  \u001b[0m | \u001b[95m3.331    \u001b[0m | \u001b[95m8.154    \u001b[0m |\n",
      "| \u001b[0m5        \u001b[0m | \u001b[0m0.7441   \u001b[0m | \u001b[0m0.9566   \u001b[0m | \u001b[0m0.8902   \u001b[0m | \u001b[0m0.1116   \u001b[0m | \u001b[0m4.924e+03\u001b[0m | \u001b[0m54.39    \u001b[0m | \u001b[0m0.03295  \u001b[0m | \u001b[0m10.82    \u001b[0m | \u001b[0m42.19    \u001b[0m |\n",
      "| \u001b[0m6        \u001b[0m | \u001b[0m0.7427   \u001b[0m | \u001b[0m0.987    \u001b[0m | \u001b[0m0.7422   \u001b[0m | \u001b[0m0.2165   \u001b[0m | \u001b[0m4.916e+03\u001b[0m | \u001b[0m50.45    \u001b[0m | \u001b[0m0.04188  \u001b[0m | \u001b[0m19.53    \u001b[0m | \u001b[0m43.98    \u001b[0m |\n",
      "| \u001b[0m7        \u001b[0m | \u001b[0m0.7737   \u001b[0m | \u001b[0m0.9812   \u001b[0m | \u001b[0m0.8463   \u001b[0m | \u001b[0m0.237    \u001b[0m | \u001b[0m2.58e+03 \u001b[0m | \u001b[0m60.42    \u001b[0m | \u001b[0m0.07007  \u001b[0m | \u001b[0m3.087    \u001b[0m | \u001b[0m0.2282   \u001b[0m |\n",
      "| \u001b[0m8        \u001b[0m | \u001b[0m0.7178   \u001b[0m | \u001b[0m0.9829   \u001b[0m | \u001b[0m0.8341   \u001b[0m | \u001b[0m0.2219   \u001b[0m | \u001b[0m1.996e+03\u001b[0m | \u001b[0m107.2    \u001b[0m | \u001b[0m0.0201   \u001b[0m | \u001b[0m38.96    \u001b[0m | \u001b[0m46.67    \u001b[0m |\n",
      "| \u001b[0m9        \u001b[0m | \u001b[0m0.6866   \u001b[0m | \u001b[0m0.996    \u001b[0m | \u001b[0m0.9168   \u001b[0m | \u001b[0m0.02277  \u001b[0m | \u001b[0m1.221e+03\u001b[0m | \u001b[0m16.71    \u001b[0m | \u001b[0m0.0925   \u001b[0m | \u001b[0m5.051    \u001b[0m | \u001b[0m12.16    \u001b[0m |\n",
      "| \u001b[0m10       \u001b[0m | \u001b[0m0.7018   \u001b[0m | \u001b[0m0.999    \u001b[0m | \u001b[0m0.99     \u001b[0m | \u001b[0m0.25     \u001b[0m | \u001b[0m2.748e+03\u001b[0m | \u001b[0m10.0     \u001b[0m | \u001b[0m0.01     \u001b[0m | \u001b[0m50.0     \u001b[0m | \u001b[0m50.0     \u001b[0m |\n",
      "| \u001b[95m11       \u001b[0m | \u001b[95m0.7785   \u001b[0m | \u001b[95m0.9612   \u001b[0m | \u001b[95m0.7704   \u001b[0m | \u001b[95m0.1516   \u001b[0m | \u001b[95m2.962e+03\u001b[0m | \u001b[95m108.1    \u001b[0m | \u001b[95m0.09162  \u001b[0m | \u001b[95m0.2772   \u001b[0m | \u001b[95m14.93    \u001b[0m |\n",
      "| \u001b[0m12       \u001b[0m | \u001b[0m0.7477   \u001b[0m | \u001b[0m0.9671   \u001b[0m | \u001b[0m0.9527   \u001b[0m | \u001b[0m0.1362   \u001b[0m | \u001b[0m4.917e+03\u001b[0m | \u001b[0m51.44    \u001b[0m | \u001b[0m0.07124  \u001b[0m | \u001b[0m12.29    \u001b[0m | \u001b[0m48.68    \u001b[0m |\n",
      "| \u001b[0m13       \u001b[0m | \u001b[0m0.762    \u001b[0m | \u001b[0m0.9739   \u001b[0m | \u001b[0m0.7841   \u001b[0m | \u001b[0m0.1053   \u001b[0m | \u001b[0m2.584e+03\u001b[0m | \u001b[0m70.2     \u001b[0m | \u001b[0m0.0944   \u001b[0m | \u001b[0m5.089    \u001b[0m | \u001b[0m3.459    \u001b[0m |\n",
      "| \u001b[0m14       \u001b[0m | \u001b[0m0.7258   \u001b[0m | \u001b[0m0.95     \u001b[0m | \u001b[0m0.99     \u001b[0m | \u001b[0m0.25     \u001b[0m | \u001b[0m2.533e+03\u001b[0m | \u001b[0m10.0     \u001b[0m | \u001b[0m0.01     \u001b[0m | \u001b[0m0.0      \u001b[0m | \u001b[0m0.0      \u001b[0m |\n",
      "| \u001b[0m15       \u001b[0m | \u001b[0m0.7587   \u001b[0m | \u001b[0m0.9708   \u001b[0m | \u001b[0m0.7849   \u001b[0m | \u001b[0m0.1335   \u001b[0m | \u001b[0m2.936e+03\u001b[0m | \u001b[0m61.99    \u001b[0m | \u001b[0m0.05415  \u001b[0m | \u001b[0m5.879    \u001b[0m | \u001b[0m7.473    \u001b[0m |\n",
      "=========================================================================================================================\n"
     ]
    }
   ],
   "source": [
    "# байесовский оптимизатор не работает с категориальными значениями, поэтому для \n",
    "# каждого типа бустинга будет проводится своя оптимизация гиперпараметров\n",
    "\n",
    "best_score, best_parameters = 0.0, dict()\n",
    "for boosting_type in ('gbdt', 'goss'):\n",
    "\n",
    "    print(f'boosting_type = {boosting_type}')\n",
    "    optimizer = BayesianOptimization(\n",
    "        partial(optimize_lightgbm, boosting_type=boosting_type), \n",
    "        optimizing_parameters, random_state=128)\n",
    "    optimizer.maximize(init_points=5, n_iter=10)\n",
    "    \n",
    "    if best_score < optimizer.max['target']:\n",
    "        best_score = optimizer.max['target']\n",
    "        best_parameters.update(optimizer.max['params'])\n",
    "        best_parameters['boosting_type'] = boosting_type"
   ]
  },
  {
   "cell_type": "code",
   "execution_count": 118,
   "metadata": {},
   "outputs": [
    {
     "name": "stdout",
     "output_type": "stream",
     "text": [
      "Лучшее значение метрики ROC-AUC=0.7795048938778937 при параметрах:\n",
      "\n",
      "constant_dropper_tol = 0.9674795421279127\n",
      "correlated_dropper_threshold = 0.8352159085608202\n",
      "learning_rate = 0.21171160636863387\n",
      "n_estimators = 2870.2316691849305\n",
      "num_leaves = 115.37486501445129\n",
      "rare_encoder_tol = 0.02426387946925647\n",
      "reg_alpha = 3.43652345661305\n",
      "reg_lambda = 8.69590410537937\n",
      "boosting_type = gbdt\n"
     ]
    }
   ],
   "source": [
    "print(f'Лучшее значение метрики ROC-AUC={best_score} при параметрах:\\n')\n",
    "for param, value in best_parameters.items():\n",
    "    print(f'{param} = {value}')"
   ]
  },
  {
   "cell_type": "markdown",
   "metadata": {},
   "source": [
    "# Запуск модели с лучшими параметрами LGBMClassifier"
   ]
  },
  {
   "cell_type": "code",
   "execution_count": 119,
   "metadata": {},
   "outputs": [],
   "source": [
    "final_pipeline = Pipeline(steps=[\n",
    "\n",
    "    # Создание дополнительных признаков и\n",
    "    # Преобразования численных переменных\n",
    "    ('normalization', YeoJohnsonTransformer()), \n",
    "    ('outlier_remover', Winsorizer()), \n",
    "    ('scaler', SklearnTransformerWrapper(StandardScaler())), \n",
    "\n",
    "\n",
    "    # Удаление дубликатов и коррелируемых признаков\n",
    "    ('constant_dropper', DropConstantFeatures(tol=0.967479542127)), \n",
    "    ('duplicated_dropper', DropDuplicateFeatures()), \n",
    "    ('correlated_dropper', DropCorrelatedFeatures(threshold=0.8352159085608)), \n",
    "\n",
    "    # Лучшая модель с оптимизированными гиперпараметрами\n",
    "    ('model', LGBMClassifier(\n",
    "        random_state=128, learning_rate=0.2117116063, boosting_type='gbdt', \n",
    "        n_estimators=2870, reg_lambda=8.695904105, reg_alpha=3.43652345, num_leaves=115)), \n",
    "    \n",
    "])"
   ]
  },
  {
   "cell_type": "markdown",
   "metadata": {},
   "source": [
    "Метрики модели\n",
    "Для оценки метрик модели обучим её на объектах тренировочной и тествоой выборках и сделаем предсказания на тестовых данных.\n",
    "\n",
    "Целевая метрика roc-auc=0.88 (для пресказанных классов) выбранной модели превосходит 0.65, а значит, цель работы выполнена.\n",
    "\n",
    "Хотя метрика f1=0.41 довольно низкая, что неудивительно при большом количестве неверно классифицированных объектов нулевого класса.\n",
    "\n",
    "У модели наблюдается совсем небольшое переобучение."
   ]
  },
  {
   "cell_type": "code",
   "execution_count": 120,
   "metadata": {},
   "outputs": [],
   "source": [
    "final_pipeline.fit(X, y);"
   ]
  },
  {
   "cell_type": "code",
   "execution_count": 121,
   "metadata": {},
   "outputs": [
    {
     "name": "stdout",
     "output_type": "stream",
     "text": [
      "Лучший порог перевода вероятностей в класс: 0.07882023959365277\n"
     ]
    }
   ],
   "source": [
    "test_proba = final_pipeline.predict_proba(x_test)[:, 1]\n",
    "best_threshold = find_best_threshold(y_test, test_proba)\n",
    "test_prediction = (test_proba > best_threshold).astype(int)\n",
    "\n",
    "print(f'Лучший порог перевода вероятностей в класс: {best_threshold}')"
   ]
  },
  {
   "cell_type": "code",
   "execution_count": 122,
   "metadata": {},
   "outputs": [
    {
     "name": "stdout",
     "output_type": "stream",
     "text": [
      "Метрики лучшей модели на обучающей выборке:\n",
      "Порог перевода вероятностей в классы: 0.07882023959365277\n",
      "0.9580821643503303 - roc_auc на вероятностях\n",
      "\n",
      "0.88851892 - roc_auc\n",
      "0.86714665 - accuracy\n",
      "0.27513440 - precision\n",
      "0.91244258 - recall\n",
      "0.42278411 - f1\n",
      "\n",
      "prediction|    0     |    1     \n",
      "true label|          |          \n",
      "--------------------------------\n",
      "         0|    785209|    122972\n",
      "         1|      4479|     46676\n"
     ]
    }
   ],
   "source": [
    "print(f'Метрики лучшей модели на обучающей выборке:')\n",
    "print_metrics(final_pipeline, X, y, best_threshold)"
   ]
  },
  {
   "cell_type": "code",
   "execution_count": 124,
   "metadata": {
    "scrolled": false
   },
   "outputs": [
    {
     "name": "stdout",
     "output_type": "stream",
     "text": [
      "Метрики лучшей модели на тестовой выборке:\n",
      "Порог перевода вероятностей в классы: 0.07882023959365277\n",
      "0.9585447057897037 - roc_auc на вероятностях\n",
      "\n",
      "0.88827334 - roc_auc\n",
      "0.86697753 - accuracy\n",
      "0.27231730 - precision\n",
      "0.91207704 - recall\n",
      "0.41941159 - f1\n",
      "\n",
      "prediction|    0     |    1     \n",
      "true label|          |          \n",
      "--------------------------------\n",
      "         0|    235689|     36951\n",
      "         1|      1333|     13828\n",
      "\n"
     ]
    },
    {
     "data": {
      "image/png": "[encoded data removed]",
      "text/plain": [
       "<Figure size 700x400 with 1 Axes>"
      ]
     },
     "metadata": {},
     "output_type": "display_data"
    }
   ],
   "source": [
    "import matplotlib.pyplot as plt\n",
    "print(f'Метрики лучшей модели на тестовой выборке:')\n",
    "print_metrics(\n",
    "    final_pipeline, x_test, y_test, best_threshold, show_roc_curve=True)"
   ]
  },
  {
   "cell_type": "code",
   "execution_count": 203,
   "metadata": {},
   "outputs": [],
   "source": [
    "final_model = final_pipeline.named_steps['model']\n",
    "final_preprocessor = final_pipeline.set_params(model=None)\n",
    "sessions_preprocessed = final_preprocessor.fit_transform(df_session)"
   ]
  },
  {
   "cell_type": "code",
   "execution_count": 204,
   "metadata": {},
   "outputs": [
    {
     "data": {
      "text/plain": [
       "0"
      ]
     },
     "execution_count": 204,
     "metadata": {},
     "output_type": "execute_result"
    }
   ],
   "source": [
    "sessions_preprocessed.duplicated().sum()\n",
    "sessions_preprocessed = sessions_preprocessed.drop_duplicates()\n",
    "sessions_preprocessed.duplicated().sum()"
   ]
  },
  {
   "cell_type": "code",
   "execution_count": 206,
   "metadata": {},
   "outputs": [
    {
     "data": {
      "text/html": [
       "<div>\n",
       "<style scoped>\n",
       "    .dataframe tbody tr th:only-of-type {\n",
       "        vertical-align: middle;\n",
       "    }\n",
       "\n",
       "    .dataframe tbody tr th {\n",
       "        vertical-align: top;\n",
       "    }\n",
       "\n",
       "    .dataframe thead th {\n",
       "        text-align: right;\n",
       "    }\n",
       "</style>\n",
       "<table border=\"1\" class=\"dataframe\">\n",
       "  <thead>\n",
       "    <tr style=\"text-align: right;\">\n",
       "      <th></th>\n",
       "      <th>target</th>\n",
       "      <th>visit_date_weekday</th>\n",
       "      <th>visit_date_month</th>\n",
       "      <th>visit_date_day</th>\n",
       "      <th>visit_time_hour</th>\n",
       "      <th>device_screen_width</th>\n",
       "      <th>device_screen_height</th>\n",
       "      <th>geo_city_distance_from_moscow</th>\n",
       "      <th>x1_lada-vaz</th>\n",
       "      <th>x1_mercedes-benz</th>\n",
       "      <th>...</th>\n",
       "      <th>x6_500-1000 km</th>\n",
       "      <th>x6_&lt; 100 km</th>\n",
       "      <th>x6_&gt;= 3000 km</th>\n",
       "      <th>x6_moscow</th>\n",
       "      <th>x6_no distance</th>\n",
       "      <th>x7_Android Webview</th>\n",
       "      <th>x7_Chrome</th>\n",
       "      <th>x7_Safari</th>\n",
       "      <th>x7_Safari (in-app)</th>\n",
       "      <th>x7_YaBrowser</th>\n",
       "    </tr>\n",
       "  </thead>\n",
       "  <tbody>\n",
       "    <tr>\n",
       "      <th>0</th>\n",
       "      <td>0</td>\n",
       "      <td>-0.904827</td>\n",
       "      <td>1.246322</td>\n",
       "      <td>1.244617</td>\n",
       "      <td>-1.801552</td>\n",
       "      <td>-0.754548</td>\n",
       "      <td>-0.984540</td>\n",
       "      <td>1.942253</td>\n",
       "      <td>-0.219991</td>\n",
       "      <td>-0.254124</td>\n",
       "      <td>...</td>\n",
       "      <td>-0.560765</td>\n",
       "      <td>-0.273021</td>\n",
       "      <td>4.921227</td>\n",
       "      <td>-0.737741</td>\n",
       "      <td>-0.270494</td>\n",
       "      <td>-0.190734</td>\n",
       "      <td>0.965413</td>\n",
       "      <td>-0.575790</td>\n",
       "      <td>-0.219585</td>\n",
       "      <td>-0.316636</td>\n",
       "    </tr>\n",
       "    <tr>\n",
       "      <th>1</th>\n",
       "      <td>0</td>\n",
       "      <td>1.049143</td>\n",
       "      <td>-1.831314</td>\n",
       "      <td>1.351174</td>\n",
       "      <td>-1.383109</td>\n",
       "      <td>-0.518695</td>\n",
       "      <td>-0.424352</td>\n",
       "      <td>-0.932322</td>\n",
       "      <td>-0.219991</td>\n",
       "      <td>-0.254124</td>\n",
       "      <td>...</td>\n",
       "      <td>-0.560765</td>\n",
       "      <td>-0.273021</td>\n",
       "      <td>-0.203201</td>\n",
       "      <td>1.355488</td>\n",
       "      <td>-0.270494</td>\n",
       "      <td>-0.190734</td>\n",
       "      <td>0.965413</td>\n",
       "      <td>-0.575790</td>\n",
       "      <td>-0.219585</td>\n",
       "      <td>-0.316636</td>\n",
       "    </tr>\n",
       "    <tr>\n",
       "      <th>2</th>\n",
       "      <td>0</td>\n",
       "      <td>-1.594924</td>\n",
       "      <td>-1.831314</td>\n",
       "      <td>1.563029</td>\n",
       "      <td>-0.298090</td>\n",
       "      <td>-0.644381</td>\n",
       "      <td>-0.219227</td>\n",
       "      <td>0.575484</td>\n",
       "      <td>-0.219991</td>\n",
       "      <td>-0.254124</td>\n",
       "      <td>...</td>\n",
       "      <td>1.783277</td>\n",
       "      <td>-0.273021</td>\n",
       "      <td>-0.203201</td>\n",
       "      <td>-0.737741</td>\n",
       "      <td>-0.270494</td>\n",
       "      <td>-0.190734</td>\n",
       "      <td>-1.035826</td>\n",
       "      <td>1.736743</td>\n",
       "      <td>-0.219585</td>\n",
       "      <td>-0.316636</td>\n",
       "    </tr>\n",
       "    <tr>\n",
       "      <th>3</th>\n",
       "      <td>0</td>\n",
       "      <td>0.166218</td>\n",
       "      <td>1.246322</td>\n",
       "      <td>1.457307</td>\n",
       "      <td>-0.932523</td>\n",
       "      <td>0.533790</td>\n",
       "      <td>1.205230</td>\n",
       "      <td>0.575484</td>\n",
       "      <td>-0.219991</td>\n",
       "      <td>-0.254124</td>\n",
       "      <td>...</td>\n",
       "      <td>1.783277</td>\n",
       "      <td>-0.273021</td>\n",
       "      <td>-0.203201</td>\n",
       "      <td>-0.737741</td>\n",
       "      <td>-0.270494</td>\n",
       "      <td>-0.190734</td>\n",
       "      <td>-1.035826</td>\n",
       "      <td>-0.575790</td>\n",
       "      <td>-0.219585</td>\n",
       "      <td>3.158204</td>\n",
       "    </tr>\n",
       "    <tr>\n",
       "      <th>4</th>\n",
       "      <td>0</td>\n",
       "      <td>-1.594924</td>\n",
       "      <td>-1.402411</td>\n",
       "      <td>-0.537291</td>\n",
       "      <td>0.877642</td>\n",
       "      <td>-0.754548</td>\n",
       "      <td>-1.747727</td>\n",
       "      <td>0.575484</td>\n",
       "      <td>-0.219991</td>\n",
       "      <td>-0.254124</td>\n",
       "      <td>...</td>\n",
       "      <td>1.783277</td>\n",
       "      <td>-0.273021</td>\n",
       "      <td>-0.203201</td>\n",
       "      <td>-0.737741</td>\n",
       "      <td>-0.270494</td>\n",
       "      <td>-0.190734</td>\n",
       "      <td>0.965413</td>\n",
       "      <td>-0.575790</td>\n",
       "      <td>-0.219585</td>\n",
       "      <td>-0.316636</td>\n",
       "    </tr>\n",
       "    <tr>\n",
       "      <th>...</th>\n",
       "      <td>...</td>\n",
       "      <td>...</td>\n",
       "      <td>...</td>\n",
       "      <td>...</td>\n",
       "      <td>...</td>\n",
       "      <td>...</td>\n",
       "      <td>...</td>\n",
       "      <td>...</td>\n",
       "      <td>...</td>\n",
       "      <td>...</td>\n",
       "      <td>...</td>\n",
       "      <td>...</td>\n",
       "      <td>...</td>\n",
       "      <td>...</td>\n",
       "      <td>...</td>\n",
       "      <td>...</td>\n",
       "      <td>...</td>\n",
       "      <td>...</td>\n",
       "      <td>...</td>\n",
       "      <td>...</td>\n",
       "      <td>...</td>\n",
       "    </tr>\n",
       "    <tr>\n",
       "      <th>1128595</th>\n",
       "      <td>0</td>\n",
       "      <td>1.049143</td>\n",
       "      <td>-0.660944</td>\n",
       "      <td>-1.524850</td>\n",
       "      <td>0.534627</td>\n",
       "      <td>1.789843</td>\n",
       "      <td>1.476982</td>\n",
       "      <td>-0.866823</td>\n",
       "      <td>-0.219991</td>\n",
       "      <td>-0.254124</td>\n",
       "      <td>...</td>\n",
       "      <td>-0.560765</td>\n",
       "      <td>3.662715</td>\n",
       "      <td>-0.203201</td>\n",
       "      <td>-0.737741</td>\n",
       "      <td>-0.270494</td>\n",
       "      <td>-0.190734</td>\n",
       "      <td>0.965413</td>\n",
       "      <td>-0.575790</td>\n",
       "      <td>-0.219585</td>\n",
       "      <td>-0.316636</td>\n",
       "    </tr>\n",
       "    <tr>\n",
       "      <th>1128596</th>\n",
       "      <td>4</td>\n",
       "      <td>-0.335940</td>\n",
       "      <td>-1.076594</td>\n",
       "      <td>0.922222</td>\n",
       "      <td>1.051017</td>\n",
       "      <td>-0.754548</td>\n",
       "      <td>-0.312859</td>\n",
       "      <td>0.575484</td>\n",
       "      <td>-0.219991</td>\n",
       "      <td>-0.254124</td>\n",
       "      <td>...</td>\n",
       "      <td>1.783277</td>\n",
       "      <td>-0.273021</td>\n",
       "      <td>-0.203201</td>\n",
       "      <td>-0.737741</td>\n",
       "      <td>-0.270494</td>\n",
       "      <td>5.242907</td>\n",
       "      <td>-1.035826</td>\n",
       "      <td>-0.575790</td>\n",
       "      <td>-0.219585</td>\n",
       "      <td>-0.316636</td>\n",
       "    </tr>\n",
       "    <tr>\n",
       "      <th>1128597</th>\n",
       "      <td>0</td>\n",
       "      <td>1.049143</td>\n",
       "      <td>1.246322</td>\n",
       "      <td>-1.524850</td>\n",
       "      <td>-0.777084</td>\n",
       "      <td>-0.580672</td>\n",
       "      <td>0.094966</td>\n",
       "      <td>1.164135</td>\n",
       "      <td>-0.219991</td>\n",
       "      <td>-0.254124</td>\n",
       "      <td>...</td>\n",
       "      <td>-0.560765</td>\n",
       "      <td>-0.273021</td>\n",
       "      <td>-0.203201</td>\n",
       "      <td>-0.737741</td>\n",
       "      <td>-0.270494</td>\n",
       "      <td>-0.190734</td>\n",
       "      <td>0.965413</td>\n",
       "      <td>-0.575790</td>\n",
       "      <td>-0.219585</td>\n",
       "      <td>-0.316636</td>\n",
       "    </tr>\n",
       "    <tr>\n",
       "      <th>1128598</th>\n",
       "      <td>0</td>\n",
       "      <td>1.049143</td>\n",
       "      <td>1.246322</td>\n",
       "      <td>-1.524850</td>\n",
       "      <td>-0.777084</td>\n",
       "      <td>-0.580672</td>\n",
       "      <td>0.094966</td>\n",
       "      <td>1.164135</td>\n",
       "      <td>-0.219991</td>\n",
       "      <td>-0.254124</td>\n",
       "      <td>...</td>\n",
       "      <td>-0.560765</td>\n",
       "      <td>-0.273021</td>\n",
       "      <td>-0.203201</td>\n",
       "      <td>-0.737741</td>\n",
       "      <td>-0.270494</td>\n",
       "      <td>-0.190734</td>\n",
       "      <td>0.965413</td>\n",
       "      <td>-0.575790</td>\n",
       "      <td>-0.219585</td>\n",
       "      <td>-0.316636</td>\n",
       "    </tr>\n",
       "    <tr>\n",
       "      <th>1128599</th>\n",
       "      <td>0</td>\n",
       "      <td>-0.335940</td>\n",
       "      <td>-1.831314</td>\n",
       "      <td>1.030159</td>\n",
       "      <td>-0.932523</td>\n",
       "      <td>-0.539165</td>\n",
       "      <td>0.022017</td>\n",
       "      <td>1.288967</td>\n",
       "      <td>-0.219991</td>\n",
       "      <td>-0.254124</td>\n",
       "      <td>...</td>\n",
       "      <td>-0.560765</td>\n",
       "      <td>-0.273021</td>\n",
       "      <td>-0.203201</td>\n",
       "      <td>-0.737741</td>\n",
       "      <td>-0.270494</td>\n",
       "      <td>-0.190734</td>\n",
       "      <td>-1.035826</td>\n",
       "      <td>1.736743</td>\n",
       "      <td>-0.219585</td>\n",
       "      <td>-0.316636</td>\n",
       "    </tr>\n",
       "  </tbody>\n",
       "</table>\n",
       "<p>840072 rows × 26 columns</p>\n",
       "</div>"
      ],
      "text/plain": [
       "         target  visit_date_weekday  visit_date_month  visit_date_day  \\\n",
       "0             0           -0.904827          1.246322        1.244617   \n",
       "1             0            1.049143         -1.831314        1.351174   \n",
       "2             0           -1.594924         -1.831314        1.563029   \n",
       "3             0            0.166218          1.246322        1.457307   \n",
       "4             0           -1.594924         -1.402411       -0.537291   \n",
       "...         ...                 ...               ...             ...   \n",
       "1128595       0            1.049143         -0.660944       -1.524850   \n",
       "1128596       4           -0.335940         -1.076594        0.922222   \n",
       "1128597       0            1.049143          1.246322       -1.524850   \n",
       "1128598       0            1.049143          1.246322       -1.524850   \n",
       "1128599       0           -0.335940         -1.831314        1.030159   \n",
       "\n",
       "         visit_time_hour  device_screen_width  device_screen_height  \\\n",
       "0              -1.801552            -0.754548             -0.984540   \n",
       "1              -1.383109            -0.518695             -0.424352   \n",
       "2              -0.298090            -0.644381             -0.219227   \n",
       "3              -0.932523             0.533790              1.205230   \n",
       "4               0.877642            -0.754548             -1.747727   \n",
       "...                  ...                  ...                   ...   \n",
       "1128595         0.534627             1.789843              1.476982   \n",
       "1128596         1.051017            -0.754548             -0.312859   \n",
       "1128597        -0.777084            -0.580672              0.094966   \n",
       "1128598        -0.777084            -0.580672              0.094966   \n",
       "1128599        -0.932523            -0.539165              0.022017   \n",
       "\n",
       "         geo_city_distance_from_moscow  x1_lada-vaz  x1_mercedes-benz  ...  \\\n",
       "0                             1.942253    -0.219991         -0.254124  ...   \n",
       "1                            -0.932322    -0.219991         -0.254124  ...   \n",
       "2                             0.575484    -0.219991         -0.254124  ...   \n",
       "3                             0.575484    -0.219991         -0.254124  ...   \n",
       "4                             0.575484    -0.219991         -0.254124  ...   \n",
       "...                                ...          ...               ...  ...   \n",
       "1128595                      -0.866823    -0.219991         -0.254124  ...   \n",
       "1128596                       0.575484    -0.219991         -0.254124  ...   \n",
       "1128597                       1.164135    -0.219991         -0.254124  ...   \n",
       "1128598                       1.164135    -0.219991         -0.254124  ...   \n",
       "1128599                       1.288967    -0.219991         -0.254124  ...   \n",
       "\n",
       "         x6_500-1000 km  x6_< 100 km  x6_>= 3000 km  x6_moscow  \\\n",
       "0             -0.560765    -0.273021       4.921227  -0.737741   \n",
       "1             -0.560765    -0.273021      -0.203201   1.355488   \n",
       "2              1.783277    -0.273021      -0.203201  -0.737741   \n",
       "3              1.783277    -0.273021      -0.203201  -0.737741   \n",
       "4              1.783277    -0.273021      -0.203201  -0.737741   \n",
       "...                 ...          ...            ...        ...   \n",
       "1128595       -0.560765     3.662715      -0.203201  -0.737741   \n",
       "1128596        1.783277    -0.273021      -0.203201  -0.737741   \n",
       "1128597       -0.560765    -0.273021      -0.203201  -0.737741   \n",
       "1128598       -0.560765    -0.273021      -0.203201  -0.737741   \n",
       "1128599       -0.560765    -0.273021      -0.203201  -0.737741   \n",
       "\n",
       "         x6_no distance  x7_Android Webview  x7_Chrome  x7_Safari  \\\n",
       "0             -0.270494           -0.190734   0.965413  -0.575790   \n",
       "1             -0.270494           -0.190734   0.965413  -0.575790   \n",
       "2             -0.270494           -0.190734  -1.035826   1.736743   \n",
       "3             -0.270494           -0.190734  -1.035826  -0.575790   \n",
       "4             -0.270494           -0.190734   0.965413  -0.575790   \n",
       "...                 ...                 ...        ...        ...   \n",
       "1128595       -0.270494           -0.190734   0.965413  -0.575790   \n",
       "1128596       -0.270494            5.242907  -1.035826  -0.575790   \n",
       "1128597       -0.270494           -0.190734   0.965413  -0.575790   \n",
       "1128598       -0.270494           -0.190734   0.965413  -0.575790   \n",
       "1128599       -0.270494           -0.190734  -1.035826   1.736743   \n",
       "\n",
       "         x7_Safari (in-app)  x7_YaBrowser  \n",
       "0                 -0.219585     -0.316636  \n",
       "1                 -0.219585     -0.316636  \n",
       "2                 -0.219585     -0.316636  \n",
       "3                 -0.219585      3.158204  \n",
       "4                 -0.219585     -0.316636  \n",
       "...                     ...           ...  \n",
       "1128595           -0.219585     -0.316636  \n",
       "1128596           -0.219585     -0.316636  \n",
       "1128597           -0.219585     -0.316636  \n",
       "1128598           -0.219585     -0.316636  \n",
       "1128599           -0.219585     -0.316636  \n",
       "\n",
       "[840072 rows x 26 columns]"
      ]
     },
     "execution_count": 206,
     "metadata": {},
     "output_type": "execute_result"
    }
   ],
   "source": [
    "sessions_preprocessed['target']=sessions_preprocessed['target'].astype('int')\n",
    "sessions_preprocessed"
   ]
  },
  {
   "cell_type": "code",
   "execution_count": 207,
   "metadata": {},
   "outputs": [],
   "source": [
    "sessions_preprocessed.loc[sessions_preprocessed['target'] == 4, 'target'] = sessions_preprocessed['target'].apply(lambda x: 1).astype('int')\n"
   ]
  },
  {
   "cell_type": "markdown",
   "metadata": {},
   "source": [
    "# Финальная модель "
   ]
  },
  {
   "cell_type": "code",
   "execution_count": 209,
   "metadata": {},
   "outputs": [],
   "source": [
    "X_new=sessions_preprocessed.drop(['target'], axis=1)\n",
    "y_new=sessions_preprocessed['target']\n",
    "x_train_new, x_test_new, y_train_new, y_test_new = train_test_split(X_new, y_new, test_size=0.3, random_state=40)"
   ]
  },
  {
   "cell_type": "code",
   "execution_count": 210,
   "metadata": {},
   "outputs": [
    {
     "name": "stdout",
     "output_type": "stream",
     "text": [
      "Порог перевода вероятностей в классы: 0.040323906268912746\n",
      "0.7392913465730192 - roc_auc на вероятностях\n",
      "\n",
      "0.67709247 - roc_auc\n",
      "0.67379435 - accuracy\n",
      "0.10757744 - precision\n",
      "0.68079547 - recall\n",
      "0.18579592 - f1\n",
      "\n",
      "prediction|    0     |    1     \n",
      "true label|          |          \n",
      "--------------------------------\n",
      "         0|    160431|     77813\n",
      "         1|      4398|      9380\n"
     ]
    }
   ],
   "source": [
    "lightgbm_best = LGBMClassifier(random_state=128, learning_rate=0.2117116063, boosting_type='gbdt', \n",
    "        n_estimators=2870, reg_lambda=8.695904105, reg_alpha=3.43652345, num_leaves=115)\n",
    "lightgbm_best.fit(x_train_new, y_train_new)\n",
    "print_metrics(lightgbm_best, x_test_new, y_test_new)"
   ]
  },
  {
   "cell_type": "markdown",
   "metadata": {},
   "source": [
    "# Анализ влияния feauture на результаты моделирования\n",
    "В итоге всех преобразований получается 25 признака\n"
   ]
  },
  {
   "cell_type": "code",
   "execution_count": 212,
   "metadata": {},
   "outputs": [
    {
     "data": {
      "text/plain": [
       "count       25.000000\n",
       "mean     13087.200000\n",
       "std      23355.250352\n",
       "min          0.000000\n",
       "25%        171.000000\n",
       "50%        424.000000\n",
       "75%      20993.000000\n",
       "max      66210.000000\n",
       "Name: feature_importances, dtype: float64"
      ]
     },
     "execution_count": 212,
     "metadata": {},
     "output_type": "execute_result"
    }
   ],
   "source": [
    "# выведем features и отсортируем по убыванию, чтобы понять, какие фичи вносят больший результат\n",
    "lightgbm_best.feature_importances_\n",
    "f_imp_list = list(zip(X_new.columns, lightgbm_best.feature_importances_))\n",
    "f_imp_list.sort(key = lambda x: x[1], reverse=True)\n",
    "f_imp_list=pd.DataFrame({\"features\": X_new.columns, \"feature_importances\": lightgbm_best.feature_importances_})\n",
    "f_imp_list['feature_importances'].describe()"
   ]
  },
  {
   "cell_type": "code",
   "execution_count": 213,
   "metadata": {},
   "outputs": [
    {
     "data": {
      "text/plain": [
       "count       24.000000\n",
       "mean     13632.500000\n",
       "std      23694.444407\n",
       "min          2.000000\n",
       "25%        178.500000\n",
       "50%        436.000000\n",
       "75%      21040.000000\n",
       "max      66210.000000\n",
       "Name: feature_importances, dtype: float64"
      ]
     },
     "execution_count": 213,
     "metadata": {},
     "output_type": "execute_result"
    }
   ],
   "source": [
    "# обрежем features, которые имеют вклад 0 в модель, осталось 112 features \n",
    "f_imp_list_cut = f_imp_list.loc[f_imp_list['feature_importances']>0, :]\n",
    "f_imp_list_cut['feature_importances'].describe()"
   ]
  },
  {
   "cell_type": "code",
   "execution_count": 214,
   "metadata": {},
   "outputs": [
    {
     "data": {
      "image/png": "[encoded data removed]",
      "text/plain": [
       "<Figure size 800x700 with 1 Axes>"
      ]
     },
     "metadata": {},
     "output_type": "display_data"
    },
    {
     "data": {
      "text/plain": [
       "<Figure size 800x700 with 0 Axes>"
      ]
     },
     "metadata": {},
     "output_type": "display_data"
    }
   ],
   "source": [
    "## Выведем фичи, значения которых максимально вносят вклад в модель, логично, что это все revenue\n",
    "\n",
    "from jupyterthemes import jtplot\n",
    "\n",
    "jtplot.style(context='notebook', ticks=True, grid=False)\n",
    "f_imp_list_cut = f_imp_list_cut.sort_values('feature_importances', ascending=False) \n",
    "sns.barplot(f_imp_list_cut['feature_importances'], f_imp_list_cut['features']).set(xscale=\"log\")  \n",
    "plt.figure()  \n",
    "plt.show() \n",
    "sns.set (font_scale=0.04)"
   ]
  },
  {
   "cell_type": "markdown",
   "metadata": {},
   "source": [
    "# Сохраним модель"
   ]
  },
  {
   "cell_type": "code",
   "execution_count": 216,
   "metadata": {},
   "outputs": [],
   "source": [
    "import pickle\n",
    "#cериализация модели \n",
    "filename = 'model.pickle'\n",
    "\n",
    "with open(filename, 'wb') as file:\n",
    "  pickle.dump(lightgbm_best, file) \n"
   ]
  },
  {
   "cell_type": "markdown",
   "metadata": {},
   "source": [
    "Выводы\n",
    "\n",
    "Было проверено 10 моделей с гиперпараметрами по умолчанию. В тройке лучших оказались алгоритмы бустинга от sklearn, lightgbm и catboost.\n",
    "\n",
    "В итоге в качестве лучшей модели был выбран LightGBM по следующим причинам:\n",
    "\n",
    "Один из лучших показателей roc_auc.\n",
    "Быстрое обучение.\n",
    "Модель интерпретируема, то есть можно получить показатели важности признаков.\n",
    "Может предсказывать вероятность класса.\n",
    "\n",
    "Качество модели по метрике roc-auc составляет 0.73 (0.67 при предсказании классов). Переобучения нет и цель проекта выполнена - roc-auc > 0.65.\n",
    "\n",
    "Для улучшения качества предсказания можно было бы:\n",
    "\n",
    "Увеличить количество данных. Тестовая выборка пойдёт на дообучение модели, так что может модель будет лучше в конечном итоге.\n",
    "Провести ребалансировку классов. Но если уменьшить выборку с отрицательной целевой переменной, то модель теряет в качестве, а если увеличивать выборку с положительным классом, то модели обучаются слишком долго.\n",
    "Провести более тщательный поиск наилучших гиперпараметров - это займёт много времени, а прирост качества будет небольшим.\n",
    "Провести дополнительную генерацию признаков. Но хорошие идеи придумывать сложно.\n",
    "Попробовать более сложные модели, например, нейронные сети глубокого обучения."
   ]
  }
 ],
 "metadata": {
  "colab": {
   "collapsed_sections": [
    "Lf9ySaQ2N2wh",
    "n5QeE0mS72vw",
    "aK0vbiZKAWXA",
    "UA72aly_AezK",
    "da2l_TxwSnaf",
    "zBYmAgFgOGNj",
    "xyP5XBWrOZf0",
    "_jajoWUvOe_Z",
    "WLLpaEb0bqEx"
   ],
   "provenance": [],
   "toc_visible": true
  },
  "kernelspec": {
   "display_name": "Python 3 (ipykernel)",
   "language": "python",
   "name": "python3"
  },
  "language_info": {
   "codemirror_mode": {
    "name": "ipython",
    "version": 3
   },
   "file_extension": ".py",
   "mimetype": "text/x-python",
   "name": "python",
   "nbconvert_exporter": "python",
   "pygments_lexer": "ipython3",
   "version": "3.9.13"
  }
 },
 "nbformat": 4,
 "nbformat_minor": 1
}
